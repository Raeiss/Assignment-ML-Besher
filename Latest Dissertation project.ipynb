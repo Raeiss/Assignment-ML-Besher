{
  "nbformat": 4,
  "nbformat_minor": 0,
  "metadata": {
    "colab": {
      "name": "Untitled16.ipynb",
      "provenance": [],
      "authorship_tag": "ABX9TyOWxOVUhPRslTTq0m8M+RiZ",
      "include_colab_link": true
    },
    "kernelspec": {
      "name": "python3",
      "display_name": "Python 3"
    },
    "language_info": {
      "name": "python"
    }
  },
  "cells": [
    {
      "cell_type": "markdown",
      "metadata": {
        "id": "view-in-github",
        "colab_type": "text"
      },
      "source": [
        "<a href=\"https://colab.research.google.com/github/Raeiss/Assignment-ML-Besher/blob/main/Latest%20Dissertation%20project.ipynb\" target=\"_parent\"><img src=\"https://colab.research.google.com/assets/colab-badge.svg\" alt=\"Open In Colab\"/></a>"
      ]
    },
    {
      "cell_type": "code",
      "execution_count": 1,
      "metadata": {
        "id": "EBcDZQRPyLaL"
      },
      "outputs": [],
      "source": [
        "# importing required libraries\n",
        "import numpy as np\n",
        "import pandas as pd\n",
        "\n",
        "import seaborn as sns\n",
        "import matplotlib.pyplot as plt\n",
        "\n",
        "import pickle \n",
        "from os import path\n",
        "\n",
        "import warnings\n",
        "warnings.filterwarnings('ignore')\n",
        "\n",
        "from sklearn.preprocessing import MinMaxScaler\n",
        "from sklearn.preprocessing import StandardScaler\n",
        "from sklearn.preprocessing import LabelEncoder\n",
        "\n",
        "from sklearn import metrics\n",
        "from sklearn import preprocessing\n",
        "from sklearn.metrics import accuracy_score\n",
        "from sklearn.model_selection import train_test_split \n",
        "from sklearn.metrics import classification_report\n",
        "\n",
        "from sklearn.svm import SVC\n",
        "from sklearn.linear_model import LinearRegression\n",
        "from sklearn.linear_model import LogisticRegression\n",
        "from sklearn.tree import DecisionTreeClassifier\n",
        "from sklearn.ensemble import RandomForestClassifier\n",
        "from sklearn.neighbors import KNeighborsClassifier\n",
        "from sklearn.neural_network import MLPClassifier"
      ]
    },
    {
      "cell_type": "code",
      "source": [
        "#data = pd.read_csv('/content/UNSW_NB15_testing-set.csv')\n",
        "data = pd.read_csv('/content/UNSW_NB15_testing-set.csv')"
      ],
      "metadata": {
        "id": "o90yv2V1yTi_"
      },
      "execution_count": 2,
      "outputs": []
    },
    {
      "cell_type": "code",
      "source": [
        "data.head(n=5)"
      ],
      "metadata": {
        "colab": {
          "base_uri": "https://localhost:8080/",
          "height": 299
        },
        "id": "2KpBxFZXy2Kd",
        "outputId": "3e8065d0-a363-4ded-d5ba-1299a9b3c07b"
      },
      "execution_count": 19,
      "outputs": [
        {
          "output_type": "execute_result",
          "data": {
            "text/plain": [
              "    id       dur proto service state  spkts  dpkts  sbytes  dbytes  \\\n",
              "3    4  1.681642   tcp     ftp   FIN     12     12     628     770   \n",
              "11  12  2.093085   tcp    smtp   FIN     62     28   56329    2212   \n",
              "15  16  0.000002   udp    snmp   INT      2      0     138       0   \n",
              "17  18  0.393556   tcp    http   FIN     10      8     860    1096   \n",
              "21  22  0.338017   tcp    http   FIN     10      6     998     268   \n",
              "\n",
              "             rate  ...  ct_dst_sport_ltm  ct_dst_src_ltm  is_ftp_login  \\\n",
              "3       13.677108  ...                 1               3             1   \n",
              "11      42.520967  ...                 1               2             0   \n",
              "15  500000.001300  ...                 1               4             0   \n",
              "17      43.195886  ...                 1               2             0   \n",
              "21      44.376468  ...                 1               1             0   \n",
              "\n",
              "    ct_ftp_cmd  ct_flw_http_mthd  ct_src_ltm  ct_srv_dst  is_sm_ips_ports  \\\n",
              "3            1                 0           2           1                0   \n",
              "11           0                 0           1           1                0   \n",
              "15           0                 0           2           1                0   \n",
              "17           0                 1           1           3                0   \n",
              "21           0                 1           2           3                0   \n",
              "\n",
              "    attack_cat  label  \n",
              "3       Normal      0  \n",
              "11      Normal      0  \n",
              "15      Normal      0  \n",
              "17      Normal      0  \n",
              "21      Normal      0  \n",
              "\n",
              "[5 rows x 45 columns]"
            ],
            "text/html": [
              "\n",
              "  <div id=\"df-e3c024e3-4b4e-4248-8a33-b8df07ed0480\">\n",
              "    <div class=\"colab-df-container\">\n",
              "      <div>\n",
              "<style scoped>\n",
              "    .dataframe tbody tr th:only-of-type {\n",
              "        vertical-align: middle;\n",
              "    }\n",
              "\n",
              "    .dataframe tbody tr th {\n",
              "        vertical-align: top;\n",
              "    }\n",
              "\n",
              "    .dataframe thead th {\n",
              "        text-align: right;\n",
              "    }\n",
              "</style>\n",
              "<table border=\"1\" class=\"dataframe\">\n",
              "  <thead>\n",
              "    <tr style=\"text-align: right;\">\n",
              "      <th></th>\n",
              "      <th>id</th>\n",
              "      <th>dur</th>\n",
              "      <th>proto</th>\n",
              "      <th>service</th>\n",
              "      <th>state</th>\n",
              "      <th>spkts</th>\n",
              "      <th>dpkts</th>\n",
              "      <th>sbytes</th>\n",
              "      <th>dbytes</th>\n",
              "      <th>rate</th>\n",
              "      <th>...</th>\n",
              "      <th>ct_dst_sport_ltm</th>\n",
              "      <th>ct_dst_src_ltm</th>\n",
              "      <th>is_ftp_login</th>\n",
              "      <th>ct_ftp_cmd</th>\n",
              "      <th>ct_flw_http_mthd</th>\n",
              "      <th>ct_src_ltm</th>\n",
              "      <th>ct_srv_dst</th>\n",
              "      <th>is_sm_ips_ports</th>\n",
              "      <th>attack_cat</th>\n",
              "      <th>label</th>\n",
              "    </tr>\n",
              "  </thead>\n",
              "  <tbody>\n",
              "    <tr>\n",
              "      <th>3</th>\n",
              "      <td>4</td>\n",
              "      <td>1.681642</td>\n",
              "      <td>tcp</td>\n",
              "      <td>ftp</td>\n",
              "      <td>FIN</td>\n",
              "      <td>12</td>\n",
              "      <td>12</td>\n",
              "      <td>628</td>\n",
              "      <td>770</td>\n",
              "      <td>13.677108</td>\n",
              "      <td>...</td>\n",
              "      <td>1</td>\n",
              "      <td>3</td>\n",
              "      <td>1</td>\n",
              "      <td>1</td>\n",
              "      <td>0</td>\n",
              "      <td>2</td>\n",
              "      <td>1</td>\n",
              "      <td>0</td>\n",
              "      <td>Normal</td>\n",
              "      <td>0</td>\n",
              "    </tr>\n",
              "    <tr>\n",
              "      <th>11</th>\n",
              "      <td>12</td>\n",
              "      <td>2.093085</td>\n",
              "      <td>tcp</td>\n",
              "      <td>smtp</td>\n",
              "      <td>FIN</td>\n",
              "      <td>62</td>\n",
              "      <td>28</td>\n",
              "      <td>56329</td>\n",
              "      <td>2212</td>\n",
              "      <td>42.520967</td>\n",
              "      <td>...</td>\n",
              "      <td>1</td>\n",
              "      <td>2</td>\n",
              "      <td>0</td>\n",
              "      <td>0</td>\n",
              "      <td>0</td>\n",
              "      <td>1</td>\n",
              "      <td>1</td>\n",
              "      <td>0</td>\n",
              "      <td>Normal</td>\n",
              "      <td>0</td>\n",
              "    </tr>\n",
              "    <tr>\n",
              "      <th>15</th>\n",
              "      <td>16</td>\n",
              "      <td>0.000002</td>\n",
              "      <td>udp</td>\n",
              "      <td>snmp</td>\n",
              "      <td>INT</td>\n",
              "      <td>2</td>\n",
              "      <td>0</td>\n",
              "      <td>138</td>\n",
              "      <td>0</td>\n",
              "      <td>500000.001300</td>\n",
              "      <td>...</td>\n",
              "      <td>1</td>\n",
              "      <td>4</td>\n",
              "      <td>0</td>\n",
              "      <td>0</td>\n",
              "      <td>0</td>\n",
              "      <td>2</td>\n",
              "      <td>1</td>\n",
              "      <td>0</td>\n",
              "      <td>Normal</td>\n",
              "      <td>0</td>\n",
              "    </tr>\n",
              "    <tr>\n",
              "      <th>17</th>\n",
              "      <td>18</td>\n",
              "      <td>0.393556</td>\n",
              "      <td>tcp</td>\n",
              "      <td>http</td>\n",
              "      <td>FIN</td>\n",
              "      <td>10</td>\n",
              "      <td>8</td>\n",
              "      <td>860</td>\n",
              "      <td>1096</td>\n",
              "      <td>43.195886</td>\n",
              "      <td>...</td>\n",
              "      <td>1</td>\n",
              "      <td>2</td>\n",
              "      <td>0</td>\n",
              "      <td>0</td>\n",
              "      <td>1</td>\n",
              "      <td>1</td>\n",
              "      <td>3</td>\n",
              "      <td>0</td>\n",
              "      <td>Normal</td>\n",
              "      <td>0</td>\n",
              "    </tr>\n",
              "    <tr>\n",
              "      <th>21</th>\n",
              "      <td>22</td>\n",
              "      <td>0.338017</td>\n",
              "      <td>tcp</td>\n",
              "      <td>http</td>\n",
              "      <td>FIN</td>\n",
              "      <td>10</td>\n",
              "      <td>6</td>\n",
              "      <td>998</td>\n",
              "      <td>268</td>\n",
              "      <td>44.376468</td>\n",
              "      <td>...</td>\n",
              "      <td>1</td>\n",
              "      <td>1</td>\n",
              "      <td>0</td>\n",
              "      <td>0</td>\n",
              "      <td>1</td>\n",
              "      <td>2</td>\n",
              "      <td>3</td>\n",
              "      <td>0</td>\n",
              "      <td>Normal</td>\n",
              "      <td>0</td>\n",
              "    </tr>\n",
              "  </tbody>\n",
              "</table>\n",
              "<p>5 rows × 45 columns</p>\n",
              "</div>\n",
              "      <button class=\"colab-df-convert\" onclick=\"convertToInteractive('df-e3c024e3-4b4e-4248-8a33-b8df07ed0480')\"\n",
              "              title=\"Convert this dataframe to an interactive table.\"\n",
              "              style=\"display:none;\">\n",
              "        \n",
              "  <svg xmlns=\"http://www.w3.org/2000/svg\" height=\"24px\"viewBox=\"0 0 24 24\"\n",
              "       width=\"24px\">\n",
              "    <path d=\"M0 0h24v24H0V0z\" fill=\"none\"/>\n",
              "    <path d=\"M18.56 5.44l.94 2.06.94-2.06 2.06-.94-2.06-.94-.94-2.06-.94 2.06-2.06.94zm-11 1L8.5 8.5l.94-2.06 2.06-.94-2.06-.94L8.5 2.5l-.94 2.06-2.06.94zm10 10l.94 2.06.94-2.06 2.06-.94-2.06-.94-.94-2.06-.94 2.06-2.06.94z\"/><path d=\"M17.41 7.96l-1.37-1.37c-.4-.4-.92-.59-1.43-.59-.52 0-1.04.2-1.43.59L10.3 9.45l-7.72 7.72c-.78.78-.78 2.05 0 2.83L4 21.41c.39.39.9.59 1.41.59.51 0 1.02-.2 1.41-.59l7.78-7.78 2.81-2.81c.8-.78.8-2.07 0-2.86zM5.41 20L4 18.59l7.72-7.72 1.47 1.35L5.41 20z\"/>\n",
              "  </svg>\n",
              "      </button>\n",
              "      \n",
              "  <style>\n",
              "    .colab-df-container {\n",
              "      display:flex;\n",
              "      flex-wrap:wrap;\n",
              "      gap: 12px;\n",
              "    }\n",
              "\n",
              "    .colab-df-convert {\n",
              "      background-color: #E8F0FE;\n",
              "      border: none;\n",
              "      border-radius: 50%;\n",
              "      cursor: pointer;\n",
              "      display: none;\n",
              "      fill: #1967D2;\n",
              "      height: 32px;\n",
              "      padding: 0 0 0 0;\n",
              "      width: 32px;\n",
              "    }\n",
              "\n",
              "    .colab-df-convert:hover {\n",
              "      background-color: #E2EBFA;\n",
              "      box-shadow: 0px 1px 2px rgba(60, 64, 67, 0.3), 0px 1px 3px 1px rgba(60, 64, 67, 0.15);\n",
              "      fill: #174EA6;\n",
              "    }\n",
              "\n",
              "    [theme=dark] .colab-df-convert {\n",
              "      background-color: #3B4455;\n",
              "      fill: #D2E3FC;\n",
              "    }\n",
              "\n",
              "    [theme=dark] .colab-df-convert:hover {\n",
              "      background-color: #434B5C;\n",
              "      box-shadow: 0px 1px 3px 1px rgba(0, 0, 0, 0.15);\n",
              "      filter: drop-shadow(0px 1px 2px rgba(0, 0, 0, 0.3));\n",
              "      fill: #FFFFFF;\n",
              "    }\n",
              "  </style>\n",
              "\n",
              "      <script>\n",
              "        const buttonEl =\n",
              "          document.querySelector('#df-e3c024e3-4b4e-4248-8a33-b8df07ed0480 button.colab-df-convert');\n",
              "        buttonEl.style.display =\n",
              "          google.colab.kernel.accessAllowed ? 'block' : 'none';\n",
              "\n",
              "        async function convertToInteractive(key) {\n",
              "          const element = document.querySelector('#df-e3c024e3-4b4e-4248-8a33-b8df07ed0480');\n",
              "          const dataTable =\n",
              "            await google.colab.kernel.invokeFunction('convertToInteractive',\n",
              "                                                     [key], {});\n",
              "          if (!dataTable) return;\n",
              "\n",
              "          const docLinkHtml = 'Like what you see? Visit the ' +\n",
              "            '<a target=\"_blank\" href=https://colab.research.google.com/notebooks/data_table.ipynb>data table notebook</a>'\n",
              "            + ' to learn more about interactive tables.';\n",
              "          element.innerHTML = '';\n",
              "          dataTable['output_type'] = 'display_data';\n",
              "          await google.colab.output.renderOutput(dataTable, element);\n",
              "          const docLink = document.createElement('div');\n",
              "          docLink.innerHTML = docLinkHtml;\n",
              "          element.appendChild(docLink);\n",
              "        }\n",
              "      </script>\n",
              "    </div>\n",
              "  </div>\n",
              "  "
            ]
          },
          "metadata": {},
          "execution_count": 19
        }
      ]
    },
    {
      "cell_type": "code",
      "source": [
        "data.info()"
      ],
      "metadata": {
        "colab": {
          "base_uri": "https://localhost:8080/"
        },
        "id": "0-HSAYAsy84-",
        "outputId": "3e9d9910-1920-4704-8610-acf648010b70"
      },
      "execution_count": 20,
      "outputs": [
        {
          "output_type": "stream",
          "name": "stdout",
          "text": [
            "<class 'pandas.core.frame.DataFrame'>\n",
            "Int64Index: 3833 entries, 3 to 9999\n",
            "Data columns (total 45 columns):\n",
            " #   Column             Non-Null Count  Dtype  \n",
            "---  ------             --------------  -----  \n",
            " 0   id                 3833 non-null   int64  \n",
            " 1   dur                3833 non-null   float64\n",
            " 2   proto              3833 non-null   object \n",
            " 3   service            3833 non-null   object \n",
            " 4   state              3833 non-null   object \n",
            " 5   spkts              3833 non-null   int64  \n",
            " 6   dpkts              3833 non-null   int64  \n",
            " 7   sbytes             3833 non-null   int64  \n",
            " 8   dbytes             3833 non-null   int64  \n",
            " 9   rate               3833 non-null   float64\n",
            " 10  sttl               3833 non-null   int64  \n",
            " 11  dttl               3833 non-null   int64  \n",
            " 12  sload              3833 non-null   float64\n",
            " 13  dload              3833 non-null   float64\n",
            " 14  sloss              3833 non-null   int64  \n",
            " 15  dloss              3833 non-null   int64  \n",
            " 16  sinpkt             3833 non-null   float64\n",
            " 17  dinpkt             3833 non-null   float64\n",
            " 18  sjit               3833 non-null   float64\n",
            " 19  djit               3833 non-null   float64\n",
            " 20  swin               3833 non-null   int64  \n",
            " 21  stcpb              3833 non-null   int64  \n",
            " 22  dtcpb              3833 non-null   int64  \n",
            " 23  dwin               3833 non-null   int64  \n",
            " 24  tcprtt             3833 non-null   float64\n",
            " 25  synack             3833 non-null   float64\n",
            " 26  ackdat             3833 non-null   float64\n",
            " 27  smean              3833 non-null   int64  \n",
            " 28  dmean              3833 non-null   int64  \n",
            " 29  trans_depth        3833 non-null   int64  \n",
            " 30  response_body_len  3833 non-null   int64  \n",
            " 31  ct_srv_src         3833 non-null   int64  \n",
            " 32  ct_state_ttl       3833 non-null   int64  \n",
            " 33  ct_dst_ltm         3833 non-null   int64  \n",
            " 34  ct_src_dport_ltm   3833 non-null   int64  \n",
            " 35  ct_dst_sport_ltm   3833 non-null   int64  \n",
            " 36  ct_dst_src_ltm     3833 non-null   int64  \n",
            " 37  is_ftp_login       3833 non-null   int64  \n",
            " 38  ct_ftp_cmd         3833 non-null   int64  \n",
            " 39  ct_flw_http_mthd   3833 non-null   int64  \n",
            " 40  ct_src_ltm         3833 non-null   int64  \n",
            " 41  ct_srv_dst         3833 non-null   int64  \n",
            " 42  is_sm_ips_ports    3833 non-null   int64  \n",
            " 43  attack_cat         3833 non-null   object \n",
            " 44  label              3833 non-null   int64  \n",
            "dtypes: float64(11), int64(30), object(4)\n",
            "memory usage: 1.3+ MB\n"
          ]
        }
      ]
    },
    {
      "cell_type": "code",
      "source": [
        "data[data['service']=='-']"
      ],
      "metadata": {
        "colab": {
          "base_uri": "https://localhost:8080/",
          "height": 143
        },
        "id": "XsUhRDb8y-_L",
        "outputId": "1d08898f-800d-457a-c633-f84f57c4046d"
      },
      "execution_count": 22,
      "outputs": [
        {
          "output_type": "execute_result",
          "data": {
            "text/plain": [
              "Empty DataFrame\n",
              "Columns: [id, dur, proto, service, state, spkts, dpkts, sbytes, dbytes, rate, sttl, dttl, sload, dload, sloss, dloss, sinpkt, dinpkt, sjit, djit, swin, stcpb, dtcpb, dwin, tcprtt, synack, ackdat, smean, dmean, trans_depth, response_body_len, ct_srv_src, ct_state_ttl, ct_dst_ltm, ct_src_dport_ltm, ct_dst_sport_ltm, ct_dst_src_ltm, is_ftp_login, ct_ftp_cmd, ct_flw_http_mthd, ct_src_ltm, ct_srv_dst, is_sm_ips_ports, attack_cat, label]\n",
              "Index: []\n",
              "\n",
              "[0 rows x 45 columns]"
            ],
            "text/html": [
              "\n",
              "  <div id=\"df-8d8be851-00fd-419d-b4f1-8b730371036c\">\n",
              "    <div class=\"colab-df-container\">\n",
              "      <div>\n",
              "<style scoped>\n",
              "    .dataframe tbody tr th:only-of-type {\n",
              "        vertical-align: middle;\n",
              "    }\n",
              "\n",
              "    .dataframe tbody tr th {\n",
              "        vertical-align: top;\n",
              "    }\n",
              "\n",
              "    .dataframe thead th {\n",
              "        text-align: right;\n",
              "    }\n",
              "</style>\n",
              "<table border=\"1\" class=\"dataframe\">\n",
              "  <thead>\n",
              "    <tr style=\"text-align: right;\">\n",
              "      <th></th>\n",
              "      <th>id</th>\n",
              "      <th>dur</th>\n",
              "      <th>proto</th>\n",
              "      <th>service</th>\n",
              "      <th>state</th>\n",
              "      <th>spkts</th>\n",
              "      <th>dpkts</th>\n",
              "      <th>sbytes</th>\n",
              "      <th>dbytes</th>\n",
              "      <th>rate</th>\n",
              "      <th>...</th>\n",
              "      <th>ct_dst_sport_ltm</th>\n",
              "      <th>ct_dst_src_ltm</th>\n",
              "      <th>is_ftp_login</th>\n",
              "      <th>ct_ftp_cmd</th>\n",
              "      <th>ct_flw_http_mthd</th>\n",
              "      <th>ct_src_ltm</th>\n",
              "      <th>ct_srv_dst</th>\n",
              "      <th>is_sm_ips_ports</th>\n",
              "      <th>attack_cat</th>\n",
              "      <th>label</th>\n",
              "    </tr>\n",
              "  </thead>\n",
              "  <tbody>\n",
              "  </tbody>\n",
              "</table>\n",
              "<p>0 rows × 45 columns</p>\n",
              "</div>\n",
              "      <button class=\"colab-df-convert\" onclick=\"convertToInteractive('df-8d8be851-00fd-419d-b4f1-8b730371036c')\"\n",
              "              title=\"Convert this dataframe to an interactive table.\"\n",
              "              style=\"display:none;\">\n",
              "        \n",
              "  <svg xmlns=\"http://www.w3.org/2000/svg\" height=\"24px\"viewBox=\"0 0 24 24\"\n",
              "       width=\"24px\">\n",
              "    <path d=\"M0 0h24v24H0V0z\" fill=\"none\"/>\n",
              "    <path d=\"M18.56 5.44l.94 2.06.94-2.06 2.06-.94-2.06-.94-.94-2.06-.94 2.06-2.06.94zm-11 1L8.5 8.5l.94-2.06 2.06-.94-2.06-.94L8.5 2.5l-.94 2.06-2.06.94zm10 10l.94 2.06.94-2.06 2.06-.94-2.06-.94-.94-2.06-.94 2.06-2.06.94z\"/><path d=\"M17.41 7.96l-1.37-1.37c-.4-.4-.92-.59-1.43-.59-.52 0-1.04.2-1.43.59L10.3 9.45l-7.72 7.72c-.78.78-.78 2.05 0 2.83L4 21.41c.39.39.9.59 1.41.59.51 0 1.02-.2 1.41-.59l7.78-7.78 2.81-2.81c.8-.78.8-2.07 0-2.86zM5.41 20L4 18.59l7.72-7.72 1.47 1.35L5.41 20z\"/>\n",
              "  </svg>\n",
              "      </button>\n",
              "      \n",
              "  <style>\n",
              "    .colab-df-container {\n",
              "      display:flex;\n",
              "      flex-wrap:wrap;\n",
              "      gap: 12px;\n",
              "    }\n",
              "\n",
              "    .colab-df-convert {\n",
              "      background-color: #E8F0FE;\n",
              "      border: none;\n",
              "      border-radius: 50%;\n",
              "      cursor: pointer;\n",
              "      display: none;\n",
              "      fill: #1967D2;\n",
              "      height: 32px;\n",
              "      padding: 0 0 0 0;\n",
              "      width: 32px;\n",
              "    }\n",
              "\n",
              "    .colab-df-convert:hover {\n",
              "      background-color: #E2EBFA;\n",
              "      box-shadow: 0px 1px 2px rgba(60, 64, 67, 0.3), 0px 1px 3px 1px rgba(60, 64, 67, 0.15);\n",
              "      fill: #174EA6;\n",
              "    }\n",
              "\n",
              "    [theme=dark] .colab-df-convert {\n",
              "      background-color: #3B4455;\n",
              "      fill: #D2E3FC;\n",
              "    }\n",
              "\n",
              "    [theme=dark] .colab-df-convert:hover {\n",
              "      background-color: #434B5C;\n",
              "      box-shadow: 0px 1px 3px 1px rgba(0, 0, 0, 0.15);\n",
              "      filter: drop-shadow(0px 1px 2px rgba(0, 0, 0, 0.3));\n",
              "      fill: #FFFFFF;\n",
              "    }\n",
              "  </style>\n",
              "\n",
              "      <script>\n",
              "        const buttonEl =\n",
              "          document.querySelector('#df-8d8be851-00fd-419d-b4f1-8b730371036c button.colab-df-convert');\n",
              "        buttonEl.style.display =\n",
              "          google.colab.kernel.accessAllowed ? 'block' : 'none';\n",
              "\n",
              "        async function convertToInteractive(key) {\n",
              "          const element = document.querySelector('#df-8d8be851-00fd-419d-b4f1-8b730371036c');\n",
              "          const dataTable =\n",
              "            await google.colab.kernel.invokeFunction('convertToInteractive',\n",
              "                                                     [key], {});\n",
              "          if (!dataTable) return;\n",
              "\n",
              "          const docLinkHtml = 'Like what you see? Visit the ' +\n",
              "            '<a target=\"_blank\" href=https://colab.research.google.com/notebooks/data_table.ipynb>data table notebook</a>'\n",
              "            + ' to learn more about interactive tables.';\n",
              "          element.innerHTML = '';\n",
              "          dataTable['output_type'] = 'display_data';\n",
              "          await google.colab.output.renderOutput(dataTable, element);\n",
              "          const docLink = document.createElement('div');\n",
              "          docLink.innerHTML = docLinkHtml;\n",
              "          element.appendChild(docLink);\n",
              "        }\n",
              "      </script>\n",
              "    </div>\n",
              "  </div>\n",
              "  "
            ]
          },
          "metadata": {},
          "execution_count": 22
        }
      ]
    },
    {
      "cell_type": "code",
      "source": [
        "data['service'].replace('-',np.nan,inplace=True)"
      ],
      "metadata": {
        "id": "F1fzndHIzC_U"
      },
      "execution_count": 6,
      "outputs": []
    },
    {
      "cell_type": "code",
      "source": [
        "\n",
        "data.isnull().sum()"
      ],
      "metadata": {
        "colab": {
          "base_uri": "https://localhost:8080/"
        },
        "id": "0lVLYky4zHUJ",
        "outputId": "5dc2639c-6e2c-4455-f3a2-785c1c0d1c1f"
      },
      "execution_count": 7,
      "outputs": [
        {
          "output_type": "execute_result",
          "data": {
            "text/plain": [
              "id                      0\n",
              "dur                     0\n",
              "proto                   0\n",
              "service              6167\n",
              "state                   0\n",
              "spkts                   0\n",
              "dpkts                   0\n",
              "sbytes                  0\n",
              "dbytes                  0\n",
              "rate                    0\n",
              "sttl                    0\n",
              "dttl                    0\n",
              "sload                   0\n",
              "dload                   0\n",
              "sloss                   0\n",
              "dloss                   0\n",
              "sinpkt                  0\n",
              "dinpkt                  0\n",
              "sjit                    0\n",
              "djit                    0\n",
              "swin                    0\n",
              "stcpb                   0\n",
              "dtcpb                   0\n",
              "dwin                    0\n",
              "tcprtt                  0\n",
              "synack                  0\n",
              "ackdat                  0\n",
              "smean                   0\n",
              "dmean                   0\n",
              "trans_depth             0\n",
              "response_body_len       0\n",
              "ct_srv_src              0\n",
              "ct_state_ttl            0\n",
              "ct_dst_ltm              0\n",
              "ct_src_dport_ltm        0\n",
              "ct_dst_sport_ltm        0\n",
              "ct_dst_src_ltm          0\n",
              "is_ftp_login            0\n",
              "ct_ftp_cmd              0\n",
              "ct_flw_http_mthd        0\n",
              "ct_src_ltm              0\n",
              "ct_srv_dst              0\n",
              "is_sm_ips_ports         0\n",
              "attack_cat              0\n",
              "label                   0\n",
              "dtype: int64"
            ]
          },
          "metadata": {},
          "execution_count": 7
        }
      ]
    },
    {
      "cell_type": "code",
      "source": [
        "data.shape"
      ],
      "metadata": {
        "colab": {
          "base_uri": "https://localhost:8080/"
        },
        "id": "fZBSPId6zK7c",
        "outputId": "01aa70c2-791e-4bdc-f50b-889269b0fd19"
      },
      "execution_count": 8,
      "outputs": [
        {
          "output_type": "execute_result",
          "data": {
            "text/plain": [
              "(10000, 45)"
            ]
          },
          "metadata": {},
          "execution_count": 8
        }
      ]
    },
    {
      "cell_type": "code",
      "source": [
        "data.dropna(inplace=True)"
      ],
      "metadata": {
        "id": "FGrGq5d6zPCJ"
      },
      "execution_count": 9,
      "outputs": []
    },
    {
      "cell_type": "code",
      "source": [
        "data.shape"
      ],
      "metadata": {
        "colab": {
          "base_uri": "https://localhost:8080/"
        },
        "id": "_5HOsmwvzSOk",
        "outputId": "6f91d5b2-a623-43c0-fa1a-a1f2c1fc8880"
      },
      "execution_count": 10,
      "outputs": [
        {
          "output_type": "execute_result",
          "data": {
            "text/plain": [
              "(3833, 45)"
            ]
          },
          "metadata": {},
          "execution_count": 10
        }
      ]
    },
    {
      "cell_type": "code",
      "source": [
        "data['attack_cat'].value_counts()"
      ],
      "metadata": {
        "colab": {
          "base_uri": "https://localhost:8080/"
        },
        "id": "u30aCpUAzU66",
        "outputId": "62bc8599-6f34-4633-d83a-7136af2e0873"
      },
      "execution_count": 13,
      "outputs": [
        {
          "output_type": "execute_result",
          "data": {
            "text/plain": [
              "Normal    3833\n",
              "Name: attack_cat, dtype: int64"
            ]
          },
          "metadata": {},
          "execution_count": 13
        }
      ]
    },
    {
      "cell_type": "code",
      "source": [
        "data['state'].value_counts()"
      ],
      "metadata": {
        "colab": {
          "base_uri": "https://localhost:8080/"
        },
        "id": "94CDsZ50zX_e",
        "outputId": "a56d6834-3834-4b77-df0e-d554e2ac31bb"
      },
      "execution_count": 14,
      "outputs": [
        {
          "output_type": "execute_result",
          "data": {
            "text/plain": [
              "FIN    2237\n",
              "CON    1575\n",
              "INT      21\n",
              "Name: state, dtype: int64"
            ]
          },
          "metadata": {},
          "execution_count": 14
        }
      ]
    },
    {
      "cell_type": "code",
      "source": [
        "data"
      ],
      "metadata": {
        "colab": {
          "base_uri": "https://localhost:8080/",
          "height": 488
        },
        "id": "7lj-nZd-zbSi",
        "outputId": "94b9dc06-95a1-487d-bfdf-27d5c7a8cc1f"
      },
      "execution_count": 15,
      "outputs": [
        {
          "output_type": "execute_result",
          "data": {
            "text/plain": [
              "         id       dur proto service state  spkts  dpkts  sbytes  dbytes  \\\n",
              "3         4  1.681642   tcp     ftp   FIN     12     12     628     770   \n",
              "11       12  2.093085   tcp    smtp   FIN     62     28   56329    2212   \n",
              "15       16  0.000002   udp    snmp   INT      2      0     138       0   \n",
              "17       18  0.393556   tcp    http   FIN     10      8     860    1096   \n",
              "21       22  0.338017   tcp    http   FIN     10      6     998     268   \n",
              "...     ...       ...   ...     ...   ...    ...    ...     ...     ...   \n",
              "9989   9990  0.325912   tcp     ssh   FIN    106    114    9400   12298   \n",
              "9990   9991  0.514815   tcp    smtp   FIN     52     40   37358    3276   \n",
              "9991   9992  1.124713   tcp    http   FIN     12     18    1580   10168   \n",
              "9992   9993  0.001135   udp     dns   CON      2      2     146     178   \n",
              "9999  10000  0.001047   udp     dns   CON      2      2     146     178   \n",
              "\n",
              "               rate  ...  ct_dst_sport_ltm  ct_dst_src_ltm  is_ftp_login  \\\n",
              "3         13.677108  ...                 1               3             1   \n",
              "11        42.520967  ...                 1               2             0   \n",
              "15    500000.001300  ...                 1               4             0   \n",
              "17        43.195886  ...                 1               2             0   \n",
              "21        44.376468  ...                 1               1             0   \n",
              "...             ...  ...               ...             ...           ...   \n",
              "9989     671.960532  ...                 1               1             0   \n",
              "9990     176.762536  ...                 1               2             0   \n",
              "9991      25.784357  ...                 1               1             0   \n",
              "9992    2643.171742  ...                 1               1             0   \n",
              "9999    2865.329359  ...                 1               1             0   \n",
              "\n",
              "      ct_ftp_cmd  ct_flw_http_mthd  ct_src_ltm  ct_srv_dst  is_sm_ips_ports  \\\n",
              "3              1                 0           2           1                0   \n",
              "11             0                 0           1           1                0   \n",
              "15             0                 0           2           1                0   \n",
              "17             0                 1           1           3                0   \n",
              "21             0                 1           2           3                0   \n",
              "...          ...               ...         ...         ...              ...   \n",
              "9989           0                 0           2           1                0   \n",
              "9990           0                 0           4           1                0   \n",
              "9991           0                 1           8           2                0   \n",
              "9992           0                 0          18           2                0   \n",
              "9999           0                 0           3           2                0   \n",
              "\n",
              "      attack_cat  label  \n",
              "3         Normal      0  \n",
              "11        Normal      0  \n",
              "15        Normal      0  \n",
              "17        Normal      0  \n",
              "21        Normal      0  \n",
              "...          ...    ...  \n",
              "9989      Normal      0  \n",
              "9990      Normal      0  \n",
              "9991      Normal      0  \n",
              "9992      Normal      0  \n",
              "9999      Normal      0  \n",
              "\n",
              "[3833 rows x 45 columns]"
            ],
            "text/html": [
              "\n",
              "  <div id=\"df-925b5c51-c141-470f-8f63-7e6ea383c235\">\n",
              "    <div class=\"colab-df-container\">\n",
              "      <div>\n",
              "<style scoped>\n",
              "    .dataframe tbody tr th:only-of-type {\n",
              "        vertical-align: middle;\n",
              "    }\n",
              "\n",
              "    .dataframe tbody tr th {\n",
              "        vertical-align: top;\n",
              "    }\n",
              "\n",
              "    .dataframe thead th {\n",
              "        text-align: right;\n",
              "    }\n",
              "</style>\n",
              "<table border=\"1\" class=\"dataframe\">\n",
              "  <thead>\n",
              "    <tr style=\"text-align: right;\">\n",
              "      <th></th>\n",
              "      <th>id</th>\n",
              "      <th>dur</th>\n",
              "      <th>proto</th>\n",
              "      <th>service</th>\n",
              "      <th>state</th>\n",
              "      <th>spkts</th>\n",
              "      <th>dpkts</th>\n",
              "      <th>sbytes</th>\n",
              "      <th>dbytes</th>\n",
              "      <th>rate</th>\n",
              "      <th>...</th>\n",
              "      <th>ct_dst_sport_ltm</th>\n",
              "      <th>ct_dst_src_ltm</th>\n",
              "      <th>is_ftp_login</th>\n",
              "      <th>ct_ftp_cmd</th>\n",
              "      <th>ct_flw_http_mthd</th>\n",
              "      <th>ct_src_ltm</th>\n",
              "      <th>ct_srv_dst</th>\n",
              "      <th>is_sm_ips_ports</th>\n",
              "      <th>attack_cat</th>\n",
              "      <th>label</th>\n",
              "    </tr>\n",
              "  </thead>\n",
              "  <tbody>\n",
              "    <tr>\n",
              "      <th>3</th>\n",
              "      <td>4</td>\n",
              "      <td>1.681642</td>\n",
              "      <td>tcp</td>\n",
              "      <td>ftp</td>\n",
              "      <td>FIN</td>\n",
              "      <td>12</td>\n",
              "      <td>12</td>\n",
              "      <td>628</td>\n",
              "      <td>770</td>\n",
              "      <td>13.677108</td>\n",
              "      <td>...</td>\n",
              "      <td>1</td>\n",
              "      <td>3</td>\n",
              "      <td>1</td>\n",
              "      <td>1</td>\n",
              "      <td>0</td>\n",
              "      <td>2</td>\n",
              "      <td>1</td>\n",
              "      <td>0</td>\n",
              "      <td>Normal</td>\n",
              "      <td>0</td>\n",
              "    </tr>\n",
              "    <tr>\n",
              "      <th>11</th>\n",
              "      <td>12</td>\n",
              "      <td>2.093085</td>\n",
              "      <td>tcp</td>\n",
              "      <td>smtp</td>\n",
              "      <td>FIN</td>\n",
              "      <td>62</td>\n",
              "      <td>28</td>\n",
              "      <td>56329</td>\n",
              "      <td>2212</td>\n",
              "      <td>42.520967</td>\n",
              "      <td>...</td>\n",
              "      <td>1</td>\n",
              "      <td>2</td>\n",
              "      <td>0</td>\n",
              "      <td>0</td>\n",
              "      <td>0</td>\n",
              "      <td>1</td>\n",
              "      <td>1</td>\n",
              "      <td>0</td>\n",
              "      <td>Normal</td>\n",
              "      <td>0</td>\n",
              "    </tr>\n",
              "    <tr>\n",
              "      <th>15</th>\n",
              "      <td>16</td>\n",
              "      <td>0.000002</td>\n",
              "      <td>udp</td>\n",
              "      <td>snmp</td>\n",
              "      <td>INT</td>\n",
              "      <td>2</td>\n",
              "      <td>0</td>\n",
              "      <td>138</td>\n",
              "      <td>0</td>\n",
              "      <td>500000.001300</td>\n",
              "      <td>...</td>\n",
              "      <td>1</td>\n",
              "      <td>4</td>\n",
              "      <td>0</td>\n",
              "      <td>0</td>\n",
              "      <td>0</td>\n",
              "      <td>2</td>\n",
              "      <td>1</td>\n",
              "      <td>0</td>\n",
              "      <td>Normal</td>\n",
              "      <td>0</td>\n",
              "    </tr>\n",
              "    <tr>\n",
              "      <th>17</th>\n",
              "      <td>18</td>\n",
              "      <td>0.393556</td>\n",
              "      <td>tcp</td>\n",
              "      <td>http</td>\n",
              "      <td>FIN</td>\n",
              "      <td>10</td>\n",
              "      <td>8</td>\n",
              "      <td>860</td>\n",
              "      <td>1096</td>\n",
              "      <td>43.195886</td>\n",
              "      <td>...</td>\n",
              "      <td>1</td>\n",
              "      <td>2</td>\n",
              "      <td>0</td>\n",
              "      <td>0</td>\n",
              "      <td>1</td>\n",
              "      <td>1</td>\n",
              "      <td>3</td>\n",
              "      <td>0</td>\n",
              "      <td>Normal</td>\n",
              "      <td>0</td>\n",
              "    </tr>\n",
              "    <tr>\n",
              "      <th>21</th>\n",
              "      <td>22</td>\n",
              "      <td>0.338017</td>\n",
              "      <td>tcp</td>\n",
              "      <td>http</td>\n",
              "      <td>FIN</td>\n",
              "      <td>10</td>\n",
              "      <td>6</td>\n",
              "      <td>998</td>\n",
              "      <td>268</td>\n",
              "      <td>44.376468</td>\n",
              "      <td>...</td>\n",
              "      <td>1</td>\n",
              "      <td>1</td>\n",
              "      <td>0</td>\n",
              "      <td>0</td>\n",
              "      <td>1</td>\n",
              "      <td>2</td>\n",
              "      <td>3</td>\n",
              "      <td>0</td>\n",
              "      <td>Normal</td>\n",
              "      <td>0</td>\n",
              "    </tr>\n",
              "    <tr>\n",
              "      <th>...</th>\n",
              "      <td>...</td>\n",
              "      <td>...</td>\n",
              "      <td>...</td>\n",
              "      <td>...</td>\n",
              "      <td>...</td>\n",
              "      <td>...</td>\n",
              "      <td>...</td>\n",
              "      <td>...</td>\n",
              "      <td>...</td>\n",
              "      <td>...</td>\n",
              "      <td>...</td>\n",
              "      <td>...</td>\n",
              "      <td>...</td>\n",
              "      <td>...</td>\n",
              "      <td>...</td>\n",
              "      <td>...</td>\n",
              "      <td>...</td>\n",
              "      <td>...</td>\n",
              "      <td>...</td>\n",
              "      <td>...</td>\n",
              "      <td>...</td>\n",
              "    </tr>\n",
              "    <tr>\n",
              "      <th>9989</th>\n",
              "      <td>9990</td>\n",
              "      <td>0.325912</td>\n",
              "      <td>tcp</td>\n",
              "      <td>ssh</td>\n",
              "      <td>FIN</td>\n",
              "      <td>106</td>\n",
              "      <td>114</td>\n",
              "      <td>9400</td>\n",
              "      <td>12298</td>\n",
              "      <td>671.960532</td>\n",
              "      <td>...</td>\n",
              "      <td>1</td>\n",
              "      <td>1</td>\n",
              "      <td>0</td>\n",
              "      <td>0</td>\n",
              "      <td>0</td>\n",
              "      <td>2</td>\n",
              "      <td>1</td>\n",
              "      <td>0</td>\n",
              "      <td>Normal</td>\n",
              "      <td>0</td>\n",
              "    </tr>\n",
              "    <tr>\n",
              "      <th>9990</th>\n",
              "      <td>9991</td>\n",
              "      <td>0.514815</td>\n",
              "      <td>tcp</td>\n",
              "      <td>smtp</td>\n",
              "      <td>FIN</td>\n",
              "      <td>52</td>\n",
              "      <td>40</td>\n",
              "      <td>37358</td>\n",
              "      <td>3276</td>\n",
              "      <td>176.762536</td>\n",
              "      <td>...</td>\n",
              "      <td>1</td>\n",
              "      <td>2</td>\n",
              "      <td>0</td>\n",
              "      <td>0</td>\n",
              "      <td>0</td>\n",
              "      <td>4</td>\n",
              "      <td>1</td>\n",
              "      <td>0</td>\n",
              "      <td>Normal</td>\n",
              "      <td>0</td>\n",
              "    </tr>\n",
              "    <tr>\n",
              "      <th>9991</th>\n",
              "      <td>9992</td>\n",
              "      <td>1.124713</td>\n",
              "      <td>tcp</td>\n",
              "      <td>http</td>\n",
              "      <td>FIN</td>\n",
              "      <td>12</td>\n",
              "      <td>18</td>\n",
              "      <td>1580</td>\n",
              "      <td>10168</td>\n",
              "      <td>25.784357</td>\n",
              "      <td>...</td>\n",
              "      <td>1</td>\n",
              "      <td>1</td>\n",
              "      <td>0</td>\n",
              "      <td>0</td>\n",
              "      <td>1</td>\n",
              "      <td>8</td>\n",
              "      <td>2</td>\n",
              "      <td>0</td>\n",
              "      <td>Normal</td>\n",
              "      <td>0</td>\n",
              "    </tr>\n",
              "    <tr>\n",
              "      <th>9992</th>\n",
              "      <td>9993</td>\n",
              "      <td>0.001135</td>\n",
              "      <td>udp</td>\n",
              "      <td>dns</td>\n",
              "      <td>CON</td>\n",
              "      <td>2</td>\n",
              "      <td>2</td>\n",
              "      <td>146</td>\n",
              "      <td>178</td>\n",
              "      <td>2643.171742</td>\n",
              "      <td>...</td>\n",
              "      <td>1</td>\n",
              "      <td>1</td>\n",
              "      <td>0</td>\n",
              "      <td>0</td>\n",
              "      <td>0</td>\n",
              "      <td>18</td>\n",
              "      <td>2</td>\n",
              "      <td>0</td>\n",
              "      <td>Normal</td>\n",
              "      <td>0</td>\n",
              "    </tr>\n",
              "    <tr>\n",
              "      <th>9999</th>\n",
              "      <td>10000</td>\n",
              "      <td>0.001047</td>\n",
              "      <td>udp</td>\n",
              "      <td>dns</td>\n",
              "      <td>CON</td>\n",
              "      <td>2</td>\n",
              "      <td>2</td>\n",
              "      <td>146</td>\n",
              "      <td>178</td>\n",
              "      <td>2865.329359</td>\n",
              "      <td>...</td>\n",
              "      <td>1</td>\n",
              "      <td>1</td>\n",
              "      <td>0</td>\n",
              "      <td>0</td>\n",
              "      <td>0</td>\n",
              "      <td>3</td>\n",
              "      <td>2</td>\n",
              "      <td>0</td>\n",
              "      <td>Normal</td>\n",
              "      <td>0</td>\n",
              "    </tr>\n",
              "  </tbody>\n",
              "</table>\n",
              "<p>3833 rows × 45 columns</p>\n",
              "</div>\n",
              "      <button class=\"colab-df-convert\" onclick=\"convertToInteractive('df-925b5c51-c141-470f-8f63-7e6ea383c235')\"\n",
              "              title=\"Convert this dataframe to an interactive table.\"\n",
              "              style=\"display:none;\">\n",
              "        \n",
              "  <svg xmlns=\"http://www.w3.org/2000/svg\" height=\"24px\"viewBox=\"0 0 24 24\"\n",
              "       width=\"24px\">\n",
              "    <path d=\"M0 0h24v24H0V0z\" fill=\"none\"/>\n",
              "    <path d=\"M18.56 5.44l.94 2.06.94-2.06 2.06-.94-2.06-.94-.94-2.06-.94 2.06-2.06.94zm-11 1L8.5 8.5l.94-2.06 2.06-.94-2.06-.94L8.5 2.5l-.94 2.06-2.06.94zm10 10l.94 2.06.94-2.06 2.06-.94-2.06-.94-.94-2.06-.94 2.06-2.06.94z\"/><path d=\"M17.41 7.96l-1.37-1.37c-.4-.4-.92-.59-1.43-.59-.52 0-1.04.2-1.43.59L10.3 9.45l-7.72 7.72c-.78.78-.78 2.05 0 2.83L4 21.41c.39.39.9.59 1.41.59.51 0 1.02-.2 1.41-.59l7.78-7.78 2.81-2.81c.8-.78.8-2.07 0-2.86zM5.41 20L4 18.59l7.72-7.72 1.47 1.35L5.41 20z\"/>\n",
              "  </svg>\n",
              "      </button>\n",
              "      \n",
              "  <style>\n",
              "    .colab-df-container {\n",
              "      display:flex;\n",
              "      flex-wrap:wrap;\n",
              "      gap: 12px;\n",
              "    }\n",
              "\n",
              "    .colab-df-convert {\n",
              "      background-color: #E8F0FE;\n",
              "      border: none;\n",
              "      border-radius: 50%;\n",
              "      cursor: pointer;\n",
              "      display: none;\n",
              "      fill: #1967D2;\n",
              "      height: 32px;\n",
              "      padding: 0 0 0 0;\n",
              "      width: 32px;\n",
              "    }\n",
              "\n",
              "    .colab-df-convert:hover {\n",
              "      background-color: #E2EBFA;\n",
              "      box-shadow: 0px 1px 2px rgba(60, 64, 67, 0.3), 0px 1px 3px 1px rgba(60, 64, 67, 0.15);\n",
              "      fill: #174EA6;\n",
              "    }\n",
              "\n",
              "    [theme=dark] .colab-df-convert {\n",
              "      background-color: #3B4455;\n",
              "      fill: #D2E3FC;\n",
              "    }\n",
              "\n",
              "    [theme=dark] .colab-df-convert:hover {\n",
              "      background-color: #434B5C;\n",
              "      box-shadow: 0px 1px 3px 1px rgba(0, 0, 0, 0.15);\n",
              "      filter: drop-shadow(0px 1px 2px rgba(0, 0, 0, 0.3));\n",
              "      fill: #FFFFFF;\n",
              "    }\n",
              "  </style>\n",
              "\n",
              "      <script>\n",
              "        const buttonEl =\n",
              "          document.querySelector('#df-925b5c51-c141-470f-8f63-7e6ea383c235 button.colab-df-convert');\n",
              "        buttonEl.style.display =\n",
              "          google.colab.kernel.accessAllowed ? 'block' : 'none';\n",
              "\n",
              "        async function convertToInteractive(key) {\n",
              "          const element = document.querySelector('#df-925b5c51-c141-470f-8f63-7e6ea383c235');\n",
              "          const dataTable =\n",
              "            await google.colab.kernel.invokeFunction('convertToInteractive',\n",
              "                                                     [key], {});\n",
              "          if (!dataTable) return;\n",
              "\n",
              "          const docLinkHtml = 'Like what you see? Visit the ' +\n",
              "            '<a target=\"_blank\" href=https://colab.research.google.com/notebooks/data_table.ipynb>data table notebook</a>'\n",
              "            + ' to learn more about interactive tables.';\n",
              "          element.innerHTML = '';\n",
              "          dataTable['output_type'] = 'display_data';\n",
              "          await google.colab.output.renderOutput(dataTable, element);\n",
              "          const docLink = document.createElement('div');\n",
              "          docLink.innerHTML = docLinkHtml;\n",
              "          element.appendChild(docLink);\n",
              "        }\n",
              "      </script>\n",
              "    </div>\n",
              "  </div>\n",
              "  "
            ]
          },
          "metadata": {},
          "execution_count": 15
        }
      ]
    },
    {
      "cell_type": "code",
      "source": [
        "features = pd.read_csv('/content/NUSW-NB15_features (3).csv')"
      ],
      "metadata": {
        "colab": {
          "base_uri": "https://localhost:8080/",
          "height": 1000
        },
        "id": "uWmszeN6zfrz",
        "outputId": "1fa1aee2-ecbd-4fc7-ee57-9f70edc58710"
      },
      "execution_count": 27,
      "outputs": [
        {
          "output_type": "error",
          "ename": "UnicodeDecodeError",
          "evalue": "ignored",
          "traceback": [
            "\u001b[0;31m---------------------------------------------------------------------------\u001b[0m",
            "\u001b[0;31mUnicodeDecodeError\u001b[0m                        Traceback (most recent call last)",
            "\u001b[0;32m<ipython-input-27-93148d5ad4b3>\u001b[0m in \u001b[0;36m<module>\u001b[0;34m\u001b[0m\n\u001b[0;32m----> 1\u001b[0;31m \u001b[0mfeatures\u001b[0m \u001b[0;34m=\u001b[0m \u001b[0mpd\u001b[0m\u001b[0;34m.\u001b[0m\u001b[0mread_csv\u001b[0m\u001b[0;34m(\u001b[0m\u001b[0;34m'/content/NUSW-NB15_features (3).csv'\u001b[0m\u001b[0;34m)\u001b[0m\u001b[0;34m\u001b[0m\u001b[0;34m\u001b[0m\u001b[0m\n\u001b[0m",
            "\u001b[0;32m/usr/local/lib/python3.7/dist-packages/pandas/util/_decorators.py\u001b[0m in \u001b[0;36mwrapper\u001b[0;34m(*args, **kwargs)\u001b[0m\n\u001b[1;32m    309\u001b[0m                     \u001b[0mstacklevel\u001b[0m\u001b[0;34m=\u001b[0m\u001b[0mstacklevel\u001b[0m\u001b[0;34m,\u001b[0m\u001b[0;34m\u001b[0m\u001b[0;34m\u001b[0m\u001b[0m\n\u001b[1;32m    310\u001b[0m                 )\n\u001b[0;32m--> 311\u001b[0;31m             \u001b[0;32mreturn\u001b[0m \u001b[0mfunc\u001b[0m\u001b[0;34m(\u001b[0m\u001b[0;34m*\u001b[0m\u001b[0margs\u001b[0m\u001b[0;34m,\u001b[0m \u001b[0;34m**\u001b[0m\u001b[0mkwargs\u001b[0m\u001b[0;34m)\u001b[0m\u001b[0;34m\u001b[0m\u001b[0;34m\u001b[0m\u001b[0m\n\u001b[0m\u001b[1;32m    312\u001b[0m \u001b[0;34m\u001b[0m\u001b[0m\n\u001b[1;32m    313\u001b[0m         \u001b[0;32mreturn\u001b[0m \u001b[0mwrapper\u001b[0m\u001b[0;34m\u001b[0m\u001b[0;34m\u001b[0m\u001b[0m\n",
            "\u001b[0;32m/usr/local/lib/python3.7/dist-packages/pandas/io/parsers/readers.py\u001b[0m in \u001b[0;36mread_csv\u001b[0;34m(filepath_or_buffer, sep, delimiter, header, names, index_col, usecols, squeeze, prefix, mangle_dupe_cols, dtype, engine, converters, true_values, false_values, skipinitialspace, skiprows, skipfooter, nrows, na_values, keep_default_na, na_filter, verbose, skip_blank_lines, parse_dates, infer_datetime_format, keep_date_col, date_parser, dayfirst, cache_dates, iterator, chunksize, compression, thousands, decimal, lineterminator, quotechar, quoting, doublequote, escapechar, comment, encoding, encoding_errors, dialect, error_bad_lines, warn_bad_lines, on_bad_lines, delim_whitespace, low_memory, memory_map, float_precision, storage_options)\u001b[0m\n\u001b[1;32m    584\u001b[0m     \u001b[0mkwds\u001b[0m\u001b[0;34m.\u001b[0m\u001b[0mupdate\u001b[0m\u001b[0;34m(\u001b[0m\u001b[0mkwds_defaults\u001b[0m\u001b[0;34m)\u001b[0m\u001b[0;34m\u001b[0m\u001b[0;34m\u001b[0m\u001b[0m\n\u001b[1;32m    585\u001b[0m \u001b[0;34m\u001b[0m\u001b[0m\n\u001b[0;32m--> 586\u001b[0;31m     \u001b[0;32mreturn\u001b[0m \u001b[0m_read\u001b[0m\u001b[0;34m(\u001b[0m\u001b[0mfilepath_or_buffer\u001b[0m\u001b[0;34m,\u001b[0m \u001b[0mkwds\u001b[0m\u001b[0;34m)\u001b[0m\u001b[0;34m\u001b[0m\u001b[0;34m\u001b[0m\u001b[0m\n\u001b[0m\u001b[1;32m    587\u001b[0m \u001b[0;34m\u001b[0m\u001b[0m\n\u001b[1;32m    588\u001b[0m \u001b[0;34m\u001b[0m\u001b[0m\n",
            "\u001b[0;32m/usr/local/lib/python3.7/dist-packages/pandas/io/parsers/readers.py\u001b[0m in \u001b[0;36m_read\u001b[0;34m(filepath_or_buffer, kwds)\u001b[0m\n\u001b[1;32m    480\u001b[0m \u001b[0;34m\u001b[0m\u001b[0m\n\u001b[1;32m    481\u001b[0m     \u001b[0;31m# Create the parser.\u001b[0m\u001b[0;34m\u001b[0m\u001b[0;34m\u001b[0m\u001b[0;34m\u001b[0m\u001b[0m\n\u001b[0;32m--> 482\u001b[0;31m     \u001b[0mparser\u001b[0m \u001b[0;34m=\u001b[0m \u001b[0mTextFileReader\u001b[0m\u001b[0;34m(\u001b[0m\u001b[0mfilepath_or_buffer\u001b[0m\u001b[0;34m,\u001b[0m \u001b[0;34m**\u001b[0m\u001b[0mkwds\u001b[0m\u001b[0;34m)\u001b[0m\u001b[0;34m\u001b[0m\u001b[0;34m\u001b[0m\u001b[0m\n\u001b[0m\u001b[1;32m    483\u001b[0m \u001b[0;34m\u001b[0m\u001b[0m\n\u001b[1;32m    484\u001b[0m     \u001b[0;32mif\u001b[0m \u001b[0mchunksize\u001b[0m \u001b[0;32mor\u001b[0m \u001b[0miterator\u001b[0m\u001b[0;34m:\u001b[0m\u001b[0;34m\u001b[0m\u001b[0;34m\u001b[0m\u001b[0m\n",
            "\u001b[0;32m/usr/local/lib/python3.7/dist-packages/pandas/io/parsers/readers.py\u001b[0m in \u001b[0;36m__init__\u001b[0;34m(self, f, engine, **kwds)\u001b[0m\n\u001b[1;32m    809\u001b[0m             \u001b[0mself\u001b[0m\u001b[0;34m.\u001b[0m\u001b[0moptions\u001b[0m\u001b[0;34m[\u001b[0m\u001b[0;34m\"has_index_names\"\u001b[0m\u001b[0;34m]\u001b[0m \u001b[0;34m=\u001b[0m \u001b[0mkwds\u001b[0m\u001b[0;34m[\u001b[0m\u001b[0;34m\"has_index_names\"\u001b[0m\u001b[0;34m]\u001b[0m\u001b[0;34m\u001b[0m\u001b[0;34m\u001b[0m\u001b[0m\n\u001b[1;32m    810\u001b[0m \u001b[0;34m\u001b[0m\u001b[0m\n\u001b[0;32m--> 811\u001b[0;31m         \u001b[0mself\u001b[0m\u001b[0;34m.\u001b[0m\u001b[0m_engine\u001b[0m \u001b[0;34m=\u001b[0m \u001b[0mself\u001b[0m\u001b[0;34m.\u001b[0m\u001b[0m_make_engine\u001b[0m\u001b[0;34m(\u001b[0m\u001b[0mself\u001b[0m\u001b[0;34m.\u001b[0m\u001b[0mengine\u001b[0m\u001b[0;34m)\u001b[0m\u001b[0;34m\u001b[0m\u001b[0;34m\u001b[0m\u001b[0m\n\u001b[0m\u001b[1;32m    812\u001b[0m \u001b[0;34m\u001b[0m\u001b[0m\n\u001b[1;32m    813\u001b[0m     \u001b[0;32mdef\u001b[0m \u001b[0mclose\u001b[0m\u001b[0;34m(\u001b[0m\u001b[0mself\u001b[0m\u001b[0;34m)\u001b[0m\u001b[0;34m:\u001b[0m\u001b[0;34m\u001b[0m\u001b[0;34m\u001b[0m\u001b[0m\n",
            "\u001b[0;32m/usr/local/lib/python3.7/dist-packages/pandas/io/parsers/readers.py\u001b[0m in \u001b[0;36m_make_engine\u001b[0;34m(self, engine)\u001b[0m\n\u001b[1;32m   1038\u001b[0m             )\n\u001b[1;32m   1039\u001b[0m         \u001b[0;31m# error: Too many arguments for \"ParserBase\"\u001b[0m\u001b[0;34m\u001b[0m\u001b[0;34m\u001b[0m\u001b[0;34m\u001b[0m\u001b[0m\n\u001b[0;32m-> 1040\u001b[0;31m         \u001b[0;32mreturn\u001b[0m \u001b[0mmapping\u001b[0m\u001b[0;34m[\u001b[0m\u001b[0mengine\u001b[0m\u001b[0;34m]\u001b[0m\u001b[0;34m(\u001b[0m\u001b[0mself\u001b[0m\u001b[0;34m.\u001b[0m\u001b[0mf\u001b[0m\u001b[0;34m,\u001b[0m \u001b[0;34m**\u001b[0m\u001b[0mself\u001b[0m\u001b[0;34m.\u001b[0m\u001b[0moptions\u001b[0m\u001b[0;34m)\u001b[0m  \u001b[0;31m# type: ignore[call-arg]\u001b[0m\u001b[0;34m\u001b[0m\u001b[0;34m\u001b[0m\u001b[0m\n\u001b[0m\u001b[1;32m   1041\u001b[0m \u001b[0;34m\u001b[0m\u001b[0m\n\u001b[1;32m   1042\u001b[0m     \u001b[0;32mdef\u001b[0m \u001b[0m_failover_to_python\u001b[0m\u001b[0;34m(\u001b[0m\u001b[0mself\u001b[0m\u001b[0;34m)\u001b[0m\u001b[0;34m:\u001b[0m\u001b[0;34m\u001b[0m\u001b[0;34m\u001b[0m\u001b[0m\n",
            "\u001b[0;32m/usr/local/lib/python3.7/dist-packages/pandas/io/parsers/c_parser_wrapper.py\u001b[0m in \u001b[0;36m__init__\u001b[0;34m(self, src, **kwds)\u001b[0m\n\u001b[1;32m     67\u001b[0m         \u001b[0mkwds\u001b[0m\u001b[0;34m[\u001b[0m\u001b[0;34m\"dtype\"\u001b[0m\u001b[0;34m]\u001b[0m \u001b[0;34m=\u001b[0m \u001b[0mensure_dtype_objs\u001b[0m\u001b[0;34m(\u001b[0m\u001b[0mkwds\u001b[0m\u001b[0;34m.\u001b[0m\u001b[0mget\u001b[0m\u001b[0;34m(\u001b[0m\u001b[0;34m\"dtype\"\u001b[0m\u001b[0;34m,\u001b[0m \u001b[0;32mNone\u001b[0m\u001b[0;34m)\u001b[0m\u001b[0;34m)\u001b[0m\u001b[0;34m\u001b[0m\u001b[0;34m\u001b[0m\u001b[0m\n\u001b[1;32m     68\u001b[0m         \u001b[0;32mtry\u001b[0m\u001b[0;34m:\u001b[0m\u001b[0;34m\u001b[0m\u001b[0;34m\u001b[0m\u001b[0m\n\u001b[0;32m---> 69\u001b[0;31m             \u001b[0mself\u001b[0m\u001b[0;34m.\u001b[0m\u001b[0m_reader\u001b[0m \u001b[0;34m=\u001b[0m \u001b[0mparsers\u001b[0m\u001b[0;34m.\u001b[0m\u001b[0mTextReader\u001b[0m\u001b[0;34m(\u001b[0m\u001b[0mself\u001b[0m\u001b[0;34m.\u001b[0m\u001b[0mhandles\u001b[0m\u001b[0;34m.\u001b[0m\u001b[0mhandle\u001b[0m\u001b[0;34m,\u001b[0m \u001b[0;34m**\u001b[0m\u001b[0mkwds\u001b[0m\u001b[0;34m)\u001b[0m\u001b[0;34m\u001b[0m\u001b[0;34m\u001b[0m\u001b[0m\n\u001b[0m\u001b[1;32m     70\u001b[0m         \u001b[0;32mexcept\u001b[0m \u001b[0mException\u001b[0m\u001b[0;34m:\u001b[0m\u001b[0;34m\u001b[0m\u001b[0;34m\u001b[0m\u001b[0m\n\u001b[1;32m     71\u001b[0m             \u001b[0mself\u001b[0m\u001b[0;34m.\u001b[0m\u001b[0mhandles\u001b[0m\u001b[0;34m.\u001b[0m\u001b[0mclose\u001b[0m\u001b[0;34m(\u001b[0m\u001b[0;34m)\u001b[0m\u001b[0;34m\u001b[0m\u001b[0;34m\u001b[0m\u001b[0m\n",
            "\u001b[0;32m/usr/local/lib/python3.7/dist-packages/pandas/_libs/parsers.pyx\u001b[0m in \u001b[0;36mpandas._libs.parsers.TextReader.__cinit__\u001b[0;34m()\u001b[0m\n",
            "\u001b[0;32m/usr/local/lib/python3.7/dist-packages/pandas/_libs/parsers.pyx\u001b[0m in \u001b[0;36mpandas._libs.parsers.TextReader._get_header\u001b[0;34m()\u001b[0m\n",
            "\u001b[0;32m/usr/local/lib/python3.7/dist-packages/pandas/_libs/parsers.pyx\u001b[0m in \u001b[0;36mpandas._libs.parsers.TextReader._tokenize_rows\u001b[0;34m()\u001b[0m\n",
            "\u001b[0;32m/usr/local/lib/python3.7/dist-packages/pandas/_libs/parsers.pyx\u001b[0m in \u001b[0;36mpandas._libs.parsers.raise_parser_error\u001b[0;34m()\u001b[0m\n",
            "\u001b[0;31mUnicodeDecodeError\u001b[0m: 'utf-8' codec can't decode byte 0x92 in position 1646: invalid start byte"
          ]
        }
      ]
    },
    {
      "cell_type": "code",
      "source": [
        "features.head()"
      ],
      "metadata": {
        "colab": {
          "base_uri": "https://localhost:8080/",
          "height": 182
        },
        "id": "mCfx1Ib_zvDl",
        "outputId": "a55fb9c6-c004-499c-9187-101ac2eb124b"
      },
      "execution_count": 50,
      "outputs": [
        {
          "output_type": "error",
          "ename": "KeyError",
          "evalue": "ignored",
          "traceback": [
            "\u001b[0;31m---------------------------------------------------------------------------\u001b[0m",
            "\u001b[0;31mKeyError\u001b[0m                                  Traceback (most recent call last)",
            "\u001b[0;32m<ipython-input-50-8e935ce85b52>\u001b[0m in \u001b[0;36m<module>\u001b[0;34m\u001b[0m\n\u001b[0;32m----> 1\u001b[0;31m \u001b[0mdf\u001b[0m \u001b[0;34m=\u001b[0m \u001b[0mpd\u001b[0m\u001b[0;34m.\u001b[0m\u001b[0mread_csv\u001b[0m\u001b[0;34m(\u001b[0m\u001b[0mio\u001b[0m\u001b[0;34m.\u001b[0m\u001b[0mBytesIO\u001b[0m\u001b[0;34m(\u001b[0m\u001b[0muploaded\u001b[0m\u001b[0;34m[\u001b[0m\u001b[0;34m'/content/Unsw-NB15_features(1).csv'\u001b[0m\u001b[0;34m]\u001b[0m\u001b[0;34m)\u001b[0m\u001b[0;34m)\u001b[0m\u001b[0;34m\u001b[0m\u001b[0;34m\u001b[0m\u001b[0m\n\u001b[0m\u001b[1;32m      2\u001b[0m \u001b[0mprint\u001b[0m\u001b[0;34m(\u001b[0m\u001b[0mdf\u001b[0m\u001b[0;34m)\u001b[0m\u001b[0;34m\u001b[0m\u001b[0;34m\u001b[0m\u001b[0m\n",
            "\u001b[0;31mKeyError\u001b[0m: '/content/Unsw-NB15_features(1).csv'"
          ]
        }
      ]
    },
    {
      "cell_type": "code",
      "source": [
        "features['Type '] = features['Type '].str.lower()"
      ],
      "metadata": {
        "colab": {
          "base_uri": "https://localhost:8080/",
          "height": 165
        },
        "id": "obm_TFs60pMS",
        "outputId": "0f7086b2-d78a-48a1-bde6-2a506a33ced1"
      },
      "execution_count": 17,
      "outputs": [
        {
          "output_type": "error",
          "ename": "NameError",
          "evalue": "ignored",
          "traceback": [
            "\u001b[0;31m---------------------------------------------------------------------------\u001b[0m",
            "\u001b[0;31mNameError\u001b[0m                                 Traceback (most recent call last)",
            "\u001b[0;32m<ipython-input-17-0f7b36a1632e>\u001b[0m in \u001b[0;36m<module>\u001b[0;34m\u001b[0m\n\u001b[0;32m----> 1\u001b[0;31m \u001b[0mfeatures\u001b[0m\u001b[0;34m[\u001b[0m\u001b[0;34m'Type '\u001b[0m\u001b[0;34m]\u001b[0m \u001b[0;34m=\u001b[0m \u001b[0mfeatures\u001b[0m\u001b[0;34m[\u001b[0m\u001b[0;34m'Type '\u001b[0m\u001b[0;34m]\u001b[0m\u001b[0;34m.\u001b[0m\u001b[0mstr\u001b[0m\u001b[0;34m.\u001b[0m\u001b[0mlower\u001b[0m\u001b[0;34m(\u001b[0m\u001b[0;34m)\u001b[0m\u001b[0;34m\u001b[0m\u001b[0;34m\u001b[0m\u001b[0m\n\u001b[0m",
            "\u001b[0;31mNameError\u001b[0m: name 'features' is not defined"
          ]
        }
      ]
    },
    {
      "cell_type": "code",
      "source": [
        "# selecting column names of all data types\n",
        "nominal_names = features['Name'][features['Type ']=='nominal']\n",
        "integer_names = features['Name'][features['Type ']=='integer']\n",
        "binary_names = features['Name'][features['Type ']=='binary']\n",
        "float_names = features['Name'][features['Type ']=='float']"
      ],
      "metadata": {
        "colab": {
          "base_uri": "https://localhost:8080/",
          "height": 235
        },
        "id": "qwZtpnOT0r0K",
        "outputId": "047bdd7a-fb37-41f8-b033-d5e42d7bafa8"
      },
      "execution_count": 18,
      "outputs": [
        {
          "output_type": "error",
          "ename": "NameError",
          "evalue": "ignored",
          "traceback": [
            "\u001b[0;31m---------------------------------------------------------------------------\u001b[0m",
            "\u001b[0;31mNameError\u001b[0m                                 Traceback (most recent call last)",
            "\u001b[0;32m<ipython-input-18-39e7d273d66f>\u001b[0m in \u001b[0;36m<module>\u001b[0;34m\u001b[0m\n\u001b[1;32m      1\u001b[0m \u001b[0;31m# selecting column names of all data types\u001b[0m\u001b[0;34m\u001b[0m\u001b[0;34m\u001b[0m\u001b[0;34m\u001b[0m\u001b[0m\n\u001b[0;32m----> 2\u001b[0;31m \u001b[0mnominal_names\u001b[0m \u001b[0;34m=\u001b[0m \u001b[0mfeatures\u001b[0m\u001b[0;34m[\u001b[0m\u001b[0;34m'Name'\u001b[0m\u001b[0;34m]\u001b[0m\u001b[0;34m[\u001b[0m\u001b[0mfeatures\u001b[0m\u001b[0;34m[\u001b[0m\u001b[0;34m'Type '\u001b[0m\u001b[0;34m]\u001b[0m\u001b[0;34m==\u001b[0m\u001b[0;34m'nominal'\u001b[0m\u001b[0;34m]\u001b[0m\u001b[0;34m\u001b[0m\u001b[0;34m\u001b[0m\u001b[0m\n\u001b[0m\u001b[1;32m      3\u001b[0m \u001b[0minteger_names\u001b[0m \u001b[0;34m=\u001b[0m \u001b[0mfeatures\u001b[0m\u001b[0;34m[\u001b[0m\u001b[0;34m'Name'\u001b[0m\u001b[0;34m]\u001b[0m\u001b[0;34m[\u001b[0m\u001b[0mfeatures\u001b[0m\u001b[0;34m[\u001b[0m\u001b[0;34m'Type '\u001b[0m\u001b[0;34m]\u001b[0m\u001b[0;34m==\u001b[0m\u001b[0;34m'integer'\u001b[0m\u001b[0;34m]\u001b[0m\u001b[0;34m\u001b[0m\u001b[0;34m\u001b[0m\u001b[0m\n\u001b[1;32m      4\u001b[0m \u001b[0mbinary_names\u001b[0m \u001b[0;34m=\u001b[0m \u001b[0mfeatures\u001b[0m\u001b[0;34m[\u001b[0m\u001b[0;34m'Name'\u001b[0m\u001b[0;34m]\u001b[0m\u001b[0;34m[\u001b[0m\u001b[0mfeatures\u001b[0m\u001b[0;34m[\u001b[0m\u001b[0;34m'Type '\u001b[0m\u001b[0;34m]\u001b[0m\u001b[0;34m==\u001b[0m\u001b[0;34m'binary'\u001b[0m\u001b[0;34m]\u001b[0m\u001b[0;34m\u001b[0m\u001b[0;34m\u001b[0m\u001b[0m\n\u001b[1;32m      5\u001b[0m \u001b[0mfloat_names\u001b[0m \u001b[0;34m=\u001b[0m \u001b[0mfeatures\u001b[0m\u001b[0;34m[\u001b[0m\u001b[0;34m'Name'\u001b[0m\u001b[0;34m]\u001b[0m\u001b[0;34m[\u001b[0m\u001b[0mfeatures\u001b[0m\u001b[0;34m[\u001b[0m\u001b[0;34m'Type '\u001b[0m\u001b[0;34m]\u001b[0m\u001b[0;34m==\u001b[0m\u001b[0;34m'float'\u001b[0m\u001b[0;34m]\u001b[0m\u001b[0;34m\u001b[0m\u001b[0;34m\u001b[0m\u001b[0m\n",
            "\u001b[0;31mNameError\u001b[0m: name 'features' is not defined"
          ]
        }
      ]
    },
    {
      "cell_type": "code",
      "source": [
        "# selecting common column names from dataset and feature dataset\n",
        "cols = data.columns\n",
        "nominal_names = cols.intersection(nominal_names)\n",
        "integer_names = cols.intersection(integer_names)\n",
        "binary_names = cols.intersection(binary_names)\n",
        "float_names = cols.intersection(float_names)"
      ],
      "metadata": {
        "colab": {
          "base_uri": "https://localhost:8080/",
          "height": 235
        },
        "id": "dkXi_aRt0uvq",
        "outputId": "b6500140-dd49-480c-bfcc-36de7372db6e"
      },
      "execution_count": 19,
      "outputs": [
        {
          "output_type": "error",
          "ename": "NameError",
          "evalue": "ignored",
          "traceback": [
            "\u001b[0;31m---------------------------------------------------------------------------\u001b[0m",
            "\u001b[0;31mNameError\u001b[0m                                 Traceback (most recent call last)",
            "\u001b[0;32m<ipython-input-19-6747cc01d6eb>\u001b[0m in \u001b[0;36m<module>\u001b[0;34m\u001b[0m\n\u001b[1;32m      1\u001b[0m \u001b[0;31m# selecting common column names from dataset and feature dataset\u001b[0m\u001b[0;34m\u001b[0m\u001b[0;34m\u001b[0m\u001b[0;34m\u001b[0m\u001b[0m\n\u001b[1;32m      2\u001b[0m \u001b[0mcols\u001b[0m \u001b[0;34m=\u001b[0m \u001b[0mdata\u001b[0m\u001b[0;34m.\u001b[0m\u001b[0mcolumns\u001b[0m\u001b[0;34m\u001b[0m\u001b[0;34m\u001b[0m\u001b[0m\n\u001b[0;32m----> 3\u001b[0;31m \u001b[0mnominal_names\u001b[0m \u001b[0;34m=\u001b[0m \u001b[0mcols\u001b[0m\u001b[0;34m.\u001b[0m\u001b[0mintersection\u001b[0m\u001b[0;34m(\u001b[0m\u001b[0mnominal_names\u001b[0m\u001b[0;34m)\u001b[0m\u001b[0;34m\u001b[0m\u001b[0;34m\u001b[0m\u001b[0m\n\u001b[0m\u001b[1;32m      4\u001b[0m \u001b[0minteger_names\u001b[0m \u001b[0;34m=\u001b[0m \u001b[0mcols\u001b[0m\u001b[0;34m.\u001b[0m\u001b[0mintersection\u001b[0m\u001b[0;34m(\u001b[0m\u001b[0minteger_names\u001b[0m\u001b[0;34m)\u001b[0m\u001b[0;34m\u001b[0m\u001b[0;34m\u001b[0m\u001b[0m\n\u001b[1;32m      5\u001b[0m \u001b[0mbinary_names\u001b[0m \u001b[0;34m=\u001b[0m \u001b[0mcols\u001b[0m\u001b[0;34m.\u001b[0m\u001b[0mintersection\u001b[0m\u001b[0;34m(\u001b[0m\u001b[0mbinary_names\u001b[0m\u001b[0;34m)\u001b[0m\u001b[0;34m\u001b[0m\u001b[0;34m\u001b[0m\u001b[0m\n",
            "\u001b[0;31mNameError\u001b[0m: name 'nominal_names' is not defined"
          ]
        }
      ]
    },
    {
      "cell_type": "code",
      "source": [
        "# Converting integer columns to numeric\n",
        "for c in integer_names:\n",
        "  pd.to_numeric(data[c])"
      ],
      "metadata": {
        "colab": {
          "base_uri": "https://localhost:8080/",
          "height": 200
        },
        "id": "rU6PbOZS0y0L",
        "outputId": "e42099e9-d518-49a6-ccbd-00097c7cf589"
      },
      "execution_count": 20,
      "outputs": [
        {
          "output_type": "error",
          "ename": "NameError",
          "evalue": "ignored",
          "traceback": [
            "\u001b[0;31m---------------------------------------------------------------------------\u001b[0m",
            "\u001b[0;31mNameError\u001b[0m                                 Traceback (most recent call last)",
            "\u001b[0;32m<ipython-input-20-5af2fb797807>\u001b[0m in \u001b[0;36m<module>\u001b[0;34m\u001b[0m\n\u001b[1;32m      1\u001b[0m \u001b[0;31m# Converting integer columns to numeric\u001b[0m\u001b[0;34m\u001b[0m\u001b[0;34m\u001b[0m\u001b[0;34m\u001b[0m\u001b[0m\n\u001b[0;32m----> 2\u001b[0;31m \u001b[0;32mfor\u001b[0m \u001b[0mc\u001b[0m \u001b[0;32min\u001b[0m \u001b[0minteger_names\u001b[0m\u001b[0;34m:\u001b[0m\u001b[0;34m\u001b[0m\u001b[0;34m\u001b[0m\u001b[0m\n\u001b[0m\u001b[1;32m      3\u001b[0m   \u001b[0mpd\u001b[0m\u001b[0;34m.\u001b[0m\u001b[0mto_numeric\u001b[0m\u001b[0;34m(\u001b[0m\u001b[0mdata\u001b[0m\u001b[0;34m[\u001b[0m\u001b[0mc\u001b[0m\u001b[0;34m]\u001b[0m\u001b[0;34m)\u001b[0m\u001b[0;34m\u001b[0m\u001b[0;34m\u001b[0m\u001b[0m\n",
            "\u001b[0;31mNameError\u001b[0m: name 'integer_names' is not defined"
          ]
        }
      ]
    },
    {
      "cell_type": "code",
      "source": [
        "# Converting binary columns to numeric\n",
        "for c in binary_names:\n",
        "  pd.to_numeric(data[c])"
      ],
      "metadata": {
        "colab": {
          "base_uri": "https://localhost:8080/",
          "height": 200
        },
        "id": "ikG5JGNV029w",
        "outputId": "ded602bd-d27c-4283-ac12-66075ca39665"
      },
      "execution_count": 21,
      "outputs": [
        {
          "output_type": "error",
          "ename": "NameError",
          "evalue": "ignored",
          "traceback": [
            "\u001b[0;31m---------------------------------------------------------------------------\u001b[0m",
            "\u001b[0;31mNameError\u001b[0m                                 Traceback (most recent call last)",
            "\u001b[0;32m<ipython-input-21-51a1a9d5311b>\u001b[0m in \u001b[0;36m<module>\u001b[0;34m\u001b[0m\n\u001b[1;32m      1\u001b[0m \u001b[0;31m# Converting binary columns to numeric\u001b[0m\u001b[0;34m\u001b[0m\u001b[0;34m\u001b[0m\u001b[0;34m\u001b[0m\u001b[0m\n\u001b[0;32m----> 2\u001b[0;31m \u001b[0;32mfor\u001b[0m \u001b[0mc\u001b[0m \u001b[0;32min\u001b[0m \u001b[0mbinary_names\u001b[0m\u001b[0;34m:\u001b[0m\u001b[0;34m\u001b[0m\u001b[0;34m\u001b[0m\u001b[0m\n\u001b[0m\u001b[1;32m      3\u001b[0m   \u001b[0mpd\u001b[0m\u001b[0;34m.\u001b[0m\u001b[0mto_numeric\u001b[0m\u001b[0;34m(\u001b[0m\u001b[0mdata\u001b[0m\u001b[0;34m[\u001b[0m\u001b[0mc\u001b[0m\u001b[0;34m]\u001b[0m\u001b[0;34m)\u001b[0m\u001b[0;34m\u001b[0m\u001b[0;34m\u001b[0m\u001b[0m\n",
            "\u001b[0;31mNameError\u001b[0m: name 'binary_names' is not defined"
          ]
        }
      ]
    },
    {
      "cell_type": "code",
      "source": [
        "# Converting float columns to numeric\n",
        "for c in float_names:\n",
        "  pd.to_numeric(data[c])"
      ],
      "metadata": {
        "id": "0EBmwa6u03va"
      },
      "execution_count": null,
      "outputs": []
    },
    {
      "cell_type": "code",
      "source": [
        "data.info()"
      ],
      "metadata": {
        "id": "XKNGa9cf07Hu"
      },
      "execution_count": null,
      "outputs": []
    },
    {
      "cell_type": "code",
      "source": [
        "data"
      ],
      "metadata": {
        "id": "79H0m9hs08Ej"
      },
      "execution_count": null,
      "outputs": []
    },
    {
      "cell_type": "code",
      "source": [
        "#Binary Classification\n",
        "plt.figure(figsize=(8,8))\n",
        "plt.pie(data.label.value_counts(),labels=['normal','abnormal'],autopct='%0.2f%%')\n",
        "plt.title(\"Pie chart distribution of normal and abnormal labels\",fontsize=16)\n",
        "plt.legend()\n",
        "plt.savefig('plots/Pie_chart_binary.png')\n",
        "plt.show()"
      ],
      "metadata": {
        "colab": {
          "base_uri": "https://localhost:8080/",
          "height": 830
        },
        "id": "PdQYhIc60_Aa",
        "outputId": "05b94f50-3fe1-40d7-eab3-cbe5f5dc53ce"
      },
      "execution_count": 22,
      "outputs": [
        {
          "output_type": "error",
          "ename": "FileNotFoundError",
          "evalue": "ignored",
          "traceback": [
            "\u001b[0;31m---------------------------------------------------------------------------\u001b[0m",
            "\u001b[0;31mFileNotFoundError\u001b[0m                         Traceback (most recent call last)",
            "\u001b[0;32m<ipython-input-22-275881e321a0>\u001b[0m in \u001b[0;36m<module>\u001b[0;34m\u001b[0m\n\u001b[1;32m      4\u001b[0m \u001b[0mplt\u001b[0m\u001b[0;34m.\u001b[0m\u001b[0mtitle\u001b[0m\u001b[0;34m(\u001b[0m\u001b[0;34m\"Pie chart distribution of normal and abnormal labels\"\u001b[0m\u001b[0;34m,\u001b[0m\u001b[0mfontsize\u001b[0m\u001b[0;34m=\u001b[0m\u001b[0;36m16\u001b[0m\u001b[0;34m)\u001b[0m\u001b[0;34m\u001b[0m\u001b[0;34m\u001b[0m\u001b[0m\n\u001b[1;32m      5\u001b[0m \u001b[0mplt\u001b[0m\u001b[0;34m.\u001b[0m\u001b[0mlegend\u001b[0m\u001b[0;34m(\u001b[0m\u001b[0;34m)\u001b[0m\u001b[0;34m\u001b[0m\u001b[0;34m\u001b[0m\u001b[0m\n\u001b[0;32m----> 6\u001b[0;31m \u001b[0mplt\u001b[0m\u001b[0;34m.\u001b[0m\u001b[0msavefig\u001b[0m\u001b[0;34m(\u001b[0m\u001b[0;34m'plots/Pie_chart_binary.png'\u001b[0m\u001b[0;34m)\u001b[0m\u001b[0;34m\u001b[0m\u001b[0;34m\u001b[0m\u001b[0m\n\u001b[0m\u001b[1;32m      7\u001b[0m \u001b[0mplt\u001b[0m\u001b[0;34m.\u001b[0m\u001b[0mshow\u001b[0m\u001b[0;34m(\u001b[0m\u001b[0;34m)\u001b[0m\u001b[0;34m\u001b[0m\u001b[0;34m\u001b[0m\u001b[0m\n",
            "\u001b[0;32m/usr/local/lib/python3.7/dist-packages/matplotlib/pyplot.py\u001b[0m in \u001b[0;36msavefig\u001b[0;34m(*args, **kwargs)\u001b[0m\n\u001b[1;32m    721\u001b[0m \u001b[0;32mdef\u001b[0m \u001b[0msavefig\u001b[0m\u001b[0;34m(\u001b[0m\u001b[0;34m*\u001b[0m\u001b[0margs\u001b[0m\u001b[0;34m,\u001b[0m \u001b[0;34m**\u001b[0m\u001b[0mkwargs\u001b[0m\u001b[0;34m)\u001b[0m\u001b[0;34m:\u001b[0m\u001b[0;34m\u001b[0m\u001b[0;34m\u001b[0m\u001b[0m\n\u001b[1;32m    722\u001b[0m     \u001b[0mfig\u001b[0m \u001b[0;34m=\u001b[0m \u001b[0mgcf\u001b[0m\u001b[0;34m(\u001b[0m\u001b[0;34m)\u001b[0m\u001b[0;34m\u001b[0m\u001b[0;34m\u001b[0m\u001b[0m\n\u001b[0;32m--> 723\u001b[0;31m     \u001b[0mres\u001b[0m \u001b[0;34m=\u001b[0m \u001b[0mfig\u001b[0m\u001b[0;34m.\u001b[0m\u001b[0msavefig\u001b[0m\u001b[0;34m(\u001b[0m\u001b[0;34m*\u001b[0m\u001b[0margs\u001b[0m\u001b[0;34m,\u001b[0m \u001b[0;34m**\u001b[0m\u001b[0mkwargs\u001b[0m\u001b[0;34m)\u001b[0m\u001b[0;34m\u001b[0m\u001b[0;34m\u001b[0m\u001b[0m\n\u001b[0m\u001b[1;32m    724\u001b[0m     \u001b[0mfig\u001b[0m\u001b[0;34m.\u001b[0m\u001b[0mcanvas\u001b[0m\u001b[0;34m.\u001b[0m\u001b[0mdraw_idle\u001b[0m\u001b[0;34m(\u001b[0m\u001b[0;34m)\u001b[0m   \u001b[0;31m# need this if 'transparent=True' to reset colors\u001b[0m\u001b[0;34m\u001b[0m\u001b[0;34m\u001b[0m\u001b[0m\n\u001b[1;32m    725\u001b[0m     \u001b[0;32mreturn\u001b[0m \u001b[0mres\u001b[0m\u001b[0;34m\u001b[0m\u001b[0;34m\u001b[0m\u001b[0m\n",
            "\u001b[0;32m/usr/local/lib/python3.7/dist-packages/matplotlib/figure.py\u001b[0m in \u001b[0;36msavefig\u001b[0;34m(self, fname, transparent, **kwargs)\u001b[0m\n\u001b[1;32m   2201\u001b[0m             \u001b[0mself\u001b[0m\u001b[0;34m.\u001b[0m\u001b[0mpatch\u001b[0m\u001b[0;34m.\u001b[0m\u001b[0mset_visible\u001b[0m\u001b[0;34m(\u001b[0m\u001b[0mframeon\u001b[0m\u001b[0;34m)\u001b[0m\u001b[0;34m\u001b[0m\u001b[0;34m\u001b[0m\u001b[0m\n\u001b[1;32m   2202\u001b[0m \u001b[0;34m\u001b[0m\u001b[0m\n\u001b[0;32m-> 2203\u001b[0;31m         \u001b[0mself\u001b[0m\u001b[0;34m.\u001b[0m\u001b[0mcanvas\u001b[0m\u001b[0;34m.\u001b[0m\u001b[0mprint_figure\u001b[0m\u001b[0;34m(\u001b[0m\u001b[0mfname\u001b[0m\u001b[0;34m,\u001b[0m \u001b[0;34m**\u001b[0m\u001b[0mkwargs\u001b[0m\u001b[0;34m)\u001b[0m\u001b[0;34m\u001b[0m\u001b[0;34m\u001b[0m\u001b[0m\n\u001b[0m\u001b[1;32m   2204\u001b[0m \u001b[0;34m\u001b[0m\u001b[0m\n\u001b[1;32m   2205\u001b[0m         \u001b[0;32mif\u001b[0m \u001b[0mframeon\u001b[0m\u001b[0;34m:\u001b[0m\u001b[0;34m\u001b[0m\u001b[0;34m\u001b[0m\u001b[0m\n",
            "\u001b[0;32m/usr/local/lib/python3.7/dist-packages/matplotlib/backend_bases.py\u001b[0m in \u001b[0;36mprint_figure\u001b[0;34m(self, filename, dpi, facecolor, edgecolor, orientation, format, bbox_inches, **kwargs)\u001b[0m\n\u001b[1;32m   2124\u001b[0m                     \u001b[0morientation\u001b[0m\u001b[0;34m=\u001b[0m\u001b[0morientation\u001b[0m\u001b[0;34m,\u001b[0m\u001b[0;34m\u001b[0m\u001b[0;34m\u001b[0m\u001b[0m\n\u001b[1;32m   2125\u001b[0m                     \u001b[0mbbox_inches_restore\u001b[0m\u001b[0;34m=\u001b[0m\u001b[0m_bbox_inches_restore\u001b[0m\u001b[0;34m,\u001b[0m\u001b[0;34m\u001b[0m\u001b[0;34m\u001b[0m\u001b[0m\n\u001b[0;32m-> 2126\u001b[0;31m                     **kwargs)\n\u001b[0m\u001b[1;32m   2127\u001b[0m             \u001b[0;32mfinally\u001b[0m\u001b[0;34m:\u001b[0m\u001b[0;34m\u001b[0m\u001b[0;34m\u001b[0m\u001b[0m\n\u001b[1;32m   2128\u001b[0m                 \u001b[0;32mif\u001b[0m \u001b[0mbbox_inches\u001b[0m \u001b[0;32mand\u001b[0m \u001b[0mrestore_bbox\u001b[0m\u001b[0;34m:\u001b[0m\u001b[0;34m\u001b[0m\u001b[0;34m\u001b[0m\u001b[0m\n",
            "\u001b[0;32m/usr/local/lib/python3.7/dist-packages/matplotlib/backends/backend_agg.py\u001b[0m in \u001b[0;36mprint_png\u001b[0;34m(self, filename_or_obj, metadata, pil_kwargs, *args, **kwargs)\u001b[0m\n\u001b[1;32m    533\u001b[0m         \u001b[0;32melse\u001b[0m\u001b[0;34m:\u001b[0m\u001b[0;34m\u001b[0m\u001b[0;34m\u001b[0m\u001b[0m\n\u001b[1;32m    534\u001b[0m             \u001b[0mrenderer\u001b[0m \u001b[0;34m=\u001b[0m \u001b[0mself\u001b[0m\u001b[0;34m.\u001b[0m\u001b[0mget_renderer\u001b[0m\u001b[0;34m(\u001b[0m\u001b[0;34m)\u001b[0m\u001b[0;34m\u001b[0m\u001b[0;34m\u001b[0m\u001b[0m\n\u001b[0;32m--> 535\u001b[0;31m             \u001b[0;32mwith\u001b[0m \u001b[0mcbook\u001b[0m\u001b[0;34m.\u001b[0m\u001b[0mopen_file_cm\u001b[0m\u001b[0;34m(\u001b[0m\u001b[0mfilename_or_obj\u001b[0m\u001b[0;34m,\u001b[0m \u001b[0;34m\"wb\"\u001b[0m\u001b[0;34m)\u001b[0m \u001b[0;32mas\u001b[0m \u001b[0mfh\u001b[0m\u001b[0;34m:\u001b[0m\u001b[0;34m\u001b[0m\u001b[0;34m\u001b[0m\u001b[0m\n\u001b[0m\u001b[1;32m    536\u001b[0m                 _png.write_png(renderer._renderer, fh, self.figure.dpi,\n\u001b[1;32m    537\u001b[0m                                metadata={**default_metadata, **metadata})\n",
            "\u001b[0;32m/usr/lib/python3.7/contextlib.py\u001b[0m in \u001b[0;36m__enter__\u001b[0;34m(self)\u001b[0m\n\u001b[1;32m    110\u001b[0m         \u001b[0;32mdel\u001b[0m \u001b[0mself\u001b[0m\u001b[0;34m.\u001b[0m\u001b[0margs\u001b[0m\u001b[0;34m,\u001b[0m \u001b[0mself\u001b[0m\u001b[0;34m.\u001b[0m\u001b[0mkwds\u001b[0m\u001b[0;34m,\u001b[0m \u001b[0mself\u001b[0m\u001b[0;34m.\u001b[0m\u001b[0mfunc\u001b[0m\u001b[0;34m\u001b[0m\u001b[0;34m\u001b[0m\u001b[0m\n\u001b[1;32m    111\u001b[0m         \u001b[0;32mtry\u001b[0m\u001b[0;34m:\u001b[0m\u001b[0;34m\u001b[0m\u001b[0;34m\u001b[0m\u001b[0m\n\u001b[0;32m--> 112\u001b[0;31m             \u001b[0;32mreturn\u001b[0m \u001b[0mnext\u001b[0m\u001b[0;34m(\u001b[0m\u001b[0mself\u001b[0m\u001b[0;34m.\u001b[0m\u001b[0mgen\u001b[0m\u001b[0;34m)\u001b[0m\u001b[0;34m\u001b[0m\u001b[0;34m\u001b[0m\u001b[0m\n\u001b[0m\u001b[1;32m    113\u001b[0m         \u001b[0;32mexcept\u001b[0m \u001b[0mStopIteration\u001b[0m\u001b[0;34m:\u001b[0m\u001b[0;34m\u001b[0m\u001b[0;34m\u001b[0m\u001b[0m\n\u001b[1;32m    114\u001b[0m             \u001b[0;32mraise\u001b[0m \u001b[0mRuntimeError\u001b[0m\u001b[0;34m(\u001b[0m\u001b[0;34m\"generator didn't yield\"\u001b[0m\u001b[0;34m)\u001b[0m \u001b[0;32mfrom\u001b[0m \u001b[0;32mNone\u001b[0m\u001b[0;34m\u001b[0m\u001b[0;34m\u001b[0m\u001b[0m\n",
            "\u001b[0;32m/usr/local/lib/python3.7/dist-packages/matplotlib/cbook/__init__.py\u001b[0m in \u001b[0;36mopen_file_cm\u001b[0;34m(path_or_file, mode, encoding)\u001b[0m\n\u001b[1;32m    416\u001b[0m \u001b[0;32mdef\u001b[0m \u001b[0mopen_file_cm\u001b[0m\u001b[0;34m(\u001b[0m\u001b[0mpath_or_file\u001b[0m\u001b[0;34m,\u001b[0m \u001b[0mmode\u001b[0m\u001b[0;34m=\u001b[0m\u001b[0;34m\"r\"\u001b[0m\u001b[0;34m,\u001b[0m \u001b[0mencoding\u001b[0m\u001b[0;34m=\u001b[0m\u001b[0;32mNone\u001b[0m\u001b[0;34m)\u001b[0m\u001b[0;34m:\u001b[0m\u001b[0;34m\u001b[0m\u001b[0;34m\u001b[0m\u001b[0m\n\u001b[1;32m    417\u001b[0m     \u001b[0;34mr\"\"\"Pass through file objects and context-manage `.PathLike`\\s.\"\"\"\u001b[0m\u001b[0;34m\u001b[0m\u001b[0;34m\u001b[0m\u001b[0m\n\u001b[0;32m--> 418\u001b[0;31m     \u001b[0mfh\u001b[0m\u001b[0;34m,\u001b[0m \u001b[0mopened\u001b[0m \u001b[0;34m=\u001b[0m \u001b[0mto_filehandle\u001b[0m\u001b[0;34m(\u001b[0m\u001b[0mpath_or_file\u001b[0m\u001b[0;34m,\u001b[0m \u001b[0mmode\u001b[0m\u001b[0;34m,\u001b[0m \u001b[0;32mTrue\u001b[0m\u001b[0;34m,\u001b[0m \u001b[0mencoding\u001b[0m\u001b[0;34m)\u001b[0m\u001b[0;34m\u001b[0m\u001b[0;34m\u001b[0m\u001b[0m\n\u001b[0m\u001b[1;32m    419\u001b[0m     \u001b[0;32mif\u001b[0m \u001b[0mopened\u001b[0m\u001b[0;34m:\u001b[0m\u001b[0;34m\u001b[0m\u001b[0;34m\u001b[0m\u001b[0m\n\u001b[1;32m    420\u001b[0m         \u001b[0;32mwith\u001b[0m \u001b[0mfh\u001b[0m\u001b[0;34m:\u001b[0m\u001b[0;34m\u001b[0m\u001b[0;34m\u001b[0m\u001b[0m\n",
            "\u001b[0;32m/usr/local/lib/python3.7/dist-packages/matplotlib/cbook/__init__.py\u001b[0m in \u001b[0;36mto_filehandle\u001b[0;34m(fname, flag, return_opened, encoding)\u001b[0m\n\u001b[1;32m    401\u001b[0m             \u001b[0mfh\u001b[0m \u001b[0;34m=\u001b[0m \u001b[0mbz2\u001b[0m\u001b[0;34m.\u001b[0m\u001b[0mBZ2File\u001b[0m\u001b[0;34m(\u001b[0m\u001b[0mfname\u001b[0m\u001b[0;34m,\u001b[0m \u001b[0mflag\u001b[0m\u001b[0;34m)\u001b[0m\u001b[0;34m\u001b[0m\u001b[0;34m\u001b[0m\u001b[0m\n\u001b[1;32m    402\u001b[0m         \u001b[0;32melse\u001b[0m\u001b[0;34m:\u001b[0m\u001b[0;34m\u001b[0m\u001b[0;34m\u001b[0m\u001b[0m\n\u001b[0;32m--> 403\u001b[0;31m             \u001b[0mfh\u001b[0m \u001b[0;34m=\u001b[0m \u001b[0mopen\u001b[0m\u001b[0;34m(\u001b[0m\u001b[0mfname\u001b[0m\u001b[0;34m,\u001b[0m \u001b[0mflag\u001b[0m\u001b[0;34m,\u001b[0m \u001b[0mencoding\u001b[0m\u001b[0;34m=\u001b[0m\u001b[0mencoding\u001b[0m\u001b[0;34m)\u001b[0m\u001b[0;34m\u001b[0m\u001b[0;34m\u001b[0m\u001b[0m\n\u001b[0m\u001b[1;32m    404\u001b[0m         \u001b[0mopened\u001b[0m \u001b[0;34m=\u001b[0m \u001b[0;32mTrue\u001b[0m\u001b[0;34m\u001b[0m\u001b[0;34m\u001b[0m\u001b[0m\n\u001b[1;32m    405\u001b[0m     \u001b[0;32melif\u001b[0m \u001b[0mhasattr\u001b[0m\u001b[0;34m(\u001b[0m\u001b[0mfname\u001b[0m\u001b[0;34m,\u001b[0m \u001b[0;34m'seek'\u001b[0m\u001b[0;34m)\u001b[0m\u001b[0;34m:\u001b[0m\u001b[0;34m\u001b[0m\u001b[0;34m\u001b[0m\u001b[0m\n",
            "\u001b[0;31mFileNotFoundError\u001b[0m: [Errno 2] No such file or directory: 'plots/Pie_chart_binary.png'"
          ]
        },
        {
          "output_type": "display_data",
          "data": {
            "text/plain": [
              "<Figure size 576x576 with 1 Axes>"
            ],
            "image/png": "[encoded data removed]"
          },
          "metadata": {}
        }
      ]
    },
    {
      "cell_type": "code",
      "source": [
        "#Multi-class Classification\n",
        "plt.figure(figsize=(8,8))\n",
        "plt.pie(data.attack_cat.value_counts(),labels=data.attack_cat.unique(),autopct='%0.2f%%')\n",
        "plt.title('Pie chart distribution of multi-class labels')\n",
        "plt.legend(loc='best')\n",
        "plt.savefig('plots/Pie_chart_multi.png')\n",
        "plt.show()"
      ],
      "metadata": {
        "id": "k8G4ZGcP1C7j"
      },
      "execution_count": null,
      "outputs": []
    },
    {
      "cell_type": "code",
      "source": [
        "#One hot encoding\n",
        "num_col = data.select_dtypes(include='number').columns\n",
        "\n",
        "# selecting categorical data attributes\n",
        "cat_col = data.columns.difference(num_col)\n",
        "cat_col = cat_col[1:]\n",
        "cat_col"
      ],
      "metadata": {
        "id": "vdYgCSID1GnM"
      },
      "execution_count": null,
      "outputs": []
    },
    {
      "cell_type": "code",
      "source": [
        "# creating a dataframe with only categorical attributes\n",
        "data_cat = data[cat_col].copy()\n",
        "data_cat.head()"
      ],
      "metadata": {
        "id": "46rsUh6x1M9t"
      },
      "execution_count": null,
      "outputs": []
    },
    {
      "cell_type": "code",
      "source": [
        "# one-hot-encoding categorical attributes using pandas.get_dummies() function\n",
        "data_cat = pd.get_dummies(data_cat,columns=cat_col)"
      ],
      "metadata": {
        "id": "VuUdbq-11OK2"
      },
      "execution_count": null,
      "outputs": []
    },
    {
      "cell_type": "code",
      "source": [
        "data_cat.head()"
      ],
      "metadata": {
        "id": "U7YQMXk-1QjX"
      },
      "execution_count": null,
      "outputs": []
    },
    {
      "cell_type": "code",
      "source": [
        "data.shape"
      ],
      "metadata": {
        "id": "J0uhbOHj1SwI"
      },
      "execution_count": null,
      "outputs": []
    },
    {
      "cell_type": "code",
      "source": [
        "data = pd.concat([data, data_cat],axis=1)"
      ],
      "metadata": {
        "id": "oPPZd3s61VG0"
      },
      "execution_count": null,
      "outputs": []
    },
    {
      "cell_type": "code",
      "source": [
        "data.shape"
      ],
      "metadata": {
        "id": "7YnfPHFM1X3m"
      },
      "execution_count": null,
      "outputs": []
    },
    {
      "cell_type": "code",
      "source": [
        "data.drop(columns=cat_col,inplace=True)"
      ],
      "metadata": {
        "id": "QVH-Ydtj1aQV"
      },
      "execution_count": null,
      "outputs": []
    },
    {
      "cell_type": "code",
      "source": [
        "\n",
        "data.shape"
      ],
      "metadata": {
        "id": "gtECHK-P1cch"
      },
      "execution_count": null,
      "outputs": []
    },
    {
      "cell_type": "code",
      "source": [
        "# Data Normalization\n",
        "# selecting numeric attributes columns from data\n",
        "num_col = list(data.select_dtypes(include='number').columns)\n",
        "num_col.remove('id')\n",
        "num_col.remove('label')\n",
        "print(num_col)"
      ],
      "metadata": {
        "id": "ergzcNF71e7s"
      },
      "execution_count": null,
      "outputs": []
    },
    {
      "cell_type": "code",
      "source": [
        "# using minmax scaler for normalizing data\n",
        "minmax_scale = MinMaxScaler(feature_range=(0, 1))\n",
        "def normalization(df,col):\n",
        "  for i in col:\n",
        "    arr = df[i]\n",
        "    arr = np.array(arr)\n",
        "    df[i] = minmax_scale.fit_transform(arr.reshape(len(arr),1))\n",
        "  return df\n"
      ],
      "metadata": {
        "id": "OMDstLRIQ7Um"
      },
      "execution_count": null,
      "outputs": []
    },
    {
      "cell_type": "code",
      "source": [
        "# data before normalization\n",
        "data.head()"
      ],
      "metadata": {
        "id": "SNA_wSjORDnN"
      },
      "execution_count": null,
      "outputs": []
    },
    {
      "cell_type": "code",
      "source": [
        "# calling normalization() function\n",
        "data = normalization(data.copy(),num_col)"
      ],
      "metadata": {
        "id": "N4LUDqaIREWA"
      },
      "execution_count": null,
      "outputs": []
    },
    {
      "cell_type": "code",
      "source": [
        "# data after normalization\n",
        "data.head()"
      ],
      "metadata": {
        "id": "-QXrWOWORHHm"
      },
      "execution_count": null,
      "outputs": []
    },
    {
      "cell_type": "code",
      "source": [
        "#Label Encoding\n",
        "#Binary Labels\n",
        "# changing attack labels into two categories 'normal' and 'abnormal'\n",
        "bin_label = pd.DataFrame(data.label.map(lambda x:'normal' if x==0 else 'abnormal'))"
      ],
      "metadata": {
        "id": "P-bRksAtRKbm"
      },
      "execution_count": null,
      "outputs": []
    },
    {
      "cell_type": "code",
      "source": [
        "# creating a dataframe with binary labels (normal,abnormal)\n",
        "bin_data = data.copy()\n",
        "bin_data['label'] = bin_label"
      ],
      "metadata": {
        "id": "wHDCaC9dRUfH"
      },
      "execution_count": null,
      "outputs": []
    },
    {
      "cell_type": "code",
      "source": [
        "# label encoding (0,1) binary labels\n",
        "le1 = preprocessing.LabelEncoder()\n",
        "enc_label = bin_label.apply(le1.fit_transform)\n",
        "bin_data['label'] = enc_label"
      ],
      "metadata": {
        "id": "aU3lphchRVXx"
      },
      "execution_count": null,
      "outputs": []
    },
    {
      "cell_type": "code",
      "source": [
        "le1.classes_"
      ],
      "metadata": {
        "id": "PZoGoHnURdAh"
      },
      "execution_count": null,
      "outputs": []
    },
    {
      "cell_type": "code",
      "source": [
        "np.save(\"le1_classes.npy\",le1.classes_,allow_pickle=True)"
      ],
      "metadata": {
        "id": "QoD6X8vMRYEu"
      },
      "execution_count": null,
      "outputs": []
    },
    {
      "cell_type": "code",
      "source": [
        "#Multi-class Labels\n",
        "# one-hot-encoding attack label\n",
        "multi_data = data.copy()\n",
        "multi_label = pd.DataFrame(multi_data.attack_cat)"
      ],
      "metadata": {
        "id": "n54evxUURkU9"
      },
      "execution_count": null,
      "outputs": []
    },
    {
      "cell_type": "code",
      "source": [
        "multi_data = pd.get_dummies(multi_data,columns=['attack_cat'])"
      ],
      "metadata": {
        "id": "yINPGVN9RmRn"
      },
      "execution_count": null,
      "outputs": []
    },
    {
      "cell_type": "code",
      "source": [
        "# label encoding (0,1,2,3,4,5,6,7,8) multi-class labels\n",
        "le2 = preprocessing.LabelEncoder()\n",
        "enc_label = multi_label.apply(le2.fit_transform)\n",
        "multi_data['label'] = enc_label"
      ],
      "metadata": {
        "id": "-bO5w6s2RpU9"
      },
      "execution_count": null,
      "outputs": []
    },
    {
      "cell_type": "code",
      "source": [
        "le2.classes_"
      ],
      "metadata": {
        "id": "NrTBfUofRsNJ"
      },
      "execution_count": null,
      "outputs": []
    },
    {
      "cell_type": "code",
      "source": [
        "np.save(\"le2_classes.npy\",le2.classes_,allow_pickle=True)"
      ],
      "metadata": {
        "id": "0PAgCJJ5RunS"
      },
      "execution_count": null,
      "outputs": []
    },
    {
      "cell_type": "code",
      "source": [
        "#Correlation between features of dataset\n",
        "num_col.append('label')"
      ],
      "metadata": {
        "id": "i-iXoXVYRx4l"
      },
      "execution_count": null,
      "outputs": []
    },
    {
      "cell_type": "code",
      "source": [
        "# Correlation Matrix for Binary Labels\n",
        "# Correlation Matrix for Binary Labels\n",
        "plt.figure(figsize=(20,8))\n",
        "corr_bin = bin_data[num_col].corr()\n",
        "sns.heatmap(corr_bin,vmax=1.0,annot=False)\n",
        "plt.title('Correlation Matrix for Binary Labels',fontsize=16)\n",
        "plt.savefig('plots/correlation_matrix_bin.png')\n",
        "plt.show()"
      ],
      "metadata": {
        "id": "c4-k8QMtR4Sf"
      },
      "execution_count": null,
      "outputs": []
    },
    {
      "cell_type": "code",
      "source": [
        "#Correlation Matrix for Multi-class Labels\n",
        "num_col = list(multi_data.select_dtypes(include='number').columns)"
      ],
      "metadata": {
        "id": "VhpdRF24R72L"
      },
      "execution_count": null,
      "outputs": []
    },
    {
      "cell_type": "code",
      "source": [
        "# Correlation Matrix for Multi-class Labels\n",
        "plt.figure(figsize=(20,8))\n",
        "corr_multi = multi_data[num_col].corr()\n",
        "sns.heatmap(corr_multi,vmax=1.0,annot=False)\n",
        "plt.title('Correlation Matrix for Multi Labels',fontsize=16)\n",
        "plt.savefig('plots/correlation_matrix_multi.png')\n",
        "plt.show()"
      ],
      "metadata": {
        "id": "IS4IoZbVSFid"
      },
      "execution_count": null,
      "outputs": []
    },
    {
      "cell_type": "code",
      "source": [
        "# Feature Selection\n",
        "# Binary Labels\n",
        "# finding the attributes which have more than 0.3 correlation with encoded attack label attribute \n",
        "corr_ybin = abs(corr_bin['label'])\n",
        "highest_corr_bin = corr_ybin[corr_ybin >0.3]\n",
        "highest_corr_bin.sort_values(ascending=True)"
      ],
      "metadata": {
        "id": "Ta1VbjrsSIZU"
      },
      "execution_count": null,
      "outputs": []
    },
    {
      "cell_type": "code",
      "source": [
        "# selecting attributes found by using pearson correlation coefficient\n",
        "bin_cols = highest_corr_bin.index\n",
        "bin_cols"
      ],
      "metadata": {
        "id": "CQA1XLG_SOEU"
      },
      "execution_count": null,
      "outputs": []
    },
    {
      "cell_type": "code",
      "source": [
        "# Binary labelled Dataset\n",
        "bin_data = bin_data[bin_cols].copy()\n",
        "bin_data"
      ],
      "metadata": {
        "id": "uNw22RvlSUbe"
      },
      "execution_count": null,
      "outputs": []
    },
    {
      "cell_type": "code",
      "source": [
        "#Saving Prepared Dataset to Disk\n",
        "bin_data.to_csv('./datasets/bin_data.csv')"
      ],
      "metadata": {
        "id": "Ma9Ap1tTSVJt"
      },
      "execution_count": null,
      "outputs": []
    },
    {
      "cell_type": "code",
      "source": [
        "# Multi-class Labels\n",
        "# finding the attributes which have more than 0.3 correlation with encoded attack label attribute \n",
        "corr_ymulti = abs(corr_multi['label'])\n",
        "highest_corr_multi = corr_ymulti[corr_ymulti >0.3]\n",
        "highest_corr_multi.sort_values(ascending=True)"
      ],
      "metadata": {
        "id": "DaDpZtDTSaoU"
      },
      "execution_count": null,
      "outputs": []
    },
    {
      "cell_type": "code",
      "source": [
        "# selecting attributes found by using pearson correlation coefficient\n",
        "multi_cols = highest_corr_multi.index\n",
        "multi_cols"
      ],
      "metadata": {
        "id": "ErBLsu1TTYZs"
      },
      "execution_count": null,
      "outputs": []
    },
    {
      "cell_type": "code",
      "source": [
        "# Multi-class labelled Dataset\n",
        "multi_data = multi_data[multi_cols].copy()"
      ],
      "metadata": {
        "id": "t024bXfSTZIs"
      },
      "execution_count": null,
      "outputs": []
    },
    {
      "cell_type": "code",
      "source": [
        "# Saving to disk \n",
        "multi_data.to_csv('./datasets/multi_data.csv')"
      ],
      "metadata": {
        "id": "6_TSTyKcTb4K"
      },
      "execution_count": null,
      "outputs": []
    },
    {
      "cell_type": "code",
      "source": [
        "#BINARY CLASSIFICATION\n",
        "#Data Splitting\n",
        "X = bin_data.drop(columns=['label'],axis=1)\n",
        "Y = bin_data['label']"
      ],
      "metadata": {
        "colab": {
          "base_uri": "https://localhost:8080/",
          "height": 217
        },
        "id": "uaPoDNAATlg9",
        "outputId": "082101b5-82c1-4b63-f5a5-3e37606a664c"
      },
      "execution_count": 38,
      "outputs": [
        {
          "output_type": "error",
          "ename": "NameError",
          "evalue": "ignored",
          "traceback": [
            "\u001b[0;31m---------------------------------------------------------------------------\u001b[0m",
            "\u001b[0;31mNameError\u001b[0m                                 Traceback (most recent call last)",
            "\u001b[0;32m<ipython-input-38-67e65c60b692>\u001b[0m in \u001b[0;36m<module>\u001b[0;34m\u001b[0m\n\u001b[1;32m      1\u001b[0m \u001b[0;31m#BINARY CLASSIFICATION\u001b[0m\u001b[0;34m\u001b[0m\u001b[0;34m\u001b[0m\u001b[0;34m\u001b[0m\u001b[0m\n\u001b[1;32m      2\u001b[0m \u001b[0;31m#Data Splitting\u001b[0m\u001b[0;34m\u001b[0m\u001b[0;34m\u001b[0m\u001b[0;34m\u001b[0m\u001b[0m\n\u001b[0;32m----> 3\u001b[0;31m \u001b[0mX\u001b[0m \u001b[0;34m=\u001b[0m \u001b[0mbin_data\u001b[0m\u001b[0;34m.\u001b[0m\u001b[0mdrop\u001b[0m\u001b[0;34m(\u001b[0m\u001b[0mcolumns\u001b[0m\u001b[0;34m=\u001b[0m\u001b[0;34m[\u001b[0m\u001b[0;34m'label'\u001b[0m\u001b[0;34m]\u001b[0m\u001b[0;34m,\u001b[0m\u001b[0maxis\u001b[0m\u001b[0;34m=\u001b[0m\u001b[0;36m1\u001b[0m\u001b[0;34m)\u001b[0m\u001b[0;34m\u001b[0m\u001b[0;34m\u001b[0m\u001b[0m\n\u001b[0m\u001b[1;32m      4\u001b[0m \u001b[0mY\u001b[0m \u001b[0;34m=\u001b[0m \u001b[0mbin_data\u001b[0m\u001b[0;34m[\u001b[0m\u001b[0;34m'label'\u001b[0m\u001b[0;34m]\u001b[0m\u001b[0;34m\u001b[0m\u001b[0;34m\u001b[0m\u001b[0m\n",
            "\u001b[0;31mNameError\u001b[0m: name 'bin_data' is not defined"
          ]
        }
      ]
    },
    {
      "cell_type": "code",
      "source": [
        "X_train,X_test,y_train,y_test = train_test_split(X,Y,test_size=0.20, random_state=50)"
      ],
      "metadata": {
        "id": "jxbD3xokHLC4"
      },
      "execution_count": null,
      "outputs": []
    },
    {
      "cell_type": "code",
      "source": [
        "#Linear Regression\n",
        "lr_bin = LinearRegression(normalize=False)\n",
        "lr_bin.fit(X_train, y_train)"
      ],
      "metadata": {
        "id": "gRtsgw3_Ttum"
      },
      "execution_count": null,
      "outputs": []
    },
    {
      "cell_type": "code",
      "source": [
        "y_pred = lr_bin.predict(X_test)"
      ],
      "metadata": {
        "id": "fUQCS3F_Trdg"
      },
      "execution_count": null,
      "outputs": []
    },
    {
      "cell_type": "code",
      "source": [
        "round = lambda x:1 if x>0.6 else 0\n",
        "vfunc = np.vectorize(round)\n",
        "y_pred = vfunc(y_pred)"
      ],
      "metadata": {
        "id": "tSnJ6kuWrMjU"
      },
      "execution_count": null,
      "outputs": []
    },
    {
      "cell_type": "code",
      "source": [
        "print(\"Mean Absolute Error - \" , metrics.mean_absolute_error(y_test, y_pred))\n",
        "print(\"Mean Squared Error - \" , metrics.mean_squared_error(y_test, y_pred))\n",
        "print(\"Root Mean Squared Error - \" , np.sqrt(metrics.mean_squared_error(y_test, y_pred)))\n",
        "print(\"R2 Score - \" , metrics.explained_variance_score(y_test, y_pred)*100)\n",
        "print(\"Accuracy - \",accuracy_score(y_test,y_pred)*100)"
      ],
      "metadata": {
        "id": "7dJi8-3trSBC"
      },
      "execution_count": null,
      "outputs": []
    },
    {
      "cell_type": "code",
      "source": [
        "cls_report= classification_report(y_true=y_test, y_pred=y_pred,target_names=le1.classes_)"
      ],
      "metadata": {
        "id": "Ws6H7ywJrTDj"
      },
      "execution_count": null,
      "outputs": []
    },
    {
      "cell_type": "code",
      "source": [
        "print(cls_report)"
      ],
      "metadata": {
        "id": "uF5QA6dBrXFR"
      },
      "execution_count": null,
      "outputs": []
    },
    {
      "cell_type": "code",
      "source": [
        "#Real and Predicted Data\n",
        "lr_bin_df = pd.DataFrame({'Actual': y_test, 'Predicted': y_pred})\n",
        "lr_bin_df.to_csv('./predictions/lr_real_pred_bin.csv')\n",
        "lr_bin_df"
      ],
      "metadata": {
        "id": "7jWWHdPuraRE"
      },
      "execution_count": null,
      "outputs": []
    },
    {
      "cell_type": "code",
      "source": [
        "#Plot between Real and Predicted Data\n",
        "plt.figure(figsize=(20,8))\n",
        "plt.plot(y_pred[:200], label=\"prediction\", linewidth=2.0,color='blue')\n",
        "plt.plot(y_test[:200].values, label=\"real_values\", linewidth=2.0,color='lightcoral')\n",
        "plt.legend(loc=\"best\")\n",
        "plt.title(\"Linear Regression Binary Classification\")\n",
        "plt.savefig('plots/lr_real_pred_bin.png')\n",
        "plt.show()"
      ],
      "metadata": {
        "id": "oGecGSFLrhdC"
      },
      "execution_count": null,
      "outputs": []
    },
    {
      "cell_type": "code",
      "source": [
        "#Saving Trained Model to Disk\n",
        "pkl_filename = \"./models/linear_regressor_binary.pkl\"\n",
        "if (not path.isfile(pkl_filename)):\n",
        "  # saving the trained model to disk \n",
        "  with open(pkl_filename, 'wb') as file:\n",
        "    pickle.dump(lr_bin, file)\n",
        "  print(\"Saved model to disk\")\n",
        "else:\n",
        "  print(\"Previous Model exists on the disk! Please Remove\")"
      ],
      "metadata": {
        "id": "Aueh-ORfrmIK"
      },
      "execution_count": null,
      "outputs": []
    },
    {
      "cell_type": "code",
      "source": [
        "#Logistic Regression\n",
        "logr_bin = LogisticRegression(random_state=123, max_iter=5000)\n",
        "logr_bin"
      ],
      "metadata": {
        "id": "kWQV5ygcry8P"
      },
      "execution_count": null,
      "outputs": []
    },
    {
      "cell_type": "code",
      "source": [
        "logr_bin.fit(X_train,y_train)"
      ],
      "metadata": {
        "id": "C9TV4nr_r4Zm"
      },
      "execution_count": null,
      "outputs": []
    },
    {
      "cell_type": "code",
      "source": [
        "y_pred = logr_bin.predict(X_test)"
      ],
      "metadata": {
        "id": "SK7azd5ir7yr"
      },
      "execution_count": null,
      "outputs": []
    },
    {
      "cell_type": "code",
      "source": [
        "print(\"Mean Absolute Error - \" , metrics.mean_absolute_error(y_test, y_pred))\n",
        "print(\"Mean Squared Error - \" , metrics.mean_squared_error(y_test, y_pred))\n",
        "print(\"Root Mean Squared Error - \" , np.sqrt(metrics.mean_squared_error(y_test, y_pred)))\n",
        "print(\"R2 Score - \" , metrics.explained_variance_score(y_test, y_pred)*100)\n",
        "print(\"Accuracy - \",accuracy_score(y_test,y_pred)*100)"
      ],
      "metadata": {
        "id": "HLOqHIUVJKXF"
      },
      "execution_count": null,
      "outputs": []
    },
    {
      "cell_type": "code",
      "source": [
        "cls_report= classification_report(y_true=y_test, y_pred=y_pred,target_names=le1.classes_)\n",
        "print(cls_report)"
      ],
      "metadata": {
        "id": "9BwCpSIPr-3q"
      },
      "execution_count": null,
      "outputs": []
    },
    {
      "cell_type": "code",
      "source": [
        "#Real and Predicted Data\n",
        "logr_bin_df = pd.DataFrame({'Actual': y_test, 'Predicted': y_pred})\n",
        "logr_bin_df.to_csv('./predictions/logr_real_pred_bin.csv')\n",
        "logr_bin_df"
      ],
      "metadata": {
        "id": "AJM2VtlFsC9G"
      },
      "execution_count": null,
      "outputs": []
    },
    {
      "cell_type": "code",
      "source": [
        "#Plot between Real and Predicted Data\n",
        "plt.figure(figsize=(20,8))\n",
        "plt.plot(y_pred[:200], label=\"prediction\", linewidth=2.0,color='blue')\n",
        "plt.plot(y_test[:200].values, label=\"real_values\", linewidth=2.0,color='lightcoral')\n",
        "plt.legend(loc=\"best\")\n",
        "plt.title(\"Logistic Regression Binary Classification\")\n",
        "plt.savefig('plots/logr_real_pred_bin.png')\n",
        "plt.show()"
      ],
      "metadata": {
        "id": "EWYPuw5lsG00"
      },
      "execution_count": null,
      "outputs": []
    },
    {
      "cell_type": "code",
      "source": [
        "pkl_filename = \"./models/logistic_regressor_binary.pkl\"\n",
        "if (not path.isfile(pkl_filename)):\n",
        "  # saving the trained model to disk \n",
        "  with open(pkl_filename, 'wb') as file:\n",
        "    pickle.dump(logr_bin, file)\n",
        "  print(\"Saved model to disk\")\n",
        "else:\n",
        "  print(\"Model already saved\")"
      ],
      "metadata": {
        "id": "092JskeWsLZP"
      },
      "execution_count": null,
      "outputs": []
    },
    {
      "cell_type": "code",
      "source": [
        "#Linear Support Vector Machine\n",
        "lsvm_bin = SVC(kernel='linear',gamma='auto') \n",
        "lsvm_bin.fit(X_train,y_train)"
      ],
      "metadata": {
        "id": "RRUU_HK0sbGV"
      },
      "execution_count": null,
      "outputs": []
    },
    {
      "cell_type": "code",
      "source": [
        "y_pred = lsvm_bin.predict(X_test)"
      ],
      "metadata": {
        "id": "-Ivz3oa7shYh"
      },
      "execution_count": null,
      "outputs": []
    },
    {
      "cell_type": "code",
      "source": [
        "print(\"Mean Absolute Error - \" , metrics.mean_absolute_error(y_test, y_pred))\n",
        "print(\"Mean Squared Error - \" , metrics.mean_squared_error(y_test, y_pred))\n",
        "print(\"Root Mean Squared Error - \" , np.sqrt(metrics.mean_squared_error(y_test, y_pred)))\n",
        "print(\"R2 Score - \" , metrics.explained_variance_score(y_test, y_pred)*100)\n",
        "print(\"Accuracy - \",accuracy_score(y_test,y_pred)*100)"
      ],
      "metadata": {
        "id": "0NEz_X-HKYsr"
      },
      "execution_count": null,
      "outputs": []
    },
    {
      "cell_type": "code",
      "source": [
        "cls_report= classification_report(y_true=y_test, y_pred=y_pred,target_names=le1.classes_)\n",
        "print(cls_report)"
      ],
      "metadata": {
        "id": "7ByTQYo1slg3"
      },
      "execution_count": null,
      "outputs": []
    },
    {
      "cell_type": "code",
      "source": [
        "#Real and Predicted Data\n",
        "lsvm_bin_df = pd.DataFrame({'Actual': y_test, 'Predicted': y_pred})\n",
        "lsvm_bin_df.to_csv('./predictions/lsvm_real_pred_bin.csv')\n",
        "lsvm_bin_df"
      ],
      "metadata": {
        "id": "4sLrjGPXsn9Y"
      },
      "execution_count": null,
      "outputs": []
    },
    {
      "cell_type": "code",
      "source": [
        "#Plot between Real and Predicted Data\n",
        "plt.figure(figsize=(20,8))\n",
        "plt.plot(y_pred[:200], label=\"prediction\", linewidth=2.0,color='blue')\n",
        "plt.plot(y_test[:200].values, label=\"real_values\", linewidth=2.0,color='lightcoral')\n",
        "plt.legend(loc=\"best\")\n",
        "plt.title(\"Linear SVM Binary Classification\")\n",
        "plt.savefig('plots/lsvm_real_pred_bin.png')\n",
        "plt.show()"
      ],
      "metadata": {
        "id": "h23ovHC8stBd"
      },
      "execution_count": null,
      "outputs": []
    },
    {
      "cell_type": "code",
      "source": [
        "#Saving Trained Model to Disk\n",
        "pkl_filename = \"./models/lsvm_binary.pkl\"\n",
        "if (not path.isfile(pkl_filename)):\n",
        "  # saving the trained model to disk \n",
        "  with open(pkl_filename, 'wb') as file:\n",
        "    pickle.dump(lsvm_bin, file)\n",
        "  print(\"Saved model to disk\")\n",
        "else:\n",
        "  print(\"Model already saved\")"
      ],
      "metadata": {
        "id": "xWybSVECssfq"
      },
      "execution_count": null,
      "outputs": []
    },
    {
      "cell_type": "code",
      "source": [
        "#K Nearest Neighbor Classifier\n",
        "knn_bin=KNeighborsClassifier(n_neighbors=5)\n",
        "knn_bin.fit(X_train,y_train)"
      ],
      "metadata": {
        "colab": {
          "base_uri": "https://localhost:8080/",
          "height": 200
        },
        "id": "4HGv7ObZs81q",
        "outputId": "83ccd5b3-9b0d-44ec-d517-268e92ee3441"
      },
      "execution_count": 39,
      "outputs": [
        {
          "output_type": "error",
          "ename": "NameError",
          "evalue": "ignored",
          "traceback": [
            "\u001b[0;31m---------------------------------------------------------------------------\u001b[0m",
            "\u001b[0;31mNameError\u001b[0m                                 Traceback (most recent call last)",
            "\u001b[0;32m<ipython-input-39-cf6dd161363e>\u001b[0m in \u001b[0;36m<module>\u001b[0;34m\u001b[0m\n\u001b[1;32m      1\u001b[0m \u001b[0;31m#K Nearest Neighbor Classifier\u001b[0m\u001b[0;34m\u001b[0m\u001b[0;34m\u001b[0m\u001b[0;34m\u001b[0m\u001b[0m\n\u001b[1;32m      2\u001b[0m \u001b[0mknn_bin\u001b[0m\u001b[0;34m=\u001b[0m\u001b[0mKNeighborsClassifier\u001b[0m\u001b[0;34m(\u001b[0m\u001b[0mn_neighbors\u001b[0m\u001b[0;34m=\u001b[0m\u001b[0;36m5\u001b[0m\u001b[0;34m)\u001b[0m\u001b[0;34m\u001b[0m\u001b[0;34m\u001b[0m\u001b[0m\n\u001b[0;32m----> 3\u001b[0;31m \u001b[0mknn_bin\u001b[0m\u001b[0;34m.\u001b[0m\u001b[0mfit\u001b[0m\u001b[0;34m(\u001b[0m\u001b[0mX_train\u001b[0m\u001b[0;34m,\u001b[0m\u001b[0my_train\u001b[0m\u001b[0;34m)\u001b[0m\u001b[0;34m\u001b[0m\u001b[0;34m\u001b[0m\u001b[0m\n\u001b[0m",
            "\u001b[0;31mNameError\u001b[0m: name 'X_train' is not defined"
          ]
        }
      ]
    },
    {
      "cell_type": "code",
      "source": [
        "y_pred = knn_bin.predict(X_test)"
      ],
      "metadata": {
        "id": "2cFoEyZAKnan"
      },
      "execution_count": null,
      "outputs": []
    },
    {
      "cell_type": "code",
      "source": [
        "print(\"Mean Absolute Error - \" , metrics.mean_absolute_error(y_test, y_pred))\n",
        "print(\"Mean Squared Error - \" , metrics.mean_squared_error(y_test, y_pred))\n",
        "print(\"Root Mean Squared Error - \" , np.sqrt(metrics.mean_squared_error(y_test, y_pred)))\n",
        "print(\"R2 Score - \" , metrics.explained_variance_score(y_test, y_pred)*100)\n",
        "print(\"Accuracy - \",accuracy_score(y_test,y_pred)*100)"
      ],
      "metadata": {
        "id": "6ICbQnDbKsSl"
      },
      "execution_count": null,
      "outputs": []
    },
    {
      "cell_type": "code",
      "source": [
        "cls_report= classification_report(y_true=y_test, y_pred=y_pred,target_names=le1.classes_)\n",
        "print(cls_report)"
      ],
      "metadata": {
        "id": "iV909GnsKtOx"
      },
      "execution_count": null,
      "outputs": []
    },
    {
      "cell_type": "code",
      "source": [
        "#Real and Predicted Data\n",
        "knn_bin_df = pd.DataFrame({'Actual': y_test, 'Predicted': y_pred})\n",
        "knn_bin_df.to_csv('./predictions/knn_real_pred_bin.csv')\n",
        "knn_bin_df"
      ],
      "metadata": {
        "id": "zg2zCUIiKwkJ"
      },
      "execution_count": null,
      "outputs": []
    },
    {
      "cell_type": "code",
      "source": [
        "#Plot between Real and Predicted Data\n",
        "plt.figure(figsize=(20,8))\n",
        "plt.plot(y_pred[:200], label=\"prediction\", linewidth=2.0,color='blue')\n",
        "plt.plot(y_test[:200].values, label=\"real_values\", linewidth=2.0,color='lightcoral')\n",
        "plt.legend(loc=\"best\")\n",
        "plt.title(\"KNN Binary Classification\")\n",
        "plt.savefig('plots/knn_real_pred_bin.png')\n",
        "plt.show()"
      ],
      "metadata": {
        "id": "U2YlAl8QK2uA"
      },
      "execution_count": null,
      "outputs": []
    },
    {
      "cell_type": "code",
      "source": [
        "#Saving Trained Model to Disk\n",
        "pkl_filename = \"./models/knn_binary.pkl\"\n",
        "if (not path.isfile(pkl_filename)):\n",
        "  # saving the trained model to disk \n",
        "  with open(pkl_filename, 'wb') as file:\n",
        "    pickle.dump(knn_bin, file)\n",
        "  print(\"Saved model to disk\")\n",
        "else:\n",
        "  print(\"Model already saved\")"
      ],
      "metadata": {
        "id": "nkhU0mo3K4hf"
      },
      "execution_count": null,
      "outputs": []
    },
    {
      "cell_type": "code",
      "source": [
        "#Random Forest Classifier\n",
        "rf_bin = RandomForestClassifier(random_state=123)\n",
        " rf_bin.fit(X_train,y_train)"
      ],
      "metadata": {
        "id": "phDfIcCmK9e3"
      },
      "execution_count": null,
      "outputs": []
    },
    {
      "cell_type": "code",
      "source": [
        "y_pred = rf_bin.predict(X_test)"
      ],
      "metadata": {
        "id": "hoYq_d4AP7SM"
      },
      "execution_count": null,
      "outputs": []
    },
    {
      "cell_type": "code",
      "source": [
        "print(\"Mean Absolute Error - \" , metrics.mean_absolute_error(y_test, y_pred))\n",
        "print(\"Mean Squared Error - \" , metrics.mean_squared_error(y_test, y_pred))\n",
        "print(\"Root Mean Squared Error - \" , np.sqrt(metrics.mean_squared_error(y_test, y_pred)))\n",
        "print(\"R2 Score - \" , metrics.explained_variance_score(y_test, y_pred)*100)\n",
        "print(\"Accuracy - \",accuracy_score(y_test,y_pred)*100)"
      ],
      "metadata": {
        "id": "l9YcYFwxQL6b"
      },
      "execution_count": null,
      "outputs": []
    },
    {
      "cell_type": "code",
      "source": [
        "cls_report= classification_report(y_true=y_test, y_pred=y_pred,target_names=le1.classes_)\n",
        "print(cls_report)"
      ],
      "metadata": {
        "id": "yVi5w269QE9_"
      },
      "execution_count": null,
      "outputs": []
    },
    {
      "cell_type": "code",
      "source": [
        "#Real and Predicted Data\n",
        "rf_bin_df = pd.DataFrame({'Actual': y_test, 'Predicted': y_pred})\n",
        "rf_bin_df.to_csv('./predictions/rf_real_pred_bin.csv')\n",
        "rf_bin_df"
      ],
      "metadata": {
        "id": "xxK-qclsQM2b"
      },
      "execution_count": null,
      "outputs": []
    },
    {
      "cell_type": "code",
      "source": [
        "#Plot between Real and Predicted Data\n",
        "plt.figure(figsize=(20,8))\n",
        "plt.plot(y_pred[200:400], label=\"prediction\", linewidth=2.0,color='blue')\n",
        "plt.plot(y_test[200:400].values, label=\"real_values\", linewidth=2.0,color='lightcoral')\n",
        "plt.legend(loc=\"best\")\n",
        "plt.title(\"Random Forest Binary Classification\")\n",
        "plt.savefig('plots/rf_real_pred_bin.png')\n",
        "plt.show()\n"
      ],
      "metadata": {
        "id": "kqymLGjcQUAA"
      },
      "execution_count": null,
      "outputs": []
    },
    {
      "cell_type": "code",
      "source": [
        "#Saving Trained Model to Disk\n",
        "pkl_filename = \"./models/random_forest_binary.pkl\"\n",
        "if (not path.isfile(pkl_filename)):\n",
        "  # saving the trained model to disk \n",
        "  with open(pkl_filename, 'wb') as file:\n",
        "    pickle.dump(rf_bin, file)\n",
        "  print(\"Saved model to disk\")\n",
        "else:\n",
        "  print(\"Model already saved\")"
      ],
      "metadata": {
        "id": "zp6YHHiAQXp1"
      },
      "execution_count": null,
      "outputs": []
    },
    {
      "cell_type": "code",
      "source": [
        "#Decision Tree Classifier\n",
        "dt_bin = DecisionTreeClassifier(random_state=123)\n",
        "dt_bin.fit(X_train,y_train)"
      ],
      "metadata": {
        "id": "CCBS89NKQczR"
      },
      "execution_count": null,
      "outputs": []
    },
    {
      "cell_type": "code",
      "source": [
        "y_pred = dt_bin.predict(X_test)"
      ],
      "metadata": {
        "id": "0M0pne1FSpPF"
      },
      "execution_count": null,
      "outputs": []
    },
    {
      "cell_type": "code",
      "source": [
        "print(\"Mean Absolute Error - \" , metrics.mean_absolute_error(y_test, y_pred))\n",
        "print(\"Mean Squared Error - \" , metrics.mean_squared_error(y_test, y_pred))\n",
        "print(\"Root Mean Squared Error - \" , np.sqrt(metrics.mean_squared_error(y_test, y_pred)))\n",
        "print(\"R2 Score - \" , metrics.explained_variance_score(y_test, y_pred)*100)\n",
        "print(\"Accuracy - \",accuracy_score(y_test,y_pred)*100)"
      ],
      "metadata": {
        "id": "Sagz6bbhSqci"
      },
      "execution_count": null,
      "outputs": []
    },
    {
      "cell_type": "code",
      "source": [
        "cls_report= classification_report(y_true=y_test, y_pred=y_pred,target_names=le1.classes_)\n",
        "print(cls_report)"
      ],
      "metadata": {
        "id": "_QVoomU6StmX"
      },
      "execution_count": null,
      "outputs": []
    },
    {
      "cell_type": "code",
      "source": [
        "#Real and Predicted Data\n",
        "dt_bin_df = pd.DataFrame({'Actual': y_test, 'Predicted': y_pred})\n",
        "dt_bin_df.to_csv('./predictions/dt_real_pred_bin.csv')\n",
        "dt_bin_df"
      ],
      "metadata": {
        "id": "uOj_xmACSwrQ"
      },
      "execution_count": null,
      "outputs": []
    },
    {
      "cell_type": "code",
      "source": [
        "#Plot between Real and Predicted Data\n",
        "plt.figure(figsize=(20,8))\n",
        "plt.plot(y_pred[300:500], label=\"prediction\", linewidth=2.0,color='blue')\n",
        "plt.plot(y_test[300:500].values, label=\"real_values\", linewidth=2.0,color='lightcoral')\n",
        "plt.legend(loc=\"best\")\n",
        "plt.title(\"Decision Tree Binary Classification\")\n",
        "plt.savefig('plots/dt_real_pred_bin.png')\n",
        "plt.show()"
      ],
      "metadata": {
        "id": "bS6x-KINU-eN"
      },
      "execution_count": null,
      "outputs": []
    },
    {
      "cell_type": "code",
      "source": [
        "#Saving Trained Model to Disk\n",
        "pkl_filename = \"./models/decision_tree_binary.pkl\"\n",
        "if (not path.isfile(pkl_filename)):\n",
        "  # saving the trained model to disk \n",
        "  with open(pkl_filename, 'wb') as file:\n",
        "    pickle.dump(dt_bin, file)\n",
        "  print(\"Saved model to disk\")\n",
        "else:\n",
        "  print(\"Model already saved\")"
      ],
      "metadata": {
        "id": "eo7nOwKhU_7L"
      },
      "execution_count": null,
      "outputs": []
    },
    {
      "cell_type": "code",
      "source": [
        "#Multi Layer Perceptron\n",
        "mlp_bin = MLPClassifier(random_state=123, solver='adam', max_iter=8000)"
      ],
      "metadata": {
        "id": "XHkCbbIaVEVd"
      },
      "execution_count": null,
      "outputs": []
    },
    {
      "cell_type": "code",
      "source": [
        "mlp_bin.fit(X_train,y_train)"
      ],
      "metadata": {
        "id": "0_YI5YQ3VWdR"
      },
      "execution_count": null,
      "outputs": []
    },
    {
      "cell_type": "code",
      "source": [
        "y_pred = mlp_bin.predict(X_test)"
      ],
      "metadata": {
        "id": "6rVeZTU6VZj6"
      },
      "execution_count": null,
      "outputs": []
    },
    {
      "cell_type": "code",
      "source": [
        "print(\"Mean Absolute Error - \" , metrics.mean_absolute_error(y_test, y_pred))\n",
        "print(\"Mean Squared Error - \" , metrics.mean_squared_error(y_test, y_pred))\n",
        "print(\"Root Mean Squared Error - \" , np.sqrt(metrics.mean_squared_error(y_test, y_pred)))\n",
        "print(\"R2 Score - \" , metrics.explained_variance_score(y_test, y_pred)*100)\n",
        "print(\"Accuracy - \",accuracy_score(y_test,y_pred)*100)"
      ],
      "metadata": {
        "id": "50d1-yfcVd8b"
      },
      "execution_count": null,
      "outputs": []
    },
    {
      "cell_type": "code",
      "source": [
        "cls_report= classification_report(y_true=y_test, y_pred=y_pred,target_names=le1.classes_)\n",
        "print(cls_report)"
      ],
      "metadata": {
        "id": "H_o5eDeVWPcq"
      },
      "execution_count": null,
      "outputs": []
    },
    {
      "cell_type": "code",
      "source": [
        "#Real and Predicted Data\n",
        "mlp_bin_df = pd.DataFrame({'Actual': y_test, 'Predicted': y_pred})\n",
        "mlp_bin_df.to_csv('./predictions/mlp_real_pred_bin.csv')\n",
        "mlp_bin_df"
      ],
      "metadata": {
        "id": "tkFCPEKiWScc"
      },
      "execution_count": null,
      "outputs": []
    },
    {
      "cell_type": "code",
      "source": [
        "#Plot between Real and Predicted Data\n",
        "plt.figure(figsize=(20,8))\n",
        "plt.plot(y_pred[100:200], label=\"prediction\", linewidth=2.0,color='blue')\n",
        "plt.plot(y_test[100:200].values, label=\"real_values\", linewidth=2.0,color='lightcoral')\n",
        "plt.legend(loc=\"best\")\n",
        "plt.title(\"MLP Binary Classification\")\n",
        "plt.savefig('plots/mlp_real_pred_bin.png')\n",
        "plt.show()"
      ],
      "metadata": {
        "id": "exwJ6h1LWY1b"
      },
      "execution_count": null,
      "outputs": []
    },
    {
      "cell_type": "code",
      "source": [
        "#Saving Trained Model to Disk\n",
        "pkl_filename = \"./models/mlp_binary.pkl\"\n",
        "if (not path.isfile(pkl_filename)):\n",
        "  # saving the trained model to disk \n",
        "  with open(pkl_filename, 'wb') as file:\n",
        "    pickle.dump(mlp_bin, file)\n",
        "  print(\"Saved model to disk\")\n",
        "else:\n",
        "  print(\"Model already saved\")"
      ],
      "metadata": {
        "id": "nchWEPRUWeTA"
      },
      "execution_count": null,
      "outputs": []
    },
    {
      "cell_type": "code",
      "source": [
        "#MULTI-CLASS CLASSIFICATION\n",
        "#Data Splitting\n",
        "X = multi_data.drop(columns=['label'],axis=1)\n",
        "Y = multi_data['label']"
      ],
      "metadata": {
        "colab": {
          "base_uri": "https://localhost:8080/",
          "height": 235
        },
        "id": "6k1VxfWRWnzP",
        "outputId": "d4adb5e1-b392-40f1-9656-bae979c36b8f"
      },
      "execution_count": 40,
      "outputs": [
        {
          "output_type": "error",
          "ename": "NameError",
          "evalue": "ignored",
          "traceback": [
            "\u001b[0;31m---------------------------------------------------------------------------\u001b[0m",
            "\u001b[0;31mNameError\u001b[0m                                 Traceback (most recent call last)",
            "\u001b[0;32m<ipython-input-40-7a2d600d2522>\u001b[0m in \u001b[0;36m<module>\u001b[0;34m\u001b[0m\n\u001b[1;32m      1\u001b[0m \u001b[0;31m#MULTI-CLASS CLASSIFICATION\u001b[0m\u001b[0;34m\u001b[0m\u001b[0;34m\u001b[0m\u001b[0;34m\u001b[0m\u001b[0m\n\u001b[1;32m      2\u001b[0m \u001b[0;31m#Data Splitting\u001b[0m\u001b[0;34m\u001b[0m\u001b[0;34m\u001b[0m\u001b[0;34m\u001b[0m\u001b[0m\n\u001b[0;32m----> 3\u001b[0;31m \u001b[0mX\u001b[0m \u001b[0;34m=\u001b[0m \u001b[0mmulti_data\u001b[0m\u001b[0;34m.\u001b[0m\u001b[0mdrop\u001b[0m\u001b[0;34m(\u001b[0m\u001b[0mcolumns\u001b[0m\u001b[0;34m=\u001b[0m\u001b[0;34m[\u001b[0m\u001b[0;34m'label'\u001b[0m\u001b[0;34m]\u001b[0m\u001b[0;34m,\u001b[0m\u001b[0maxis\u001b[0m\u001b[0;34m=\u001b[0m\u001b[0;36m1\u001b[0m\u001b[0;34m)\u001b[0m\u001b[0;34m\u001b[0m\u001b[0;34m\u001b[0m\u001b[0m\n\u001b[0m\u001b[1;32m      4\u001b[0m \u001b[0mY\u001b[0m \u001b[0;34m=\u001b[0m \u001b[0mmulti_data\u001b[0m\u001b[0;34m[\u001b[0m\u001b[0;34m'label'\u001b[0m\u001b[0;34m]\u001b[0m\u001b[0;34m\u001b[0m\u001b[0;34m\u001b[0m\u001b[0m\n\u001b[1;32m      5\u001b[0m \u001b[0mX_train\u001b[0m\u001b[0;34m,\u001b[0m\u001b[0mX_test\u001b[0m\u001b[0;34m,\u001b[0m\u001b[0my_train\u001b[0m\u001b[0;34m,\u001b[0m\u001b[0my_test\u001b[0m \u001b[0;34m=\u001b[0m \u001b[0mtrain_test_split\u001b[0m\u001b[0;34m(\u001b[0m\u001b[0mX\u001b[0m\u001b[0;34m,\u001b[0m\u001b[0mY\u001b[0m\u001b[0;34m,\u001b[0m\u001b[0mtest_size\u001b[0m\u001b[0;34m=\u001b[0m\u001b[0;36m0.30\u001b[0m\u001b[0;34m,\u001b[0m \u001b[0mrandom_state\u001b[0m\u001b[0;34m=\u001b[0m\u001b[0;36m100\u001b[0m\u001b[0;34m)\u001b[0m\u001b[0;34m\u001b[0m\u001b[0;34m\u001b[0m\u001b[0m\n",
            "\u001b[0;31mNameError\u001b[0m: name 'multi_data' is not defined"
          ]
        }
      ]
    },
    {
      "cell_type": "code",
      "source": [
        "X_train,X_test,y_train,y_test = train_test_split(X,Y,test_size=0.30, random_state=100)"
      ],
      "metadata": {
        "id": "Uu3KDT5yWDKL"
      },
      "execution_count": null,
      "outputs": []
    },
    {
      "cell_type": "code",
      "source": [
        "#Linear Regression\n",
        "lr_multi = LinearRegression(normalize=False)\n",
        "lr_multi.fit(X_train, y_train)"
      ],
      "metadata": {
        "id": "hjqV9E3cWtxx"
      },
      "execution_count": null,
      "outputs": []
    },
    {
      "cell_type": "code",
      "source": [
        "y_pred = lr_multi.predict(X_test)"
      ],
      "metadata": {
        "id": "owBzOoeqWKil"
      },
      "execution_count": null,
      "outputs": []
    },
    {
      "cell_type": "code",
      "source": [
        "for i in range(len(y_pred)):\n",
        "  y_pred[i] = int(round(y_pred[i]))"
      ],
      "metadata": {
        "id": "Cu-3syPmWLPx"
      },
      "execution_count": null,
      "outputs": []
    },
    {
      "cell_type": "code",
      "source": [
        "print(\"Mean Absolute Error - \" , metrics.mean_absolute_error(y_test, y_pred))\n",
        "print(\"Mean Squared Error - \" , metrics.mean_squared_error(y_test, y_pred))\n",
        "print(\"Root Mean Squared Error - \" , np.sqrt(metrics.mean_squared_error(y_test, y_pred)))\n",
        "print(\"R2 Score - \" , metrics.explained_variance_score(y_test, y_pred)*100)\n",
        "print(\"Accuracy - \",accuracy_score(y_test,y_pred)*100)"
      ],
      "metadata": {
        "id": "x8qNJV-UWOpZ"
      },
      "execution_count": null,
      "outputs": []
    },
    {
      "cell_type": "code",
      "source": [
        "print(classification_report(y_test, y_pred,target_names=le2.classes_))"
      ],
      "metadata": {
        "id": "CDHjVVbHWSEa"
      },
      "execution_count": null,
      "outputs": []
    },
    {
      "cell_type": "code",
      "source": [
        "#Real and Predicted Data\n",
        "lr_multi_df = pd.DataFrame({'Actual': y_test, 'Predicted': y_pred})\n",
        "lr_multi_df.to_csv('./predictions/lr_real_pred_multi.csv')\n",
        "lr_multi_df"
      ],
      "metadata": {
        "id": "jPfVb-dhWWLX"
      },
      "execution_count": null,
      "outputs": []
    },
    {
      "cell_type": "code",
      "source": [
        "#Plot between Real and Predicted Data\n",
        "plt.figure(figsize=(20,8))\n",
        "plt.plot(y_pred[100:200], label=\"prediction\", linewidth=2.0,color='blue')\n",
        "plt.plot(y_test[100:200].values, label=\"real_values\", linewidth=2.0,color='lightcoral')\n",
        "plt.legend(loc=\"best\")\n",
        "plt.title(\"Linear Regression Multi-class Classification\")\n",
        "plt.savefig('plots/lr_real_pred_multi.png')\n",
        "plt.show()"
      ],
      "metadata": {
        "id": "pB_8GTeBWaIB"
      },
      "execution_count": null,
      "outputs": []
    },
    {
      "cell_type": "code",
      "source": [
        "#Saving Trained Model to Disk\n",
        "pkl_filename = \"./models/linear_regressor_multi.pkl\"\n",
        "if (not path.isfile(pkl_filename)):\n",
        "  # saving the trained model to disk \n",
        "  with open(pkl_filename, 'wb') as file:\n",
        "    pickle.dump(lr_multi, file)\n",
        "  print(\"Saved model to disk\")\n",
        "else:\n",
        "  print(\"Model already saved\")"
      ],
      "metadata": {
        "id": "zzk8r0-eWeje"
      },
      "execution_count": null,
      "outputs": []
    },
    {
      "cell_type": "code",
      "source": [
        "#Logistic Regression\n",
        "logr_multi = LogisticRegression(random_state=123, max_iter=5000,solver='newton-cg',multi_class='multinomial')\n",
        "logr_multi.fit(X_train,y_train)"
      ],
      "metadata": {
        "id": "_qe505aEYkqy"
      },
      "execution_count": null,
      "outputs": []
    },
    {
      "cell_type": "code",
      "source": [
        "y_pred = logr_multi.predict(X_test)"
      ],
      "metadata": {
        "id": "GEL8BlkHYlXj"
      },
      "execution_count": null,
      "outputs": []
    },
    {
      "cell_type": "code",
      "source": [
        "print(\"Mean Absolute Error - \" , metrics.mean_absolute_error(y_test, y_pred))\n",
        "print(\"Mean Squared Error - \" , metrics.mean_squared_error(y_test, y_pred))\n",
        "print(\"Root Mean Squared Error - \" , np.sqrt(metrics.mean_squared_error(y_test, y_pred)))\n",
        "print(\"R2 Score - \" , metrics.explained_variance_score(y_test, y_pred)*100)\n",
        "print(\"Accuracy - \",accuracy_score(y_test,y_pred)*100)"
      ],
      "metadata": {
        "id": "2ZrMfmYzYpbP"
      },
      "execution_count": null,
      "outputs": []
    },
    {
      "cell_type": "code",
      "source": [
        "print(classification_report(y_test, y_pred,target_names=le2.classes_))"
      ],
      "metadata": {
        "id": "AIfuxvTBYsc9"
      },
      "execution_count": null,
      "outputs": []
    },
    {
      "cell_type": "code",
      "source": [
        "#Real and Predicted Data\n",
        "logr_multi_df = pd.DataFrame({'Actual': y_test, 'Predicted': y_pred})\n",
        "logr_multi_df.to_csv('./predictions/logr_real_pred_multi.csv')\n",
        "logr_multi_df"
      ],
      "metadata": {
        "id": "zbtgHVoeYv79"
      },
      "execution_count": null,
      "outputs": []
    },
    {
      "cell_type": "code",
      "source": [
        "#Plot between Real and Predicted Data\n",
        "plt.figure(figsize=(20,8))\n",
        "plt.plot(y_pred[:200], label=\"prediction\", linewidth=2.0,color='blue')\n",
        "plt.plot(y_test[:200].values, label=\"real_values\", linewidth=2.0,color='lightcoral')\n",
        "plt.legend(loc=\"best\")\n",
        "plt.title(\"Logistic Regression Multi-class Classification\")\n",
        "plt.savefig('plots/logr_real_pred_multi.png')\n",
        "plt.show()"
      ],
      "metadata": {
        "id": "95nmYQcRYz6V"
      },
      "execution_count": null,
      "outputs": []
    },
    {
      "cell_type": "code",
      "source": [
        "#Saving Trained Model to Disk\n",
        "pkl_filename = \"./models/logistic_regressor_multi.pkl\"\n",
        "if (not path.isfile(pkl_filename)):\n",
        "  # saving the trained model to disk \n",
        "  with open(pkl_filename, 'wb') as file:\n",
        "    pickle.dump(logr_multi, file)\n",
        "  print(\"Saved model to disk\")\n",
        "else:\n",
        "  print(\"Model already saved\")"
      ],
      "metadata": {
        "id": "cqpl7G42Y3ph"
      },
      "execution_count": null,
      "outputs": []
    },
    {
      "cell_type": "code",
      "source": [
        "#Linear Support Vector Machine\n",
        "lsvm_multi = SVC(kernel='linear',gamma='auto')\n",
        "lsvm_multi.fit(X_train,y_train)"
      ],
      "metadata": {
        "id": "YC2pMVLSY8YO"
      },
      "execution_count": null,
      "outputs": []
    },
    {
      "cell_type": "code",
      "source": [
        "y_pred = lsvm_multi.predict(X_test)"
      ],
      "metadata": {
        "id": "h7V81wHJZMVn"
      },
      "execution_count": null,
      "outputs": []
    },
    {
      "cell_type": "code",
      "source": [
        "print(\"Mean Absolute Error - \" , metrics.mean_absolute_error(y_test, y_pred))\n",
        "print(\"Mean Squared Error - \" , metrics.mean_squared_error(y_test, y_pred))\n",
        "print(\"Root Mean Squared Error - \" , np.sqrt(metrics.mean_squared_error(y_test, y_pred)))\n",
        "print(\"R2 Score - \" , metrics.explained_variance_score(y_test, y_pred)*100)\n",
        "print(\"Accuracy - \",accuracy_score(y_test,y_pred)*100)"
      ],
      "metadata": {
        "id": "c49BiBiJZPDC"
      },
      "execution_count": null,
      "outputs": []
    },
    {
      "cell_type": "code",
      "source": [
        "print(classification_report(y_test, y_pred,target_names=le2.classes_))"
      ],
      "metadata": {
        "id": "qqWbqPH6ZS1Q"
      },
      "execution_count": null,
      "outputs": []
    },
    {
      "cell_type": "code",
      "source": [
        "#Real and Predicted Data\n",
        "lsvm_multi_df = pd.DataFrame({'Actual': y_test, 'Predicted': y_pred})\n",
        "lsvm_multi_df.to_csv('./predictions/lsvm_real_pred_multi.csv')\n",
        "lsvm_multi_df"
      ],
      "metadata": {
        "id": "yFzWWSqxZWLS"
      },
      "execution_count": null,
      "outputs": []
    },
    {
      "cell_type": "code",
      "source": [
        "#Plot between Real and Predicted Data\n",
        "plt.figure(figsize=(20,8))\n",
        "plt.plot(y_pred[:200], label=\"prediction\", linewidth=2.0,color='blue')\n",
        "plt.plot(y_test[:200].values, label=\"real_values\", linewidth=2.0,color='lightcoral')\n",
        "plt.legend(loc=\"best\")\n",
        "plt.title(\"Linear SVM Multi-class Classification\")\n",
        "plt.savefig('plots/lsvm_real_pred_multi.png')\n",
        "plt.show()"
      ],
      "metadata": {
        "id": "mxhp6KSpZadH"
      },
      "execution_count": null,
      "outputs": []
    },
    {
      "cell_type": "code",
      "source": [
        "#Saving Trained Model to Disk\n",
        "pkl_filename = \"./models/lsvm_multi.pkl\"\n",
        "if (not path.isfile(pkl_filename)):\n",
        "  # saving the trained model to disk \n",
        "  with open(pkl_filename, 'wb') as file:\n",
        "    pickle.dump(lsvm_multi, file)\n",
        "  print(\"Saved model to disk\")\n",
        "else:\n",
        "  print(\"Model already saved\")"
      ],
      "metadata": {
        "id": "xjNTv8CkZegp"
      },
      "execution_count": null,
      "outputs": []
    },
    {
      "cell_type": "code",
      "source": [
        "#K Nearest Neighbor Classifier\n",
        "knn_multi = KNeighborsClassifier(n_neighbors=5)\n",
        "knn_multi.fit(X_train,y_train)"
      ],
      "metadata": {
        "id": "tNrm8L98ZiD_"
      },
      "execution_count": null,
      "outputs": []
    },
    {
      "cell_type": "code",
      "source": [
        "y_pred = knn_multi.predict(X_test)"
      ],
      "metadata": {
        "id": "BDW6gjFVaYH7"
      },
      "execution_count": null,
      "outputs": []
    },
    {
      "cell_type": "code",
      "source": [
        "print(classification_report(y_test, y_pred,target_names=le2.classes_))"
      ],
      "metadata": {
        "id": "ZIKlrayRadfj"
      },
      "execution_count": null,
      "outputs": []
    },
    {
      "cell_type": "code",
      "source": [
        "#Real and Predicted Data\n",
        "knn_multi_df = pd.DataFrame({'Actual': y_test, 'Predicted': y_pred})\n",
        "knn_multi_df.to_csv('./predictions/knn_real_pred_multi.csv')\n",
        "knn_multi_df"
      ],
      "metadata": {
        "id": "JL4tZWSWagON"
      },
      "execution_count": null,
      "outputs": []
    },
    {
      "cell_type": "code",
      "source": [
        "#Plot between Real and Predicted Data\n",
        "plt.figure(figsize=(20,8))\n",
        "plt.plot(y_pred[400:500], label=\"prediction\", linewidth=2.0,color='blue')\n",
        "plt.plot(y_test[400:500].values, label=\"real_values\", linewidth=2.0,color='lightcoral')\n",
        "plt.legend(loc=\"best\")\n",
        "plt.title(\"KNN Multi-class Classification\")\n",
        "plt.savefig('plots/knn_real_pred_multi.png')\n",
        "plt.show()\n"
      ],
      "metadata": {
        "id": "tXbXxOFVaj91"
      },
      "execution_count": null,
      "outputs": []
    },
    {
      "cell_type": "code",
      "source": [
        "#Saving Trained Model to Disk\n",
        "pkl_filename = \"./models/knn_multi.pkl\"\n",
        "if (not path.isfile(pkl_filename)):\n",
        "  # saving the trained model to disk \n",
        "  with open(pkl_filename, 'wb') as file:\n",
        "    pickle.dump(knn_multi, file)\n",
        "  print(\"Saved model to disk\")\n",
        "else:\n",
        "  print(\"Model already saved\")"
      ],
      "metadata": {
        "id": "j6Nhjg4waqJS"
      },
      "execution_count": null,
      "outputs": []
    },
    {
      "cell_type": "code",
      "source": [
        "#Random Forest Classifier\n",
        "rf_multi = RandomForestClassifier(random_state=50)\n",
        "rf_multi.fit(X_train,y_train)"
      ],
      "metadata": {
        "id": "o91A9l3Natcl"
      },
      "execution_count": null,
      "outputs": []
    },
    {
      "cell_type": "code",
      "source": [
        "y_pred = rf_multi.predict(X_test)"
      ],
      "metadata": {
        "id": "9klg7X5pawyT"
      },
      "execution_count": null,
      "outputs": []
    },
    {
      "cell_type": "code",
      "source": [
        "print(\"Mean Absolute Error - \" , metrics.mean_absolute_error(y_test, y_pred))\n",
        "print(\"Mean Squared Error - \" , metrics.mean_squared_error(y_test, y_pred))\n",
        "print(\"Root Mean Squared Error - \" , np.sqrt(metrics.mean_squared_error(y_test, y_pred)))\n",
        "print(\"R2 Score - \" , metrics.explained_variance_score(y_test, y_pred)*100)\n",
        "print(\"Accuracy - \",accuracy_score(y_test,y_pred)*100)"
      ],
      "metadata": {
        "id": "Hgm7mxweazNS"
      },
      "execution_count": null,
      "outputs": []
    },
    {
      "cell_type": "code",
      "source": [
        "print(classification_report(y_test, y_pred,target_names=le2.classes_))"
      ],
      "metadata": {
        "id": "P7A24pXsbbBU"
      },
      "execution_count": null,
      "outputs": []
    },
    {
      "cell_type": "code",
      "source": [
        "#Real and Predicted Data\n",
        "rf_multi_df = pd.DataFrame({'Actual': y_test, 'Predicted': y_pred})\n",
        "rf_multi_df.to_csv('./predictions/rf_real_pred_multi.csv')\n",
        "rf_multi_df"
      ],
      "metadata": {
        "id": "y4Pjznb3beRo"
      },
      "execution_count": null,
      "outputs": []
    },
    {
      "cell_type": "code",
      "source": [
        "#Plot between Real and Predicted Data\n",
        "plt.figure(figsize=(20,8))\n",
        "plt.plot(y_pred[500:600], label=\"prediction\", linewidth=2.0,color='blue')\n",
        "plt.plot(y_test[500:600].values, label=\"real_values\", linewidth=2.0,color='lightcoral')\n",
        "plt.legend(loc=\"best\")\n",
        "plt.title(\"Random Forest Multi-class Classification\")\n",
        "plt.savefig('plots/rf_real_pred_multi.png')\n",
        "plt.show()"
      ],
      "metadata": {
        "id": "BbqrSNZDbijR"
      },
      "execution_count": null,
      "outputs": []
    },
    {
      "cell_type": "code",
      "source": [
        "#Saving Trained Model to Disk\n",
        "pkl_filename = \"./models/random_forest_multi.pkl\"\n",
        "if (not path.isfile(pkl_filename)):\n",
        "  # saving the trained model to disk \n",
        "  with open(pkl_filename, 'wb') as file:\n",
        "    pickle.dump(rf_multi, file)\n",
        "  print(\"Saved model to disk\")\n",
        "else:\n",
        "  print(\"Model already saved\")"
      ],
      "metadata": {
        "id": "tDmdScdlcK_G"
      },
      "execution_count": null,
      "outputs": []
    },
    {
      "cell_type": "code",
      "source": [
        "#Decision Tree Classifier\n",
        "dt_multi = DecisionTreeClassifier(random_state=123)\n",
        "dt_multi.fit(X_train,y_train)"
      ],
      "metadata": {
        "id": "njmjngqZcOq-"
      },
      "execution_count": null,
      "outputs": []
    },
    {
      "cell_type": "code",
      "source": [
        "y_pred = dt_multi.predict(X_test)"
      ],
      "metadata": {
        "id": "nWH_2v1WcSn2"
      },
      "execution_count": null,
      "outputs": []
    },
    {
      "cell_type": "code",
      "source": [
        "print(\"Mean Absolute Error - \" , metrics.mean_absolute_error(y_test, y_pred))\n",
        "print(\"Mean Squared Error - \" , metrics.mean_squared_error(y_test, y_pred))\n",
        "print(\"Root Mean Squared Error - \" , np.sqrt(metrics.mean_squared_error(y_test, y_pred)))\n",
        "print(\"R2 Score - \" , metrics.explained_variance_score(y_test, y_pred)*100)\n",
        "print(\"Accuracy - \",accuracy_score(y_test,y_pred)*100)"
      ],
      "metadata": {
        "id": "IvgLsxlvcVUH"
      },
      "execution_count": null,
      "outputs": []
    },
    {
      "cell_type": "code",
      "source": [
        "print(classification_report(y_test, y_pred,target_names=le2.classes_))"
      ],
      "metadata": {
        "id": "awVDJnYvcYIx"
      },
      "execution_count": null,
      "outputs": []
    },
    {
      "cell_type": "code",
      "source": [
        "#Real and Predicted Data\n",
        "dt_multi_df = pd.DataFrame({'Actual': y_test, 'Predicted': y_pred})\n",
        "dt_multi_df.to_csv('./predictions/dt_real_pred_multi.csv')\n",
        "dt_multi_df"
      ],
      "metadata": {
        "id": "Ky1RrM7ocbh8"
      },
      "execution_count": null,
      "outputs": []
    },
    {
      "cell_type": "code",
      "source": [
        "#Plot between Real and Predicted Data\n",
        "plt.figure(figsize=(20,8))\n",
        "plt.plot(y_pred[400:700], label=\"prediction\", linewidth=2.0,color='blue')\n",
        "plt.plot(y_test[400:700].values, label=\"real_values\", linewidth=2.0,color='lightcoral')\n",
        "plt.legend(loc=\"best\")\n",
        "plt.title(\"Decision Tree Multi-class Classification\")\n",
        "plt.savefig('plots/dt_real_pred_multi.png')\n",
        "plt.show()"
      ],
      "metadata": {
        "id": "ItbXR2vocgEl"
      },
      "execution_count": null,
      "outputs": []
    },
    {
      "cell_type": "code",
      "source": [
        "#Saving Trained Model to Disk\n",
        "pkl_filename = \"./models/decision_tree_multi.pkl\"\n",
        "if (not path.isfile(pkl_filename)):\n",
        "  # saving the trained model to disk \n",
        "  with open(pkl_filename, 'wb') as file:\n",
        "    pickle.dump(dt_multi, file)\n",
        "  print(\"Saved model to disk\")\n",
        "else:\n",
        "  print(\"Model already saved\")"
      ],
      "metadata": {
        "id": "jOiJQnwIcj8P"
      },
      "execution_count": null,
      "outputs": []
    },
    {
      "cell_type": "code",
      "source": [
        "#Multi Layer Perceptron\n",
        "mlp_multi = MLPClassifier(random_state=123, solver='adam', max_iter=8000)\n",
        "mlp_multi.fit(X_train,y_train)"
      ],
      "metadata": {
        "id": "_V-DQoFmcoDG"
      },
      "execution_count": null,
      "outputs": []
    },
    {
      "cell_type": "code",
      "source": [
        "y_pred = mlp_multi.predict(X_test)"
      ],
      "metadata": {
        "id": "uxyYkrJtd0Gj"
      },
      "execution_count": null,
      "outputs": []
    },
    {
      "cell_type": "code",
      "source": [
        "print(\"Mean Absolute Error - \" , metrics.mean_absolute_error(y_test, y_pred))\n",
        "print(\"Mean Squared Error - \" , metrics.mean_squared_error(y_test, y_pred))\n",
        "print(\"Root Mean Squared Error - \" , np.sqrt(metrics.mean_squared_error(y_test, y_pred)))\n",
        "print(\"R2 Score - \" , metrics.explained_variance_score(y_test, y_pred)*100)\n",
        "print(\"Accuracy - \",accuracy_score(y_test,y_pred)*100)"
      ],
      "metadata": {
        "id": "WPaPEEPld2yx"
      },
      "execution_count": null,
      "outputs": []
    },
    {
      "cell_type": "code",
      "source": [
        "print(classification_report(y_test, y_pred,target_names=le2.classes_))"
      ],
      "metadata": {
        "id": "Tk7Qnmsgd6Bv"
      },
      "execution_count": null,
      "outputs": []
    },
    {
      "cell_type": "code",
      "source": [
        "#Real and Predicted Data\n",
        "mlp_multi_df = pd.DataFrame({'Actual': y_test, 'Predicted': y_pred})\n",
        "mlp_multi_df.to_csv('./predictions/mlp_real_pred_multi.csv')\n",
        "mlp_multi_df"
      ],
      "metadata": {
        "id": "ItQSGbmhd9vP"
      },
      "execution_count": null,
      "outputs": []
    },
    {
      "cell_type": "code",
      "source": [
        "#Plot between Real and Predicted Data\n",
        "plt.figure(figsize=(20,8))\n",
        "plt.plot(y_pred[100:300], label=\"prediction\", linewidth=2.0,color='blue')\n",
        "plt.plot(y_test[100:300].values, label=\"real_values\", linewidth=2.0,color='lightcoral')\n",
        "plt.legend(loc=\"best\")\n",
        "plt.title(\"MLP Multi-class Classification\")\n",
        "plt.savefig('plots/mlp_real_pred_multi.png')\n",
        "plt.show()"
      ],
      "metadata": {
        "id": "NyN84Co0eC2F"
      },
      "execution_count": null,
      "outputs": []
    },
    {
      "cell_type": "code",
      "source": [
        "#Saving Trained Model to Disk\n",
        "pkl_filename = \"./models/mlp_multi.pkl\"\n",
        "if (not path.isfile(pkl_filename)):\n",
        "  # saving the trained model to disk \n",
        "  with open(pkl_filename, 'wb') as file:\n",
        "    pickle.dump(mlp_multi, file)\n",
        "  print(\"Saved model to disk\")\n",
        "else:\n",
        "  print(\"Model already saved\")"
      ],
      "metadata": {
        "id": "NWodOgVMeI-m"
      },
      "execution_count": null,
      "outputs": []
    }
  ]
}