{
  "nbformat": 4,
  "nbformat_minor": 0,
  "metadata": {
    "colab": {
      "name": "multi classification on NB15 dataset",
      "provenance": [],
      "authorship_tag": "ABX9TyPtibfy7CK5WAQ/sJbLnJJD",
      "include_colab_link": true
    },
    "kernelspec": {
      "name": "python3",
      "display_name": "Python 3"
    },
    "language_info": {
      "name": "python"
    }
  },
  "cells": [
    {
      "cell_type": "markdown",
      "metadata": {
        "id": "view-in-github",
        "colab_type": "text"
      },
      "source": [
        "<a href=\"https://colab.research.google.com/github/Raeiss/Assignment-ML-Besher/blob/main/multi_classification_on_NB15_dataset.ipynb\" target=\"_parent\"><img src=\"https://colab.research.google.com/assets/colab-badge.svg\" alt=\"Open In Colab\"/></a>"
      ]
    },
    {
      "cell_type": "code",
      "execution_count": 1,
      "metadata": {
        "id": "bT4JgTn9CmeT"
      },
      "outputs": [],
      "source": [
        "import matplotlib.pyplot as plt\n",
        "import seaborn as sns\n",
        "from sklearn.linear_model import SGDClassifier,RidgeClassifier\n",
        "from sklearn.metrics import (precision_score, recall_score,f1_score)\n",
        "from sklearn.metrics import average_precision_score"
      ]
    },
    {
      "cell_type": "code",
      "source": [
        "pip install catboost\n"
      ],
      "metadata": {
        "colab": {
          "base_uri": "https://localhost:8080/"
        },
        "id": "Wnod_e1sDv6z",
        "outputId": "0bfd8078-dd3f-442f-ab0b-712c88d5e4c6"
      },
      "execution_count": 2,
      "outputs": [
        {
          "output_type": "stream",
          "name": "stdout",
          "text": [
            "Looking in indexes: https://pypi.org/simple, https://us-python.pkg.dev/colab-wheels/public/simple/\n",
            "Collecting catboost\n",
            "  Downloading catboost-1.0.6-cp37-none-manylinux1_x86_64.whl (76.6 MB)\n",
            "\u001b[K     |████████████████████████████████| 76.6 MB 1.2 MB/s \n",
            "\u001b[?25hRequirement already satisfied: scipy in /usr/local/lib/python3.7/dist-packages (from catboost) (1.7.3)\n",
            "Requirement already satisfied: matplotlib in /usr/local/lib/python3.7/dist-packages (from catboost) (3.2.2)\n",
            "Requirement already satisfied: plotly in /usr/local/lib/python3.7/dist-packages (from catboost) (5.5.0)\n",
            "Requirement already satisfied: graphviz in /usr/local/lib/python3.7/dist-packages (from catboost) (0.10.1)\n",
            "Requirement already satisfied: numpy>=1.16.0 in /usr/local/lib/python3.7/dist-packages (from catboost) (1.21.6)\n",
            "Requirement already satisfied: pandas>=0.24.0 in /usr/local/lib/python3.7/dist-packages (from catboost) (1.3.5)\n",
            "Requirement already satisfied: six in /usr/local/lib/python3.7/dist-packages (from catboost) (1.15.0)\n",
            "Requirement already satisfied: python-dateutil>=2.7.3 in /usr/local/lib/python3.7/dist-packages (from pandas>=0.24.0->catboost) (2.8.2)\n",
            "Requirement already satisfied: pytz>=2017.3 in /usr/local/lib/python3.7/dist-packages (from pandas>=0.24.0->catboost) (2022.1)\n",
            "Requirement already satisfied: cycler>=0.10 in /usr/local/lib/python3.7/dist-packages (from matplotlib->catboost) (0.11.0)\n",
            "Requirement already satisfied: pyparsing!=2.0.4,!=2.1.2,!=2.1.6,>=2.0.1 in /usr/local/lib/python3.7/dist-packages (from matplotlib->catboost) (3.0.9)\n",
            "Requirement already satisfied: kiwisolver>=1.0.1 in /usr/local/lib/python3.7/dist-packages (from matplotlib->catboost) (1.4.4)\n",
            "Requirement already satisfied: typing-extensions in /usr/local/lib/python3.7/dist-packages (from kiwisolver>=1.0.1->matplotlib->catboost) (4.1.1)\n",
            "Requirement already satisfied: tenacity>=6.2.0 in /usr/local/lib/python3.7/dist-packages (from plotly->catboost) (8.0.1)\n",
            "Installing collected packages: catboost\n",
            "Successfully installed catboost-1.0.6\n"
          ]
        }
      ]
    },
    {
      "cell_type": "code",
      "source": [
        "#Importing libaries \n",
        "######## Base\n",
        "import numpy as np # linear algebra\n",
        "import pandas as pd # data processing, CSV file I/O (e.g. pd.read_csv)\n",
        "pd.set_option('display.max_columns', None)\n",
        "######### Warning ##############\n",
        "import warnings\n",
        "warnings.filterwarnings(\"ignore\")\n",
        "warnings.simplefilter(action='ignore', category=FutureWarning)\n",
        "########## Sklearn #############\n",
        "# Pre-processing\n",
        "from sklearn.preprocessing import LabelEncoder, StandardScaler, MinMaxScaler\n",
        "from sklearn.model_selection import train_test_split\n",
        "# Metrics\n",
        "from sklearn.metrics import confusion_matrix, accuracy_score, classification_report\n",
        "from sklearn.metrics import roc_auc_score, roc_curve\n",
        "# Models\n",
        "from sklearn.linear_model import LogisticRegression     # Logistic Regression\n",
        "from sklearn.naive_bayes import GaussianNB              # Naive Bayes\n",
        "from sklearn.neighbors import KNeighborsClassifier      # KNN \n",
        "from sklearn.svm import SVC                             # SVC \n",
        "from sklearn import tree                                # CART - Sınıflandırma ve Regresyon Ağaçları\n",
        "from sklearn.tree import DecisionTreeClassifier         # CART - Sınıflandırma ve Regresyon Ağaçları\n",
        "from sklearn.ensemble import BaggingClassifier          # Baggingclassifier \n",
        "from sklearn.ensemble import VotingClassifier           # Voting \n",
        "from sklearn.ensemble import RandomForestClassifier     # Random Forest\n",
        "from sklearn.ensemble import AdaBoostClassifier         # Ada Boost\n",
        "from sklearn.ensemble import GradientBoostingClassifier # GBM - Gradient Boosting Machine\n",
        "from xgboost import XGBClassifier                       # XGBoost | !pip install xgboost\n",
        "from lightgbm import LGBMClassifier                     # LightGBM | !conda install -c conda-forge lightgbm\n",
        "from catboost import CatBoostClassifier                 # CatBoost | !pip install catboost\n",
        "#!pip install --upgrade nboost                           # NGBoost\n",
        "#!pip install --upgrade git+https://github.com/stanfordmlgroup/ngboost.git\n",
        "#from ngboost import NGBClassifier\n",
        "#from ngboost.distns import k_categorical, Bernoulli"
      ],
      "metadata": {
        "id": "uAzyWxt7C7Jy"
      },
      "execution_count": 3,
      "outputs": []
    },
    {
      "cell_type": "code",
      "source": [
        "#Loading Data\n",
        "train=pd.read_csv('/content/UNSW_NB15_training-set.csv')\n",
        "test=pd.read_csv('/content/UNSW_NB15_testing-set.csv')"
      ],
      "metadata": {
        "id": "SOnGcWEpDrMu"
      },
      "execution_count": 4,
      "outputs": []
    },
    {
      "cell_type": "code",
      "source": [
        "#Data Visualization\n",
        "# Print the number of train / test samples\n",
        "print(f\"Train data length: {len(train)}\")\n",
        "print(f\"Test data length: {len(test)}\")\n",
        "\n",
        "# Visualise the distribution of attacks and normal traffic\n",
        "\n",
        "f, axes = plt.subplots(2, 2, figsize=(12, 10))\n",
        "\n",
        "# Create the plots\n",
        "sns.countplot(x=\"label\", data=train, ax=axes[0,0])\n",
        "sns.countplot(x=\"label\", data=test, ax=axes[0,1])\n",
        "sns.countplot(x=\"attack_cat\", data=train, ax=axes[1,0], order = train['attack_cat'].value_counts().index)\n",
        "sns.countplot(x=\"attack_cat\", data=test, ax=axes[1,1], order = test['attack_cat'].value_counts().index)\n",
        "\n",
        "# Set the plot titles\n",
        "axes[0,0].set_title(\"Training data distribution\")\n",
        "axes[1,0].set_title(\"Training data distribution\")\n",
        "axes[0,1].set_title(\"Testing data distribution\")\n",
        "axes[1,1].set_title(\"Testing data distribution\")\n",
        "\n",
        "# Rotate xticks for readability\n",
        "axes[1,0].tick_params('x', labelrotation=45)\n",
        "axes[1,1].tick_params('x', labelrotation=45)\n",
        "\n",
        "# Change the xtick labels for attack / normal\n",
        "axes[0,0].set_xticklabels([\"Normal\", \"Attack\"])\n",
        "axes[0,1].set_xticklabels([\"Normal\", \"Attack\"])\n",
        "\n",
        "# Remove xlabels\n",
        "axes[0,0].set_xlabel(\"\")\n",
        "axes[0,1].set_xlabel(\"\")\n",
        "axes[1,0].set_xlabel(\"\")\n",
        "axes[1,1].set_xlabel(\"\")\n",
        "\n",
        "# Add some space between the plots for y labels\n",
        "plt.subplots_adjust(wspace=0.25)"
      ],
      "metadata": {
        "colab": {
          "base_uri": "https://localhost:8080/",
          "height": 696
        },
        "id": "v6FwGXaLFvqm",
        "outputId": "83dac842-d517-4ba1-9dd4-be9e283150a8"
      },
      "execution_count": 5,
      "outputs": [
        {
          "output_type": "stream",
          "name": "stdout",
          "text": [
            "Train data length: 82332\n",
            "Test data length: 175341\n"
          ]
        },
        {
          "output_type": "display_data",
          "data": {
            "text/plain": [
              "<Figure size 864x720 with 4 Axes>"
            ],
            "image/png": "[encoded data removed]"
          },
          "metadata": {
            "needs_background": "light"
          }
        }
      ]
    },
    {
      "cell_type": "code",
      "source": [
        "#Dataset Observation\n",
        "train.head()"
      ],
      "metadata": {
        "colab": {
          "base_uri": "https://localhost:8080/",
          "height": 270
        },
        "id": "er9HlS_wGrpX",
        "outputId": "91620fe4-7a6a-4b53-a873-6eb5ffc59706"
      },
      "execution_count": 6,
      "outputs": [
        {
          "output_type": "execute_result",
          "data": {
            "text/plain": [
              "   id       dur proto service state  spkts  dpkts  sbytes  dbytes  \\\n",
              "0   1  0.000011   udp       -   INT      2      0     496       0   \n",
              "1   2  0.000008   udp       -   INT      2      0    1762       0   \n",
              "2   3  0.000005   udp       -   INT      2      0    1068       0   \n",
              "3   4  0.000006   udp       -   INT      2      0     900       0   \n",
              "4   5  0.000010   udp       -   INT      2      0    2126       0   \n",
              "\n",
              "          rate  sttl  dttl        sload  dload  sloss  dloss  sinpkt  dinpkt  \\\n",
              "0   90909.0902   254     0  180363632.0    0.0      0      0   0.011     0.0   \n",
              "1  125000.0003   254     0  881000000.0    0.0      0      0   0.008     0.0   \n",
              "2  200000.0051   254     0  854400000.0    0.0      0      0   0.005     0.0   \n",
              "3  166666.6608   254     0  600000000.0    0.0      0      0   0.006     0.0   \n",
              "4  100000.0025   254     0  850400000.0    0.0      0      0   0.010     0.0   \n",
              "\n",
              "   sjit  djit  swin  stcpb  dtcpb  dwin  tcprtt  synack  ackdat  smean  dmean  \\\n",
              "0   0.0   0.0     0      0      0     0     0.0     0.0     0.0    248      0   \n",
              "1   0.0   0.0     0      0      0     0     0.0     0.0     0.0    881      0   \n",
              "2   0.0   0.0     0      0      0     0     0.0     0.0     0.0    534      0   \n",
              "3   0.0   0.0     0      0      0     0     0.0     0.0     0.0    450      0   \n",
              "4   0.0   0.0     0      0      0     0     0.0     0.0     0.0   1063      0   \n",
              "\n",
              "   trans_depth  response_body_len  ct_srv_src  ct_state_ttl  ct_dst_ltm  \\\n",
              "0            0                  0           2             2           1   \n",
              "1            0                  0           2             2           1   \n",
              "2            0                  0           3             2           1   \n",
              "3            0                  0           3             2           2   \n",
              "4            0                  0           3             2           2   \n",
              "\n",
              "   ct_src_dport_ltm  ct_dst_sport_ltm  ct_dst_src_ltm  is_ftp_login  \\\n",
              "0                 1                 1               2             0   \n",
              "1                 1                 1               2             0   \n",
              "2                 1                 1               3             0   \n",
              "3                 2                 1               3             0   \n",
              "4                 2                 1               3             0   \n",
              "\n",
              "   ct_ftp_cmd  ct_flw_http_mthd  ct_src_ltm  ct_srv_dst  is_sm_ips_ports  \\\n",
              "0           0                 0           1           2                0   \n",
              "1           0                 0           1           2                0   \n",
              "2           0                 0           1           3                0   \n",
              "3           0                 0           2           3                0   \n",
              "4           0                 0           2           3                0   \n",
              "\n",
              "  attack_cat  label  \n",
              "0     Normal      0  \n",
              "1     Normal      0  \n",
              "2     Normal      0  \n",
              "3     Normal      0  \n",
              "4     Normal      0  "
            ],
            "text/html": [
              "\n",
              "  <div id=\"df-446f1403-bb4a-431a-ab48-b72194e9819b\">\n",
              "    <div class=\"colab-df-container\">\n",
              "      <div>\n",
              "<style scoped>\n",
              "    .dataframe tbody tr th:only-of-type {\n",
              "        vertical-align: middle;\n",
              "    }\n",
              "\n",
              "    .dataframe tbody tr th {\n",
              "        vertical-align: top;\n",
              "    }\n",
              "\n",
              "    .dataframe thead th {\n",
              "        text-align: right;\n",
              "    }\n",
              "</style>\n",
              "<table border=\"1\" class=\"dataframe\">\n",
              "  <thead>\n",
              "    <tr style=\"text-align: right;\">\n",
              "      <th></th>\n",
              "      <th>id</th>\n",
              "      <th>dur</th>\n",
              "      <th>proto</th>\n",
              "      <th>service</th>\n",
              "      <th>state</th>\n",
              "      <th>spkts</th>\n",
              "      <th>dpkts</th>\n",
              "      <th>sbytes</th>\n",
              "      <th>dbytes</th>\n",
              "      <th>rate</th>\n",
              "      <th>sttl</th>\n",
              "      <th>dttl</th>\n",
              "      <th>sload</th>\n",
              "      <th>dload</th>\n",
              "      <th>sloss</th>\n",
              "      <th>dloss</th>\n",
              "      <th>sinpkt</th>\n",
              "      <th>dinpkt</th>\n",
              "      <th>sjit</th>\n",
              "      <th>djit</th>\n",
              "      <th>swin</th>\n",
              "      <th>stcpb</th>\n",
              "      <th>dtcpb</th>\n",
              "      <th>dwin</th>\n",
              "      <th>tcprtt</th>\n",
              "      <th>synack</th>\n",
              "      <th>ackdat</th>\n",
              "      <th>smean</th>\n",
              "      <th>dmean</th>\n",
              "      <th>trans_depth</th>\n",
              "      <th>response_body_len</th>\n",
              "      <th>ct_srv_src</th>\n",
              "      <th>ct_state_ttl</th>\n",
              "      <th>ct_dst_ltm</th>\n",
              "      <th>ct_src_dport_ltm</th>\n",
              "      <th>ct_dst_sport_ltm</th>\n",
              "      <th>ct_dst_src_ltm</th>\n",
              "      <th>is_ftp_login</th>\n",
              "      <th>ct_ftp_cmd</th>\n",
              "      <th>ct_flw_http_mthd</th>\n",
              "      <th>ct_src_ltm</th>\n",
              "      <th>ct_srv_dst</th>\n",
              "      <th>is_sm_ips_ports</th>\n",
              "      <th>attack_cat</th>\n",
              "      <th>label</th>\n",
              "    </tr>\n",
              "  </thead>\n",
              "  <tbody>\n",
              "    <tr>\n",
              "      <th>0</th>\n",
              "      <td>1</td>\n",
              "      <td>0.000011</td>\n",
              "      <td>udp</td>\n",
              "      <td>-</td>\n",
              "      <td>INT</td>\n",
              "      <td>2</td>\n",
              "      <td>0</td>\n",
              "      <td>496</td>\n",
              "      <td>0</td>\n",
              "      <td>90909.0902</td>\n",
              "      <td>254</td>\n",
              "      <td>0</td>\n",
              "      <td>180363632.0</td>\n",
              "      <td>0.0</td>\n",
              "      <td>0</td>\n",
              "      <td>0</td>\n",
              "      <td>0.011</td>\n",
              "      <td>0.0</td>\n",
              "      <td>0.0</td>\n",
              "      <td>0.0</td>\n",
              "      <td>0</td>\n",
              "      <td>0</td>\n",
              "      <td>0</td>\n",
              "      <td>0</td>\n",
              "      <td>0.0</td>\n",
              "      <td>0.0</td>\n",
              "      <td>0.0</td>\n",
              "      <td>248</td>\n",
              "      <td>0</td>\n",
              "      <td>0</td>\n",
              "      <td>0</td>\n",
              "      <td>2</td>\n",
              "      <td>2</td>\n",
              "      <td>1</td>\n",
              "      <td>1</td>\n",
              "      <td>1</td>\n",
              "      <td>2</td>\n",
              "      <td>0</td>\n",
              "      <td>0</td>\n",
              "      <td>0</td>\n",
              "      <td>1</td>\n",
              "      <td>2</td>\n",
              "      <td>0</td>\n",
              "      <td>Normal</td>\n",
              "      <td>0</td>\n",
              "    </tr>\n",
              "    <tr>\n",
              "      <th>1</th>\n",
              "      <td>2</td>\n",
              "      <td>0.000008</td>\n",
              "      <td>udp</td>\n",
              "      <td>-</td>\n",
              "      <td>INT</td>\n",
              "      <td>2</td>\n",
              "      <td>0</td>\n",
              "      <td>1762</td>\n",
              "      <td>0</td>\n",
              "      <td>125000.0003</td>\n",
              "      <td>254</td>\n",
              "      <td>0</td>\n",
              "      <td>881000000.0</td>\n",
              "      <td>0.0</td>\n",
              "      <td>0</td>\n",
              "      <td>0</td>\n",
              "      <td>0.008</td>\n",
              "      <td>0.0</td>\n",
              "      <td>0.0</td>\n",
              "      <td>0.0</td>\n",
              "      <td>0</td>\n",
              "      <td>0</td>\n",
              "      <td>0</td>\n",
              "      <td>0</td>\n",
              "      <td>0.0</td>\n",
              "      <td>0.0</td>\n",
              "      <td>0.0</td>\n",
              "      <td>881</td>\n",
              "      <td>0</td>\n",
              "      <td>0</td>\n",
              "      <td>0</td>\n",
              "      <td>2</td>\n",
              "      <td>2</td>\n",
              "      <td>1</td>\n",
              "      <td>1</td>\n",
              "      <td>1</td>\n",
              "      <td>2</td>\n",
              "      <td>0</td>\n",
              "      <td>0</td>\n",
              "      <td>0</td>\n",
              "      <td>1</td>\n",
              "      <td>2</td>\n",
              "      <td>0</td>\n",
              "      <td>Normal</td>\n",
              "      <td>0</td>\n",
              "    </tr>\n",
              "    <tr>\n",
              "      <th>2</th>\n",
              "      <td>3</td>\n",
              "      <td>0.000005</td>\n",
              "      <td>udp</td>\n",
              "      <td>-</td>\n",
              "      <td>INT</td>\n",
              "      <td>2</td>\n",
              "      <td>0</td>\n",
              "      <td>1068</td>\n",
              "      <td>0</td>\n",
              "      <td>200000.0051</td>\n",
              "      <td>254</td>\n",
              "      <td>0</td>\n",
              "      <td>854400000.0</td>\n",
              "      <td>0.0</td>\n",
              "      <td>0</td>\n",
              "      <td>0</td>\n",
              "      <td>0.005</td>\n",
              "      <td>0.0</td>\n",
              "      <td>0.0</td>\n",
              "      <td>0.0</td>\n",
              "      <td>0</td>\n",
              "      <td>0</td>\n",
              "      <td>0</td>\n",
              "      <td>0</td>\n",
              "      <td>0.0</td>\n",
              "      <td>0.0</td>\n",
              "      <td>0.0</td>\n",
              "      <td>534</td>\n",
              "      <td>0</td>\n",
              "      <td>0</td>\n",
              "      <td>0</td>\n",
              "      <td>3</td>\n",
              "      <td>2</td>\n",
              "      <td>1</td>\n",
              "      <td>1</td>\n",
              "      <td>1</td>\n",
              "      <td>3</td>\n",
              "      <td>0</td>\n",
              "      <td>0</td>\n",
              "      <td>0</td>\n",
              "      <td>1</td>\n",
              "      <td>3</td>\n",
              "      <td>0</td>\n",
              "      <td>Normal</td>\n",
              "      <td>0</td>\n",
              "    </tr>\n",
              "    <tr>\n",
              "      <th>3</th>\n",
              "      <td>4</td>\n",
              "      <td>0.000006</td>\n",
              "      <td>udp</td>\n",
              "      <td>-</td>\n",
              "      <td>INT</td>\n",
              "      <td>2</td>\n",
              "      <td>0</td>\n",
              "      <td>900</td>\n",
              "      <td>0</td>\n",
              "      <td>166666.6608</td>\n",
              "      <td>254</td>\n",
              "      <td>0</td>\n",
              "      <td>600000000.0</td>\n",
              "      <td>0.0</td>\n",
              "      <td>0</td>\n",
              "      <td>0</td>\n",
              "      <td>0.006</td>\n",
              "      <td>0.0</td>\n",
              "      <td>0.0</td>\n",
              "      <td>0.0</td>\n",
              "      <td>0</td>\n",
              "      <td>0</td>\n",
              "      <td>0</td>\n",
              "      <td>0</td>\n",
              "      <td>0.0</td>\n",
              "      <td>0.0</td>\n",
              "      <td>0.0</td>\n",
              "      <td>450</td>\n",
              "      <td>0</td>\n",
              "      <td>0</td>\n",
              "      <td>0</td>\n",
              "      <td>3</td>\n",
              "      <td>2</td>\n",
              "      <td>2</td>\n",
              "      <td>2</td>\n",
              "      <td>1</td>\n",
              "      <td>3</td>\n",
              "      <td>0</td>\n",
              "      <td>0</td>\n",
              "      <td>0</td>\n",
              "      <td>2</td>\n",
              "      <td>3</td>\n",
              "      <td>0</td>\n",
              "      <td>Normal</td>\n",
              "      <td>0</td>\n",
              "    </tr>\n",
              "    <tr>\n",
              "      <th>4</th>\n",
              "      <td>5</td>\n",
              "      <td>0.000010</td>\n",
              "      <td>udp</td>\n",
              "      <td>-</td>\n",
              "      <td>INT</td>\n",
              "      <td>2</td>\n",
              "      <td>0</td>\n",
              "      <td>2126</td>\n",
              "      <td>0</td>\n",
              "      <td>100000.0025</td>\n",
              "      <td>254</td>\n",
              "      <td>0</td>\n",
              "      <td>850400000.0</td>\n",
              "      <td>0.0</td>\n",
              "      <td>0</td>\n",
              "      <td>0</td>\n",
              "      <td>0.010</td>\n",
              "      <td>0.0</td>\n",
              "      <td>0.0</td>\n",
              "      <td>0.0</td>\n",
              "      <td>0</td>\n",
              "      <td>0</td>\n",
              "      <td>0</td>\n",
              "      <td>0</td>\n",
              "      <td>0.0</td>\n",
              "      <td>0.0</td>\n",
              "      <td>0.0</td>\n",
              "      <td>1063</td>\n",
              "      <td>0</td>\n",
              "      <td>0</td>\n",
              "      <td>0</td>\n",
              "      <td>3</td>\n",
              "      <td>2</td>\n",
              "      <td>2</td>\n",
              "      <td>2</td>\n",
              "      <td>1</td>\n",
              "      <td>3</td>\n",
              "      <td>0</td>\n",
              "      <td>0</td>\n",
              "      <td>0</td>\n",
              "      <td>2</td>\n",
              "      <td>3</td>\n",
              "      <td>0</td>\n",
              "      <td>Normal</td>\n",
              "      <td>0</td>\n",
              "    </tr>\n",
              "  </tbody>\n",
              "</table>\n",
              "</div>\n",
              "      <button class=\"colab-df-convert\" onclick=\"convertToInteractive('df-446f1403-bb4a-431a-ab48-b72194e9819b')\"\n",
              "              title=\"Convert this dataframe to an interactive table.\"\n",
              "              style=\"display:none;\">\n",
              "        \n",
              "  <svg xmlns=\"http://www.w3.org/2000/svg\" height=\"24px\"viewBox=\"0 0 24 24\"\n",
              "       width=\"24px\">\n",
              "    <path d=\"M0 0h24v24H0V0z\" fill=\"none\"/>\n",
              "    <path d=\"M18.56 5.44l.94 2.06.94-2.06 2.06-.94-2.06-.94-.94-2.06-.94 2.06-2.06.94zm-11 1L8.5 8.5l.94-2.06 2.06-.94-2.06-.94L8.5 2.5l-.94 2.06-2.06.94zm10 10l.94 2.06.94-2.06 2.06-.94-2.06-.94-.94-2.06-.94 2.06-2.06.94z\"/><path d=\"M17.41 7.96l-1.37-1.37c-.4-.4-.92-.59-1.43-.59-.52 0-1.04.2-1.43.59L10.3 9.45l-7.72 7.72c-.78.78-.78 2.05 0 2.83L4 21.41c.39.39.9.59 1.41.59.51 0 1.02-.2 1.41-.59l7.78-7.78 2.81-2.81c.8-.78.8-2.07 0-2.86zM5.41 20L4 18.59l7.72-7.72 1.47 1.35L5.41 20z\"/>\n",
              "  </svg>\n",
              "      </button>\n",
              "      \n",
              "  <style>\n",
              "    .colab-df-container {\n",
              "      display:flex;\n",
              "      flex-wrap:wrap;\n",
              "      gap: 12px;\n",
              "    }\n",
              "\n",
              "    .colab-df-convert {\n",
              "      background-color: #E8F0FE;\n",
              "      border: none;\n",
              "      border-radius: 50%;\n",
              "      cursor: pointer;\n",
              "      display: none;\n",
              "      fill: #1967D2;\n",
              "      height: 32px;\n",
              "      padding: 0 0 0 0;\n",
              "      width: 32px;\n",
              "    }\n",
              "\n",
              "    .colab-df-convert:hover {\n",
              "      background-color: #E2EBFA;\n",
              "      box-shadow: 0px 1px 2px rgba(60, 64, 67, 0.3), 0px 1px 3px 1px rgba(60, 64, 67, 0.15);\n",
              "      fill: #174EA6;\n",
              "    }\n",
              "\n",
              "    [theme=dark] .colab-df-convert {\n",
              "      background-color: #3B4455;\n",
              "      fill: #D2E3FC;\n",
              "    }\n",
              "\n",
              "    [theme=dark] .colab-df-convert:hover {\n",
              "      background-color: #434B5C;\n",
              "      box-shadow: 0px 1px 3px 1px rgba(0, 0, 0, 0.15);\n",
              "      filter: drop-shadow(0px 1px 2px rgba(0, 0, 0, 0.3));\n",
              "      fill: #FFFFFF;\n",
              "    }\n",
              "  </style>\n",
              "\n",
              "      <script>\n",
              "        const buttonEl =\n",
              "          document.querySelector('#df-446f1403-bb4a-431a-ab48-b72194e9819b button.colab-df-convert');\n",
              "        buttonEl.style.display =\n",
              "          google.colab.kernel.accessAllowed ? 'block' : 'none';\n",
              "\n",
              "        async function convertToInteractive(key) {\n",
              "          const element = document.querySelector('#df-446f1403-bb4a-431a-ab48-b72194e9819b');\n",
              "          const dataTable =\n",
              "            await google.colab.kernel.invokeFunction('convertToInteractive',\n",
              "                                                     [key], {});\n",
              "          if (!dataTable) return;\n",
              "\n",
              "          const docLinkHtml = 'Like what you see? Visit the ' +\n",
              "            '<a target=\"_blank\" href=https://colab.research.google.com/notebooks/data_table.ipynb>data table notebook</a>'\n",
              "            + ' to learn more about interactive tables.';\n",
              "          element.innerHTML = '';\n",
              "          dataTable['output_type'] = 'display_data';\n",
              "          await google.colab.output.renderOutput(dataTable, element);\n",
              "          const docLink = document.createElement('div');\n",
              "          docLink.innerHTML = docLinkHtml;\n",
              "          element.appendChild(docLink);\n",
              "        }\n",
              "      </script>\n",
              "    </div>\n",
              "  </div>\n",
              "  "
            ]
          },
          "metadata": {},
          "execution_count": 6
        }
      ]
    },
    {
      "cell_type": "code",
      "source": [
        "train.shape,test.shape"
      ],
      "metadata": {
        "colab": {
          "base_uri": "https://localhost:8080/"
        },
        "id": "sV2OdnlHHU6b",
        "outputId": "32ac4190-98ee-4a81-f7cd-7545734517da"
      },
      "execution_count": 7,
      "outputs": [
        {
          "output_type": "execute_result",
          "data": {
            "text/plain": [
              "((82332, 45), (175341, 45))"
            ]
          },
          "metadata": {},
          "execution_count": 7
        }
      ]
    },
    {
      "cell_type": "code",
      "source": [
        "train.info()"
      ],
      "metadata": {
        "colab": {
          "base_uri": "https://localhost:8080/"
        },
        "id": "WL3iVRKoHYLZ",
        "outputId": "f31b178d-65a0-4d30-f346-114736eedb57"
      },
      "execution_count": 8,
      "outputs": [
        {
          "output_type": "stream",
          "name": "stdout",
          "text": [
            "<class 'pandas.core.frame.DataFrame'>\n",
            "RangeIndex: 82332 entries, 0 to 82331\n",
            "Data columns (total 45 columns):\n",
            " #   Column             Non-Null Count  Dtype  \n",
            "---  ------             --------------  -----  \n",
            " 0   id                 82332 non-null  int64  \n",
            " 1   dur                82332 non-null  float64\n",
            " 2   proto              82332 non-null  object \n",
            " 3   service            82332 non-null  object \n",
            " 4   state              82332 non-null  object \n",
            " 5   spkts              82332 non-null  int64  \n",
            " 6   dpkts              82332 non-null  int64  \n",
            " 7   sbytes             82332 non-null  int64  \n",
            " 8   dbytes             82332 non-null  int64  \n",
            " 9   rate               82332 non-null  float64\n",
            " 10  sttl               82332 non-null  int64  \n",
            " 11  dttl               82332 non-null  int64  \n",
            " 12  sload              82332 non-null  float64\n",
            " 13  dload              82332 non-null  float64\n",
            " 14  sloss              82332 non-null  int64  \n",
            " 15  dloss              82332 non-null  int64  \n",
            " 16  sinpkt             82332 non-null  float64\n",
            " 17  dinpkt             82332 non-null  float64\n",
            " 18  sjit               82332 non-null  float64\n",
            " 19  djit               82332 non-null  float64\n",
            " 20  swin               82332 non-null  int64  \n",
            " 21  stcpb              82332 non-null  int64  \n",
            " 22  dtcpb              82332 non-null  int64  \n",
            " 23  dwin               82332 non-null  int64  \n",
            " 24  tcprtt             82332 non-null  float64\n",
            " 25  synack             82332 non-null  float64\n",
            " 26  ackdat             82332 non-null  float64\n",
            " 27  smean              82332 non-null  int64  \n",
            " 28  dmean              82332 non-null  int64  \n",
            " 29  trans_depth        82332 non-null  int64  \n",
            " 30  response_body_len  82332 non-null  int64  \n",
            " 31  ct_srv_src         82332 non-null  int64  \n",
            " 32  ct_state_ttl       82332 non-null  int64  \n",
            " 33  ct_dst_ltm         82332 non-null  int64  \n",
            " 34  ct_src_dport_ltm   82332 non-null  int64  \n",
            " 35  ct_dst_sport_ltm   82332 non-null  int64  \n",
            " 36  ct_dst_src_ltm     82332 non-null  int64  \n",
            " 37  is_ftp_login       82332 non-null  int64  \n",
            " 38  ct_ftp_cmd         82332 non-null  int64  \n",
            " 39  ct_flw_http_mthd   82332 non-null  int64  \n",
            " 40  ct_src_ltm         82332 non-null  int64  \n",
            " 41  ct_srv_dst         82332 non-null  int64  \n",
            " 42  is_sm_ips_ports    82332 non-null  int64  \n",
            " 43  attack_cat         82332 non-null  object \n",
            " 44  label              82332 non-null  int64  \n",
            "dtypes: float64(11), int64(30), object(4)\n",
            "memory usage: 28.3+ MB\n"
          ]
        }
      ]
    },
    {
      "cell_type": "code",
      "source": [
        "#Data Preprocessing\n",
        "#Null Value check\n",
        "train.isnull().sum()"
      ],
      "metadata": {
        "colab": {
          "base_uri": "https://localhost:8080/"
        },
        "id": "0nWIGLCeHbl7",
        "outputId": "127382fa-6e8e-4bd0-f2da-1b58acbeb0b1"
      },
      "execution_count": 9,
      "outputs": [
        {
          "output_type": "execute_result",
          "data": {
            "text/plain": [
              "id                   0\n",
              "dur                  0\n",
              "proto                0\n",
              "service              0\n",
              "state                0\n",
              "spkts                0\n",
              "dpkts                0\n",
              "sbytes               0\n",
              "dbytes               0\n",
              "rate                 0\n",
              "sttl                 0\n",
              "dttl                 0\n",
              "sload                0\n",
              "dload                0\n",
              "sloss                0\n",
              "dloss                0\n",
              "sinpkt               0\n",
              "dinpkt               0\n",
              "sjit                 0\n",
              "djit                 0\n",
              "swin                 0\n",
              "stcpb                0\n",
              "dtcpb                0\n",
              "dwin                 0\n",
              "tcprtt               0\n",
              "synack               0\n",
              "ackdat               0\n",
              "smean                0\n",
              "dmean                0\n",
              "trans_depth          0\n",
              "response_body_len    0\n",
              "ct_srv_src           0\n",
              "ct_state_ttl         0\n",
              "ct_dst_ltm           0\n",
              "ct_src_dport_ltm     0\n",
              "ct_dst_sport_ltm     0\n",
              "ct_dst_src_ltm       0\n",
              "is_ftp_login         0\n",
              "ct_ftp_cmd           0\n",
              "ct_flw_http_mthd     0\n",
              "ct_src_ltm           0\n",
              "ct_srv_dst           0\n",
              "is_sm_ips_ports      0\n",
              "attack_cat           0\n",
              "label                0\n",
              "dtype: int64"
            ]
          },
          "metadata": {},
          "execution_count": 9
        }
      ]
    },
    {
      "cell_type": "code",
      "source": [
        "#Categorical variables\n",
        "mask = (train.dtypes == np.object)\n",
        "print(train.loc[:,mask].head())\n",
        "list_cat = train.loc[:,mask].columns.tolist()\n",
        "print(list_cat)\n",
        "print(train.loc[:,mask].values)"
      ],
      "metadata": {
        "colab": {
          "base_uri": "https://localhost:8080/"
        },
        "id": "ISPmkNcFHkGx",
        "outputId": "6ee0a3d5-2b59-4cf2-b446-225993a85c2b"
      },
      "execution_count": 10,
      "outputs": [
        {
          "output_type": "stream",
          "name": "stdout",
          "text": [
            "  proto service state attack_cat\n",
            "0   udp       -   INT     Normal\n",
            "1   udp       -   INT     Normal\n",
            "2   udp       -   INT     Normal\n",
            "3   udp       -   INT     Normal\n",
            "4   udp       -   INT     Normal\n",
            "['proto', 'service', 'state', 'attack_cat']\n",
            "[['udp' '-' 'INT' 'Normal']\n",
            " ['udp' '-' 'INT' 'Normal']\n",
            " ['udp' '-' 'INT' 'Normal']\n",
            " ...\n",
            " ['arp' '-' 'INT' 'Normal']\n",
            " ['arp' '-' 'INT' 'Normal']\n",
            " ['udp' '-' 'INT' 'Normal']]\n"
          ]
        }
      ]
    },
    {
      "cell_type": "code",
      "source": [
        "#Numeric variables\n",
        "mask = (train.dtypes != np.object)\n",
        "print(train.loc[:,mask].head())\n",
        "list_cat = train.loc[:,mask].columns.tolist()\n",
        "print(list_cat)\n",
        "train.loc[:,mask].describe()"
      ],
      "metadata": {
        "colab": {
          "base_uri": "https://localhost:8080/",
          "height": 1000
        },
        "id": "NzddQhHFIOGB",
        "outputId": "9895feb9-511e-4c41-acfc-83cfbd585053"
      },
      "execution_count": 11,
      "outputs": [
        {
          "output_type": "stream",
          "name": "stdout",
          "text": [
            "   id       dur  spkts  dpkts  sbytes  dbytes         rate  sttl  dttl  \\\n",
            "0   1  0.000011      2      0     496       0   90909.0902   254     0   \n",
            "1   2  0.000008      2      0    1762       0  125000.0003   254     0   \n",
            "2   3  0.000005      2      0    1068       0  200000.0051   254     0   \n",
            "3   4  0.000006      2      0     900       0  166666.6608   254     0   \n",
            "4   5  0.000010      2      0    2126       0  100000.0025   254     0   \n",
            "\n",
            "         sload  dload  sloss  dloss  sinpkt  dinpkt  sjit  djit  swin  stcpb  \\\n",
            "0  180363632.0    0.0      0      0   0.011     0.0   0.0   0.0     0      0   \n",
            "1  881000000.0    0.0      0      0   0.008     0.0   0.0   0.0     0      0   \n",
            "2  854400000.0    0.0      0      0   0.005     0.0   0.0   0.0     0      0   \n",
            "3  600000000.0    0.0      0      0   0.006     0.0   0.0   0.0     0      0   \n",
            "4  850400000.0    0.0      0      0   0.010     0.0   0.0   0.0     0      0   \n",
            "\n",
            "   dtcpb  dwin  tcprtt  synack  ackdat  smean  dmean  trans_depth  \\\n",
            "0      0     0     0.0     0.0     0.0    248      0            0   \n",
            "1      0     0     0.0     0.0     0.0    881      0            0   \n",
            "2      0     0     0.0     0.0     0.0    534      0            0   \n",
            "3      0     0     0.0     0.0     0.0    450      0            0   \n",
            "4      0     0     0.0     0.0     0.0   1063      0            0   \n",
            "\n",
            "   response_body_len  ct_srv_src  ct_state_ttl  ct_dst_ltm  ct_src_dport_ltm  \\\n",
            "0                  0           2             2           1                 1   \n",
            "1                  0           2             2           1                 1   \n",
            "2                  0           3             2           1                 1   \n",
            "3                  0           3             2           2                 2   \n",
            "4                  0           3             2           2                 2   \n",
            "\n",
            "   ct_dst_sport_ltm  ct_dst_src_ltm  is_ftp_login  ct_ftp_cmd  \\\n",
            "0                 1               2             0           0   \n",
            "1                 1               2             0           0   \n",
            "2                 1               3             0           0   \n",
            "3                 1               3             0           0   \n",
            "4                 1               3             0           0   \n",
            "\n",
            "   ct_flw_http_mthd  ct_src_ltm  ct_srv_dst  is_sm_ips_ports  label  \n",
            "0                 0           1           2                0      0  \n",
            "1                 0           1           2                0      0  \n",
            "2                 0           1           3                0      0  \n",
            "3                 0           2           3                0      0  \n",
            "4                 0           2           3                0      0  \n",
            "['id', 'dur', 'spkts', 'dpkts', 'sbytes', 'dbytes', 'rate', 'sttl', 'dttl', 'sload', 'dload', 'sloss', 'dloss', 'sinpkt', 'dinpkt', 'sjit', 'djit', 'swin', 'stcpb', 'dtcpb', 'dwin', 'tcprtt', 'synack', 'ackdat', 'smean', 'dmean', 'trans_depth', 'response_body_len', 'ct_srv_src', 'ct_state_ttl', 'ct_dst_ltm', 'ct_src_dport_ltm', 'ct_dst_sport_ltm', 'ct_dst_src_ltm', 'is_ftp_login', 'ct_ftp_cmd', 'ct_flw_http_mthd', 'ct_src_ltm', 'ct_srv_dst', 'is_sm_ips_ports', 'label']\n"
          ]
        },
        {
          "output_type": "execute_result",
          "data": {
            "text/plain": [
              "                 id           dur         spkts         dpkts        sbytes  \\\n",
              "count  82332.000000  82332.000000  82332.000000  82332.000000  8.233200e+04   \n",
              "mean   41166.500000      1.006756     18.666472     17.545936  7.993908e+03   \n",
              "std    23767.345519      4.710444    133.916353    115.574086  1.716423e+05   \n",
              "min        1.000000      0.000000      1.000000      0.000000  2.400000e+01   \n",
              "25%    20583.750000      0.000008      2.000000      0.000000  1.140000e+02   \n",
              "50%    41166.500000      0.014138      6.000000      2.000000  5.340000e+02   \n",
              "75%    61749.250000      0.719360     12.000000     10.000000  1.280000e+03   \n",
              "max    82332.000000     59.999989  10646.000000  11018.000000  1.435577e+07   \n",
              "\n",
              "             dbytes          rate          sttl          dttl         sload  \\\n",
              "count  8.233200e+04  8.233200e+04  82332.000000  82332.000000  8.233200e+04   \n",
              "mean   1.323379e+04  8.241089e+04    180.967667     95.713003  6.454902e+07   \n",
              "std    1.514715e+05  1.486204e+05    101.513358    116.667722  1.798618e+08   \n",
              "min    0.000000e+00  0.000000e+00      0.000000      0.000000  0.000000e+00   \n",
              "25%    0.000000e+00  2.860611e+01     62.000000      0.000000  1.120247e+04   \n",
              "50%    1.780000e+02  2.650177e+03    254.000000     29.000000  5.770032e+05   \n",
              "75%    9.560000e+02  1.111111e+05    254.000000    252.000000  6.514286e+07   \n",
              "max    1.465753e+07  1.000000e+06    255.000000    253.000000  5.268000e+09   \n",
              "\n",
              "              dload         sloss         dloss        sinpkt        dinpkt  \\\n",
              "count  8.233200e+04  82332.000000  82332.000000  82332.000000  82332.000000   \n",
              "mean   6.305470e+05      4.753692      6.308556    755.394301    121.701284   \n",
              "std    2.393001e+06     64.649620     55.708021   6182.615732   1292.378499   \n",
              "min    0.000000e+00      0.000000      0.000000      0.000000      0.000000   \n",
              "25%    0.000000e+00      0.000000      0.000000      0.008000      0.000000   \n",
              "50%    2.112951e+03      1.000000      0.000000      0.557929      0.010000   \n",
              "75%    1.585808e+04      3.000000      2.000000     63.409444     63.136369   \n",
              "max    2.082111e+07   5319.000000   5507.000000  60009.992000  57739.240000   \n",
              "\n",
              "               sjit           djit         swin         stcpb         dtcpb  \\\n",
              "count  8.233200e+04   82332.000000  82332.00000  8.233200e+04  8.233200e+04   \n",
              "mean   6.363075e+03     535.180430    133.45908  1.084642e+09  1.073465e+09   \n",
              "std    5.672402e+04    3635.305383    127.35700  1.390860e+09  1.381996e+09   \n",
              "min    0.000000e+00       0.000000      0.00000  0.000000e+00  0.000000e+00   \n",
              "25%    0.000000e+00       0.000000      0.00000  0.000000e+00  0.000000e+00   \n",
              "50%    1.762392e+01       0.000000    255.00000  2.788886e+07  2.856975e+07   \n",
              "75%    3.219332e+03     128.459914    255.00000  2.171310e+09  2.144205e+09   \n",
              "max    1.483831e+06  463199.240100    255.00000  4.294950e+09  4.294881e+09   \n",
              "\n",
              "              dwin        tcprtt        synack        ackdat         smean  \\\n",
              "count  82332.00000  82332.000000  82332.000000  82332.000000  82332.000000   \n",
              "mean     128.28662      0.055925      0.029256      0.026669    139.528604   \n",
              "std      127.49137      0.116022      0.070854      0.055094    208.472063   \n",
              "min        0.00000      0.000000      0.000000      0.000000     24.000000   \n",
              "25%        0.00000      0.000000      0.000000      0.000000     57.000000   \n",
              "50%      255.00000      0.000551      0.000441      0.000080     65.000000   \n",
              "75%      255.00000      0.105541      0.052596      0.048816    100.000000   \n",
              "max      255.00000      3.821465      3.226788      2.928778   1504.000000   \n",
              "\n",
              "              dmean   trans_depth  response_body_len    ct_srv_src  \\\n",
              "count  82332.000000  82332.000000       8.233200e+04  82332.000000   \n",
              "mean     116.275069      0.094277       1.595372e+03      9.546604   \n",
              "std      244.600271      0.542922       3.806697e+04     11.090289   \n",
              "min        0.000000      0.000000       0.000000e+00      1.000000   \n",
              "25%        0.000000      0.000000       0.000000e+00      2.000000   \n",
              "50%       44.000000      0.000000       0.000000e+00      5.000000   \n",
              "75%       87.000000      0.000000       0.000000e+00     11.000000   \n",
              "max     1500.000000    131.000000       5.242880e+06     63.000000   \n",
              "\n",
              "       ct_state_ttl    ct_dst_ltm  ct_src_dport_ltm  ct_dst_sport_ltm  \\\n",
              "count  82332.000000  82332.000000      82332.000000      82332.000000   \n",
              "mean       1.369273      5.744923          4.928898          3.663011   \n",
              "std        1.067188      8.418112          8.389545          5.915386   \n",
              "min        0.000000      1.000000          1.000000          1.000000   \n",
              "25%        1.000000      1.000000          1.000000          1.000000   \n",
              "50%        1.000000      2.000000          1.000000          1.000000   \n",
              "75%        2.000000      6.000000          4.000000          3.000000   \n",
              "max        6.000000     59.000000         59.000000         38.000000   \n",
              "\n",
              "       ct_dst_src_ltm  is_ftp_login    ct_ftp_cmd  ct_flw_http_mthd  \\\n",
              "count    82332.000000  82332.000000  82332.000000      82332.000000   \n",
              "mean         7.456360      0.008284      0.008381          0.129743   \n",
              "std         11.415191      0.091171      0.092485          0.638683   \n",
              "min          1.000000      0.000000      0.000000          0.000000   \n",
              "25%          1.000000      0.000000      0.000000          0.000000   \n",
              "50%          3.000000      0.000000      0.000000          0.000000   \n",
              "75%          6.000000      0.000000      0.000000          0.000000   \n",
              "max         63.000000      2.000000      2.000000         16.000000   \n",
              "\n",
              "         ct_src_ltm    ct_srv_dst  is_sm_ips_ports         label  \n",
              "count  82332.000000  82332.000000     82332.000000  82332.000000  \n",
              "mean       6.468360      9.164262         0.011126      0.550600  \n",
              "std        8.543927     11.121413         0.104891      0.497436  \n",
              "min        1.000000      1.000000         0.000000      0.000000  \n",
              "25%        1.000000      2.000000         0.000000      0.000000  \n",
              "50%        3.000000      5.000000         0.000000      1.000000  \n",
              "75%        7.000000     11.000000         0.000000      1.000000  \n",
              "max       60.000000     62.000000         1.000000      1.000000  "
            ],
            "text/html": [
              "\n",
              "  <div id=\"df-c4f592d7-5984-4271-8aaa-765beebf65d6\">\n",
              "    <div class=\"colab-df-container\">\n",
              "      <div>\n",
              "<style scoped>\n",
              "    .dataframe tbody tr th:only-of-type {\n",
              "        vertical-align: middle;\n",
              "    }\n",
              "\n",
              "    .dataframe tbody tr th {\n",
              "        vertical-align: top;\n",
              "    }\n",
              "\n",
              "    .dataframe thead th {\n",
              "        text-align: right;\n",
              "    }\n",
              "</style>\n",
              "<table border=\"1\" class=\"dataframe\">\n",
              "  <thead>\n",
              "    <tr style=\"text-align: right;\">\n",
              "      <th></th>\n",
              "      <th>id</th>\n",
              "      <th>dur</th>\n",
              "      <th>spkts</th>\n",
              "      <th>dpkts</th>\n",
              "      <th>sbytes</th>\n",
              "      <th>dbytes</th>\n",
              "      <th>rate</th>\n",
              "      <th>sttl</th>\n",
              "      <th>dttl</th>\n",
              "      <th>sload</th>\n",
              "      <th>dload</th>\n",
              "      <th>sloss</th>\n",
              "      <th>dloss</th>\n",
              "      <th>sinpkt</th>\n",
              "      <th>dinpkt</th>\n",
              "      <th>sjit</th>\n",
              "      <th>djit</th>\n",
              "      <th>swin</th>\n",
              "      <th>stcpb</th>\n",
              "      <th>dtcpb</th>\n",
              "      <th>dwin</th>\n",
              "      <th>tcprtt</th>\n",
              "      <th>synack</th>\n",
              "      <th>ackdat</th>\n",
              "      <th>smean</th>\n",
              "      <th>dmean</th>\n",
              "      <th>trans_depth</th>\n",
              "      <th>response_body_len</th>\n",
              "      <th>ct_srv_src</th>\n",
              "      <th>ct_state_ttl</th>\n",
              "      <th>ct_dst_ltm</th>\n",
              "      <th>ct_src_dport_ltm</th>\n",
              "      <th>ct_dst_sport_ltm</th>\n",
              "      <th>ct_dst_src_ltm</th>\n",
              "      <th>is_ftp_login</th>\n",
              "      <th>ct_ftp_cmd</th>\n",
              "      <th>ct_flw_http_mthd</th>\n",
              "      <th>ct_src_ltm</th>\n",
              "      <th>ct_srv_dst</th>\n",
              "      <th>is_sm_ips_ports</th>\n",
              "      <th>label</th>\n",
              "    </tr>\n",
              "  </thead>\n",
              "  <tbody>\n",
              "    <tr>\n",
              "      <th>count</th>\n",
              "      <td>82332.000000</td>\n",
              "      <td>82332.000000</td>\n",
              "      <td>82332.000000</td>\n",
              "      <td>82332.000000</td>\n",
              "      <td>8.233200e+04</td>\n",
              "      <td>8.233200e+04</td>\n",
              "      <td>8.233200e+04</td>\n",
              "      <td>82332.000000</td>\n",
              "      <td>82332.000000</td>\n",
              "      <td>8.233200e+04</td>\n",
              "      <td>8.233200e+04</td>\n",
              "      <td>82332.000000</td>\n",
              "      <td>82332.000000</td>\n",
              "      <td>82332.000000</td>\n",
              "      <td>82332.000000</td>\n",
              "      <td>8.233200e+04</td>\n",
              "      <td>82332.000000</td>\n",
              "      <td>82332.00000</td>\n",
              "      <td>8.233200e+04</td>\n",
              "      <td>8.233200e+04</td>\n",
              "      <td>82332.00000</td>\n",
              "      <td>82332.000000</td>\n",
              "      <td>82332.000000</td>\n",
              "      <td>82332.000000</td>\n",
              "      <td>82332.000000</td>\n",
              "      <td>82332.000000</td>\n",
              "      <td>82332.000000</td>\n",
              "      <td>8.233200e+04</td>\n",
              "      <td>82332.000000</td>\n",
              "      <td>82332.000000</td>\n",
              "      <td>82332.000000</td>\n",
              "      <td>82332.000000</td>\n",
              "      <td>82332.000000</td>\n",
              "      <td>82332.000000</td>\n",
              "      <td>82332.000000</td>\n",
              "      <td>82332.000000</td>\n",
              "      <td>82332.000000</td>\n",
              "      <td>82332.000000</td>\n",
              "      <td>82332.000000</td>\n",
              "      <td>82332.000000</td>\n",
              "      <td>82332.000000</td>\n",
              "    </tr>\n",
              "    <tr>\n",
              "      <th>mean</th>\n",
              "      <td>41166.500000</td>\n",
              "      <td>1.006756</td>\n",
              "      <td>18.666472</td>\n",
              "      <td>17.545936</td>\n",
              "      <td>7.993908e+03</td>\n",
              "      <td>1.323379e+04</td>\n",
              "      <td>8.241089e+04</td>\n",
              "      <td>180.967667</td>\n",
              "      <td>95.713003</td>\n",
              "      <td>6.454902e+07</td>\n",
              "      <td>6.305470e+05</td>\n",
              "      <td>4.753692</td>\n",
              "      <td>6.308556</td>\n",
              "      <td>755.394301</td>\n",
              "      <td>121.701284</td>\n",
              "      <td>6.363075e+03</td>\n",
              "      <td>535.180430</td>\n",
              "      <td>133.45908</td>\n",
              "      <td>1.084642e+09</td>\n",
              "      <td>1.073465e+09</td>\n",
              "      <td>128.28662</td>\n",
              "      <td>0.055925</td>\n",
              "      <td>0.029256</td>\n",
              "      <td>0.026669</td>\n",
              "      <td>139.528604</td>\n",
              "      <td>116.275069</td>\n",
              "      <td>0.094277</td>\n",
              "      <td>1.595372e+03</td>\n",
              "      <td>9.546604</td>\n",
              "      <td>1.369273</td>\n",
              "      <td>5.744923</td>\n",
              "      <td>4.928898</td>\n",
              "      <td>3.663011</td>\n",
              "      <td>7.456360</td>\n",
              "      <td>0.008284</td>\n",
              "      <td>0.008381</td>\n",
              "      <td>0.129743</td>\n",
              "      <td>6.468360</td>\n",
              "      <td>9.164262</td>\n",
              "      <td>0.011126</td>\n",
              "      <td>0.550600</td>\n",
              "    </tr>\n",
              "    <tr>\n",
              "      <th>std</th>\n",
              "      <td>23767.345519</td>\n",
              "      <td>4.710444</td>\n",
              "      <td>133.916353</td>\n",
              "      <td>115.574086</td>\n",
              "      <td>1.716423e+05</td>\n",
              "      <td>1.514715e+05</td>\n",
              "      <td>1.486204e+05</td>\n",
              "      <td>101.513358</td>\n",
              "      <td>116.667722</td>\n",
              "      <td>1.798618e+08</td>\n",
              "      <td>2.393001e+06</td>\n",
              "      <td>64.649620</td>\n",
              "      <td>55.708021</td>\n",
              "      <td>6182.615732</td>\n",
              "      <td>1292.378499</td>\n",
              "      <td>5.672402e+04</td>\n",
              "      <td>3635.305383</td>\n",
              "      <td>127.35700</td>\n",
              "      <td>1.390860e+09</td>\n",
              "      <td>1.381996e+09</td>\n",
              "      <td>127.49137</td>\n",
              "      <td>0.116022</td>\n",
              "      <td>0.070854</td>\n",
              "      <td>0.055094</td>\n",
              "      <td>208.472063</td>\n",
              "      <td>244.600271</td>\n",
              "      <td>0.542922</td>\n",
              "      <td>3.806697e+04</td>\n",
              "      <td>11.090289</td>\n",
              "      <td>1.067188</td>\n",
              "      <td>8.418112</td>\n",
              "      <td>8.389545</td>\n",
              "      <td>5.915386</td>\n",
              "      <td>11.415191</td>\n",
              "      <td>0.091171</td>\n",
              "      <td>0.092485</td>\n",
              "      <td>0.638683</td>\n",
              "      <td>8.543927</td>\n",
              "      <td>11.121413</td>\n",
              "      <td>0.104891</td>\n",
              "      <td>0.497436</td>\n",
              "    </tr>\n",
              "    <tr>\n",
              "      <th>min</th>\n",
              "      <td>1.000000</td>\n",
              "      <td>0.000000</td>\n",
              "      <td>1.000000</td>\n",
              "      <td>0.000000</td>\n",
              "      <td>2.400000e+01</td>\n",
              "      <td>0.000000e+00</td>\n",
              "      <td>0.000000e+00</td>\n",
              "      <td>0.000000</td>\n",
              "      <td>0.000000</td>\n",
              "      <td>0.000000e+00</td>\n",
              "      <td>0.000000e+00</td>\n",
              "      <td>0.000000</td>\n",
              "      <td>0.000000</td>\n",
              "      <td>0.000000</td>\n",
              "      <td>0.000000</td>\n",
              "      <td>0.000000e+00</td>\n",
              "      <td>0.000000</td>\n",
              "      <td>0.00000</td>\n",
              "      <td>0.000000e+00</td>\n",
              "      <td>0.000000e+00</td>\n",
              "      <td>0.00000</td>\n",
              "      <td>0.000000</td>\n",
              "      <td>0.000000</td>\n",
              "      <td>0.000000</td>\n",
              "      <td>24.000000</td>\n",
              "      <td>0.000000</td>\n",
              "      <td>0.000000</td>\n",
              "      <td>0.000000e+00</td>\n",
              "      <td>1.000000</td>\n",
              "      <td>0.000000</td>\n",
              "      <td>1.000000</td>\n",
              "      <td>1.000000</td>\n",
              "      <td>1.000000</td>\n",
              "      <td>1.000000</td>\n",
              "      <td>0.000000</td>\n",
              "      <td>0.000000</td>\n",
              "      <td>0.000000</td>\n",
              "      <td>1.000000</td>\n",
              "      <td>1.000000</td>\n",
              "      <td>0.000000</td>\n",
              "      <td>0.000000</td>\n",
              "    </tr>\n",
              "    <tr>\n",
              "      <th>25%</th>\n",
              "      <td>20583.750000</td>\n",
              "      <td>0.000008</td>\n",
              "      <td>2.000000</td>\n",
              "      <td>0.000000</td>\n",
              "      <td>1.140000e+02</td>\n",
              "      <td>0.000000e+00</td>\n",
              "      <td>2.860611e+01</td>\n",
              "      <td>62.000000</td>\n",
              "      <td>0.000000</td>\n",
              "      <td>1.120247e+04</td>\n",
              "      <td>0.000000e+00</td>\n",
              "      <td>0.000000</td>\n",
              "      <td>0.000000</td>\n",
              "      <td>0.008000</td>\n",
              "      <td>0.000000</td>\n",
              "      <td>0.000000e+00</td>\n",
              "      <td>0.000000</td>\n",
              "      <td>0.00000</td>\n",
              "      <td>0.000000e+00</td>\n",
              "      <td>0.000000e+00</td>\n",
              "      <td>0.00000</td>\n",
              "      <td>0.000000</td>\n",
              "      <td>0.000000</td>\n",
              "      <td>0.000000</td>\n",
              "      <td>57.000000</td>\n",
              "      <td>0.000000</td>\n",
              "      <td>0.000000</td>\n",
              "      <td>0.000000e+00</td>\n",
              "      <td>2.000000</td>\n",
              "      <td>1.000000</td>\n",
              "      <td>1.000000</td>\n",
              "      <td>1.000000</td>\n",
              "      <td>1.000000</td>\n",
              "      <td>1.000000</td>\n",
              "      <td>0.000000</td>\n",
              "      <td>0.000000</td>\n",
              "      <td>0.000000</td>\n",
              "      <td>1.000000</td>\n",
              "      <td>2.000000</td>\n",
              "      <td>0.000000</td>\n",
              "      <td>0.000000</td>\n",
              "    </tr>\n",
              "    <tr>\n",
              "      <th>50%</th>\n",
              "      <td>41166.500000</td>\n",
              "      <td>0.014138</td>\n",
              "      <td>6.000000</td>\n",
              "      <td>2.000000</td>\n",
              "      <td>5.340000e+02</td>\n",
              "      <td>1.780000e+02</td>\n",
              "      <td>2.650177e+03</td>\n",
              "      <td>254.000000</td>\n",
              "      <td>29.000000</td>\n",
              "      <td>5.770032e+05</td>\n",
              "      <td>2.112951e+03</td>\n",
              "      <td>1.000000</td>\n",
              "      <td>0.000000</td>\n",
              "      <td>0.557929</td>\n",
              "      <td>0.010000</td>\n",
              "      <td>1.762392e+01</td>\n",
              "      <td>0.000000</td>\n",
              "      <td>255.00000</td>\n",
              "      <td>2.788886e+07</td>\n",
              "      <td>2.856975e+07</td>\n",
              "      <td>255.00000</td>\n",
              "      <td>0.000551</td>\n",
              "      <td>0.000441</td>\n",
              "      <td>0.000080</td>\n",
              "      <td>65.000000</td>\n",
              "      <td>44.000000</td>\n",
              "      <td>0.000000</td>\n",
              "      <td>0.000000e+00</td>\n",
              "      <td>5.000000</td>\n",
              "      <td>1.000000</td>\n",
              "      <td>2.000000</td>\n",
              "      <td>1.000000</td>\n",
              "      <td>1.000000</td>\n",
              "      <td>3.000000</td>\n",
              "      <td>0.000000</td>\n",
              "      <td>0.000000</td>\n",
              "      <td>0.000000</td>\n",
              "      <td>3.000000</td>\n",
              "      <td>5.000000</td>\n",
              "      <td>0.000000</td>\n",
              "      <td>1.000000</td>\n",
              "    </tr>\n",
              "    <tr>\n",
              "      <th>75%</th>\n",
              "      <td>61749.250000</td>\n",
              "      <td>0.719360</td>\n",
              "      <td>12.000000</td>\n",
              "      <td>10.000000</td>\n",
              "      <td>1.280000e+03</td>\n",
              "      <td>9.560000e+02</td>\n",
              "      <td>1.111111e+05</td>\n",
              "      <td>254.000000</td>\n",
              "      <td>252.000000</td>\n",
              "      <td>6.514286e+07</td>\n",
              "      <td>1.585808e+04</td>\n",
              "      <td>3.000000</td>\n",
              "      <td>2.000000</td>\n",
              "      <td>63.409444</td>\n",
              "      <td>63.136369</td>\n",
              "      <td>3.219332e+03</td>\n",
              "      <td>128.459914</td>\n",
              "      <td>255.00000</td>\n",
              "      <td>2.171310e+09</td>\n",
              "      <td>2.144205e+09</td>\n",
              "      <td>255.00000</td>\n",
              "      <td>0.105541</td>\n",
              "      <td>0.052596</td>\n",
              "      <td>0.048816</td>\n",
              "      <td>100.000000</td>\n",
              "      <td>87.000000</td>\n",
              "      <td>0.000000</td>\n",
              "      <td>0.000000e+00</td>\n",
              "      <td>11.000000</td>\n",
              "      <td>2.000000</td>\n",
              "      <td>6.000000</td>\n",
              "      <td>4.000000</td>\n",
              "      <td>3.000000</td>\n",
              "      <td>6.000000</td>\n",
              "      <td>0.000000</td>\n",
              "      <td>0.000000</td>\n",
              "      <td>0.000000</td>\n",
              "      <td>7.000000</td>\n",
              "      <td>11.000000</td>\n",
              "      <td>0.000000</td>\n",
              "      <td>1.000000</td>\n",
              "    </tr>\n",
              "    <tr>\n",
              "      <th>max</th>\n",
              "      <td>82332.000000</td>\n",
              "      <td>59.999989</td>\n",
              "      <td>10646.000000</td>\n",
              "      <td>11018.000000</td>\n",
              "      <td>1.435577e+07</td>\n",
              "      <td>1.465753e+07</td>\n",
              "      <td>1.000000e+06</td>\n",
              "      <td>255.000000</td>\n",
              "      <td>253.000000</td>\n",
              "      <td>5.268000e+09</td>\n",
              "      <td>2.082111e+07</td>\n",
              "      <td>5319.000000</td>\n",
              "      <td>5507.000000</td>\n",
              "      <td>60009.992000</td>\n",
              "      <td>57739.240000</td>\n",
              "      <td>1.483831e+06</td>\n",
              "      <td>463199.240100</td>\n",
              "      <td>255.00000</td>\n",
              "      <td>4.294950e+09</td>\n",
              "      <td>4.294881e+09</td>\n",
              "      <td>255.00000</td>\n",
              "      <td>3.821465</td>\n",
              "      <td>3.226788</td>\n",
              "      <td>2.928778</td>\n",
              "      <td>1504.000000</td>\n",
              "      <td>1500.000000</td>\n",
              "      <td>131.000000</td>\n",
              "      <td>5.242880e+06</td>\n",
              "      <td>63.000000</td>\n",
              "      <td>6.000000</td>\n",
              "      <td>59.000000</td>\n",
              "      <td>59.000000</td>\n",
              "      <td>38.000000</td>\n",
              "      <td>63.000000</td>\n",
              "      <td>2.000000</td>\n",
              "      <td>2.000000</td>\n",
              "      <td>16.000000</td>\n",
              "      <td>60.000000</td>\n",
              "      <td>62.000000</td>\n",
              "      <td>1.000000</td>\n",
              "      <td>1.000000</td>\n",
              "    </tr>\n",
              "  </tbody>\n",
              "</table>\n",
              "</div>\n",
              "      <button class=\"colab-df-convert\" onclick=\"convertToInteractive('df-c4f592d7-5984-4271-8aaa-765beebf65d6')\"\n",
              "              title=\"Convert this dataframe to an interactive table.\"\n",
              "              style=\"display:none;\">\n",
              "        \n",
              "  <svg xmlns=\"http://www.w3.org/2000/svg\" height=\"24px\"viewBox=\"0 0 24 24\"\n",
              "       width=\"24px\">\n",
              "    <path d=\"M0 0h24v24H0V0z\" fill=\"none\"/>\n",
              "    <path d=\"M18.56 5.44l.94 2.06.94-2.06 2.06-.94-2.06-.94-.94-2.06-.94 2.06-2.06.94zm-11 1L8.5 8.5l.94-2.06 2.06-.94-2.06-.94L8.5 2.5l-.94 2.06-2.06.94zm10 10l.94 2.06.94-2.06 2.06-.94-2.06-.94-.94-2.06-.94 2.06-2.06.94z\"/><path d=\"M17.41 7.96l-1.37-1.37c-.4-.4-.92-.59-1.43-.59-.52 0-1.04.2-1.43.59L10.3 9.45l-7.72 7.72c-.78.78-.78 2.05 0 2.83L4 21.41c.39.39.9.59 1.41.59.51 0 1.02-.2 1.41-.59l7.78-7.78 2.81-2.81c.8-.78.8-2.07 0-2.86zM5.41 20L4 18.59l7.72-7.72 1.47 1.35L5.41 20z\"/>\n",
              "  </svg>\n",
              "      </button>\n",
              "      \n",
              "  <style>\n",
              "    .colab-df-container {\n",
              "      display:flex;\n",
              "      flex-wrap:wrap;\n",
              "      gap: 12px;\n",
              "    }\n",
              "\n",
              "    .colab-df-convert {\n",
              "      background-color: #E8F0FE;\n",
              "      border: none;\n",
              "      border-radius: 50%;\n",
              "      cursor: pointer;\n",
              "      display: none;\n",
              "      fill: #1967D2;\n",
              "      height: 32px;\n",
              "      padding: 0 0 0 0;\n",
              "      width: 32px;\n",
              "    }\n",
              "\n",
              "    .colab-df-convert:hover {\n",
              "      background-color: #E2EBFA;\n",
              "      box-shadow: 0px 1px 2px rgba(60, 64, 67, 0.3), 0px 1px 3px 1px rgba(60, 64, 67, 0.15);\n",
              "      fill: #174EA6;\n",
              "    }\n",
              "\n",
              "    [theme=dark] .colab-df-convert {\n",
              "      background-color: #3B4455;\n",
              "      fill: #D2E3FC;\n",
              "    }\n",
              "\n",
              "    [theme=dark] .colab-df-convert:hover {\n",
              "      background-color: #434B5C;\n",
              "      box-shadow: 0px 1px 3px 1px rgba(0, 0, 0, 0.15);\n",
              "      filter: drop-shadow(0px 1px 2px rgba(0, 0, 0, 0.3));\n",
              "      fill: #FFFFFF;\n",
              "    }\n",
              "  </style>\n",
              "\n",
              "      <script>\n",
              "        const buttonEl =\n",
              "          document.querySelector('#df-c4f592d7-5984-4271-8aaa-765beebf65d6 button.colab-df-convert');\n",
              "        buttonEl.style.display =\n",
              "          google.colab.kernel.accessAllowed ? 'block' : 'none';\n",
              "\n",
              "        async function convertToInteractive(key) {\n",
              "          const element = document.querySelector('#df-c4f592d7-5984-4271-8aaa-765beebf65d6');\n",
              "          const dataTable =\n",
              "            await google.colab.kernel.invokeFunction('convertToInteractive',\n",
              "                                                     [key], {});\n",
              "          if (!dataTable) return;\n",
              "\n",
              "          const docLinkHtml = 'Like what you see? Visit the ' +\n",
              "            '<a target=\"_blank\" href=https://colab.research.google.com/notebooks/data_table.ipynb>data table notebook</a>'\n",
              "            + ' to learn more about interactive tables.';\n",
              "          element.innerHTML = '';\n",
              "          dataTable['output_type'] = 'display_data';\n",
              "          await google.colab.output.renderOutput(dataTable, element);\n",
              "          const docLink = document.createElement('div');\n",
              "          docLink.innerHTML = docLinkHtml;\n",
              "          element.appendChild(docLink);\n",
              "        }\n",
              "      </script>\n",
              "    </div>\n",
              "  </div>\n",
              "  "
            ]
          },
          "metadata": {},
          "execution_count": 11
        }
      ]
    },
    {
      "cell_type": "code",
      "source": [
        "#Evaluation of the training dataset\n",
        "# Check whether the positive label (1) match attack categories, and whether attack categories match labelled data.\n",
        "\n",
        "# all(iterable) returns True if all elements of the iterable are considered as true values\n",
        "print(all(((train.label == 1) & (train.attack_cat != 'Normal')) == (train.attack_cat != 'Normal')))\n",
        "print(all(((train.attack_cat != 'Normal') & (train.label == 1)) == (train.label == 1)))"
      ],
      "metadata": {
        "colab": {
          "base_uri": "https://localhost:8080/"
        },
        "id": "Jgjxw_ANIWPD",
        "outputId": "ff719e18-dc38-4237-c791-27ff4934d96f"
      },
      "execution_count": 12,
      "outputs": [
        {
          "output_type": "stream",
          "name": "stdout",
          "text": [
            "True\n",
            "True\n"
          ]
        }
      ]
    },
    {
      "cell_type": "code",
      "source": [
        "#number of occurrences for each attack category\n",
        "train.attack_cat.value_counts()"
      ],
      "metadata": {
        "colab": {
          "base_uri": "https://localhost:8080/"
        },
        "id": "SQqpbKiMIf9t",
        "outputId": "d26fd6aa-b3f0-427b-a9b3-ab4c5a7a9e77"
      },
      "execution_count": 13,
      "outputs": [
        {
          "output_type": "execute_result",
          "data": {
            "text/plain": [
              "Normal            37000\n",
              "Generic           18871\n",
              "Exploits          11132\n",
              "Fuzzers            6062\n",
              "DoS                4089\n",
              "Reconnaissance     3496\n",
              "Analysis            677\n",
              "Backdoor            583\n",
              "Shellcode           378\n",
              "Worms                44\n",
              "Name: attack_cat, dtype: int64"
            ]
          },
          "metadata": {},
          "execution_count": 13
        }
      ]
    },
    {
      "cell_type": "code",
      "source": [
        "#Which protocols and services appear in the positively labelled entries?\n",
        "mask = (train.label == 1)\n",
        "print(train.loc[mask,:].service.value_counts())\n",
        "print(train.loc[mask,:].proto.value_counts())"
      ],
      "metadata": {
        "colab": {
          "base_uri": "https://localhost:8080/"
        },
        "id": "G4TvhVaaIjXb",
        "outputId": "90f11c27-ed0e-409a-88cf-74bad9fb83ba"
      },
      "execution_count": 14,
      "outputs": [
        {
          "output_type": "stream",
          "name": "stdout",
          "text": [
            "-           19778\n",
            "dns         18299\n",
            "http         4274\n",
            "smtp         1216\n",
            "ftp           794\n",
            "ftp-data      447\n",
            "pop3          423\n",
            "ssl            30\n",
            "snmp           29\n",
            "dhcp           26\n",
            "radius          7\n",
            "irc             5\n",
            "ssh             4\n",
            "Name: service, dtype: int64\n",
            "udp           21321\n",
            "tcp           15247\n",
            "unas           3515\n",
            "ospf            638\n",
            "sctp            324\n",
            "              ...  \n",
            "wb-mon           32\n",
            "br-sat-mon       32\n",
            "pvp              32\n",
            "wsn              32\n",
            "ib               31\n",
            "Name: proto, Length: 129, dtype: int64\n"
          ]
        }
      ]
    },
    {
      "cell_type": "code",
      "source": [
        "#In the negatively labelled ones?\n",
        "mask = (train.label == 0)\n",
        "print(train.loc[mask,:].service.value_counts())\n",
        "print(train.loc[mask,:].proto.value_counts())\n"
      ],
      "metadata": {
        "colab": {
          "base_uri": "https://localhost:8080/"
        },
        "id": "1Z8EwdTXJEv6",
        "outputId": "3b6e5ded-7c10-425f-c22f-f8405042c3b3"
      },
      "execution_count": 15,
      "outputs": [
        {
          "output_type": "stream",
          "name": "stdout",
          "text": [
            "-           27375\n",
            "http         4013\n",
            "dns          3068\n",
            "ftp-data      949\n",
            "ftp           758\n",
            "smtp          635\n",
            "ssh           200\n",
            "radius          2\n",
            "Name: service, dtype: int64\n",
            "tcp     27848\n",
            "udp      8097\n",
            "arp       987\n",
            "ospf       38\n",
            "igmp       30\n",
            "Name: proto, dtype: int64\n"
          ]
        }
      ]
    },
    {
      "cell_type": "code",
      "source": [
        "#Data cleaning\n",
        "print(train.columns.values)\n",
        "print(test.columns.values)"
      ],
      "metadata": {
        "colab": {
          "base_uri": "https://localhost:8080/"
        },
        "id": "vgnZVcKpJHx6",
        "outputId": "14acc75d-ce97-483c-98ce-a181a7e126b4"
      },
      "execution_count": 16,
      "outputs": [
        {
          "output_type": "stream",
          "name": "stdout",
          "text": [
            "['id' 'dur' 'proto' 'service' 'state' 'spkts' 'dpkts' 'sbytes' 'dbytes'\n",
            " 'rate' 'sttl' 'dttl' 'sload' 'dload' 'sloss' 'dloss' 'sinpkt' 'dinpkt'\n",
            " 'sjit' 'djit' 'swin' 'stcpb' 'dtcpb' 'dwin' 'tcprtt' 'synack' 'ackdat'\n",
            " 'smean' 'dmean' 'trans_depth' 'response_body_len' 'ct_srv_src'\n",
            " 'ct_state_ttl' 'ct_dst_ltm' 'ct_src_dport_ltm' 'ct_dst_sport_ltm'\n",
            " 'ct_dst_src_ltm' 'is_ftp_login' 'ct_ftp_cmd' 'ct_flw_http_mthd'\n",
            " 'ct_src_ltm' 'ct_srv_dst' 'is_sm_ips_ports' 'attack_cat' 'label']\n",
            "['id' 'dur' 'proto' 'service' 'state' 'spkts' 'dpkts' 'sbytes' 'dbytes'\n",
            " 'rate' 'sttl' 'dttl' 'sload' 'dload' 'sloss' 'dloss' 'sinpkt' 'dinpkt'\n",
            " 'sjit' 'djit' 'swin' 'stcpb' 'dtcpb' 'dwin' 'tcprtt' 'synack' 'ackdat'\n",
            " 'smean' 'dmean' 'trans_depth' 'response_body_len' 'ct_srv_src'\n",
            " 'ct_state_ttl' 'ct_dst_ltm' 'ct_src_dport_ltm' 'ct_dst_sport_ltm'\n",
            " 'ct_dst_src_ltm' 'is_ftp_login' 'ct_ftp_cmd' 'ct_flw_http_mthd'\n",
            " 'ct_src_ltm' 'ct_srv_dst' 'is_sm_ips_ports' 'attack_cat' 'label']\n"
          ]
        }
      ]
    },
    {
      "cell_type": "code",
      "source": [
        "#Scaling the Data before doing anomoly detection\n",
        "#As anomoly detection methods works better with scaled data, but there is no compulsory need to do so.\n",
        "#Scale only continious data\n",
        "df = pd.concat([train, test], ignore_index=True)\n",
        "\n",
        "# Remove unwanted columns\n",
        "df.drop(['id', 'attack_cat'], inplace=True, axis=1)\n",
        "\n",
        "# Perform one-hot encoding on categorical columns and join back to main train_data\n",
        "one_hot = pd.get_dummies(df[[\"proto\", \"state\", \"service\"]])\n",
        "df = df.join(one_hot)\n",
        "\n",
        "# Remove the original categorical columns\n",
        "df.drop([\"proto\", \"state\", \"service\"], inplace=True, axis=1)\n",
        "\n",
        "# Re split the data back into train / test\n",
        "train_data = df.iloc[0:175341, 0:]\n",
        "test_data = df.iloc[175341:, 0:]\n",
        "\n",
        "# Create y_train and then drop the label from the training data\n",
        "y_train = np.array(train_data[\"label\"])\n",
        "train_data.drop(['label'], inplace=True, axis=1)\n",
        "\n",
        "y_test = np.array(test_data[\"label\"])\n",
        "test_data.drop(['label'], inplace=True, axis=1)\n",
        "\n",
        "# Use min-max scaler to scale the features to 0-1 range\n",
        "# Only fit the scaler on the train data!!\n",
        "scaler = MinMaxScaler()\n",
        "X_train = scaler.fit_transform(train_data)\n",
        "\n",
        "# Scale the testing data\n",
        "X_test = scaler.transform(test_data)\n",
        "\n",
        "# Ensure our dataset splits are still correct\n",
        "print(f\"Train data shape: {X_train.shape} Train label shape: {y_train.shape}\")\n",
        "print(f\"Test data shape: {X_test.shape} Test label shape: {y_test.shape}\")\n"
      ],
      "metadata": {
        "colab": {
          "base_uri": "https://localhost:8080/"
        },
        "id": "cm32Y_vjJXyD",
        "outputId": "7db3724c-6774-4def-bb2a-0e72f858ad7b"
      },
      "execution_count": 17,
      "outputs": [
        {
          "output_type": "stream",
          "name": "stdout",
          "text": [
            "Train data shape: (175341, 196) Train label shape: (175341,)\n",
            "Test data shape: (82332, 196) Test label shape: (82332,)\n"
          ]
        }
      ]
    },
    {
      "cell_type": "code",
      "source": [
        "#Machine Learning Analysis\n",
        "#Logistic Regression\n",
        "log = LogisticRegression(solver = \"liblinear\")\n",
        "y_pred_log_fit = log.fit(X_train, y_train)\n",
        "y_pred_log = y_pred_log_fit.predict(X_test)\n",
        "log_accuracy = accuracy_score(y_test, y_pred_log)"
      ],
      "metadata": {
        "id": "2mUZLqcKJufb"
      },
      "execution_count": 18,
      "outputs": []
    },
    {
      "cell_type": "code",
      "source": [
        "log_accuracy"
      ],
      "metadata": {
        "colab": {
          "base_uri": "https://localhost:8080/"
        },
        "id": "h0Uno7lnJ1Dp",
        "outputId": "f0a8e6e5-1bdf-44af-8170-a7e61c643760"
      },
      "execution_count": 19,
      "outputs": [
        {
          "output_type": "execute_result",
          "data": {
            "text/plain": [
              "0.9473108876257106"
            ]
          },
          "metadata": {},
          "execution_count": 19
        }
      ]
    },
    {
      "cell_type": "code",
      "source": [
        "print (\"Accuracy: \" + str(accuracy_score(y_pred_log, y_test)))\n",
        "print (\"Precision: \" + str(precision_score(y_pred_log, y_test)))\n",
        "print (\"Recall: \" + str(recall_score(y_pred_log, y_test)))\n",
        "print (\"F1: \" + str(f1_score(y_pred_log, y_test)))"
      ],
      "metadata": {
        "colab": {
          "base_uri": "https://localhost:8080/"
        },
        "id": "TXUdpLqEJ5Sd",
        "outputId": "468a2811-6850-4f51-d707-6a7655970e91"
      },
      "execution_count": 20,
      "outputs": [
        {
          "output_type": "stream",
          "name": "stdout",
          "text": [
            "Accuracy: 0.9473108876257106\n",
            "Precision: 0.9540332563392504\n",
            "Recall: 0.9902510100006623\n",
            "F1: 0.9718048044925125\n"
          ]
        }
      ]
    },
    {
      "cell_type": "code",
      "source": [
        "confusion_matrix(y_test, y_pred_log)"
      ],
      "metadata": {
        "colab": {
          "base_uri": "https://localhost:8080/"
        },
        "id": "SRKRJxdHJ6qq",
        "outputId": "ada9ed32-3768-403c-c0ad-242e92e20040"
      },
      "execution_count": 21,
      "outputs": [
        {
          "output_type": "execute_result",
          "data": {
            "text/plain": [
              "array([[ 3235,   736],\n",
              "       [ 3602, 74759]])"
            ]
          },
          "metadata": {},
          "execution_count": 21
        }
      ]
    },
    {
      "cell_type": "code",
      "source": [
        "print(classification_report(y_test, y_pred_log))"
      ],
      "metadata": {
        "colab": {
          "base_uri": "https://localhost:8080/"
        },
        "id": "W7UNzvqUJ-Jd",
        "outputId": "e601bd32-1a01-4ba2-eb1d-6513c2e65766"
      },
      "execution_count": 22,
      "outputs": [
        {
          "output_type": "stream",
          "name": "stdout",
          "text": [
            "              precision    recall  f1-score   support\n",
            "\n",
            "           0       0.47      0.81      0.60      3971\n",
            "           1       0.99      0.95      0.97     78361\n",
            "\n",
            "    accuracy                           0.95     82332\n",
            "   macro avg       0.73      0.88      0.79     82332\n",
            "weighted avg       0.97      0.95      0.95     82332\n",
            "\n"
          ]
        }
      ]
    },
    {
      "cell_type": "code",
      "source": [
        "#AUROC Score\n",
        "log_roc_auc_score = roc_auc_score(y_test, y_pred_log)"
      ],
      "metadata": {
        "id": "Mc-l4yIAKAtL"
      },
      "execution_count": 23,
      "outputs": []
    },
    {
      "cell_type": "code",
      "source": [
        "log_roc_auc_score"
      ],
      "metadata": {
        "colab": {
          "base_uri": "https://localhost:8080/"
        },
        "id": "JxgXPWv1KHja",
        "outputId": "d9279e97-3142-4b62-cfdf-17dc8ae7a62c"
      },
      "execution_count": 24,
      "outputs": [
        {
          "output_type": "execute_result",
          "data": {
            "text/plain": [
              "0.8843447571044023"
            ]
          },
          "metadata": {},
          "execution_count": 24
        }
      ]
    },
    {
      "cell_type": "code",
      "source": [
        "from sklearn import metrics\n",
        "from sklearn.metrics import (confusion_matrix, precision_recall_curve, auc, roc_curve, recall_score, \n",
        "                             classification_report, f1_score, average_precision_score, precision_recall_fscore_support)"
      ],
      "metadata": {
        "id": "pxlF2um4KLgW"
      },
      "execution_count": 25,
      "outputs": []
    },
    {
      "cell_type": "code",
      "source": [
        "fpr_lr, tpr_lr, thresholds_lr = roc_curve(y_test, y_pred_log)\n",
        "roc_auc_lr = auc(fpr_lr, tpr_lr)\n",
        "precision_lr, recall_lr, th_lr = precision_recall_curve(y_test, y_pred_log)"
      ],
      "metadata": {
        "id": "39A_oGRBKRTg"
      },
      "execution_count": 26,
      "outputs": []
    },
    {
      "cell_type": "code",
      "source": [
        "#AUPRC Score\n",
        "log_auprc_score=average_precision_score(y_test,y_pred_log)"
      ],
      "metadata": {
        "id": "-lkJWZR_KWrh"
      },
      "execution_count": 27,
      "outputs": []
    },
    {
      "cell_type": "code",
      "source": [
        "log_auprc_score"
      ],
      "metadata": {
        "colab": {
          "base_uri": "https://localhost:8080/"
        },
        "id": "1iIuSyLzKe9Y",
        "outputId": "a8360a91-8d55-46e8-f991-23c9e900185f"
      },
      "execution_count": 28,
      "outputs": [
        {
          "output_type": "execute_result",
          "data": {
            "text/plain": [
              "0.9884820920155214"
            ]
          },
          "metadata": {},
          "execution_count": 28
        }
      ]
    },
    {
      "cell_type": "code",
      "source": [
        "# Ridge Classifier\n",
        "rc = RidgeClassifier()\n",
        "rc_fit = rc.fit(X_train, y_train)\n",
        "y_pred_rc = rc_fit.predict(X_test)\n",
        "rc_accuracy = accuracy_score(y_test, y_pred_rc)"
      ],
      "metadata": {
        "id": "Xh9a5G7zKh1I"
      },
      "execution_count": 29,
      "outputs": []
    },
    {
      "cell_type": "code",
      "source": [
        "rc_accuracy"
      ],
      "metadata": {
        "colab": {
          "base_uri": "https://localhost:8080/"
        },
        "id": "PKHq7A1pKjx6",
        "outputId": "a78df611-2325-49ed-9107-7a7db4fd165a"
      },
      "execution_count": 30,
      "outputs": [
        {
          "output_type": "execute_result",
          "data": {
            "text/plain": [
              "0.9702788709128892"
            ]
          },
          "metadata": {},
          "execution_count": 30
        }
      ]
    },
    {
      "cell_type": "code",
      "source": [
        "print (\"Accuracy: \" + str(accuracy_score(y_pred_rc, y_test)))\n",
        "print (\"Precision: \" + str(precision_score(y_pred_rc, y_test)))\n",
        "print (\"Recall: \" + str(recall_score(y_pred_rc, y_test)))\n",
        "print (\"F1: \" + str(f1_score(y_pred_rc, y_test)))"
      ],
      "metadata": {
        "colab": {
          "base_uri": "https://localhost:8080/"
        },
        "id": "S9lqdqEPKmUR",
        "outputId": "306dd6a9-5f76-4e65-9228-25bd85185c90"
      },
      "execution_count": 31,
      "outputs": [
        {
          "output_type": "stream",
          "name": "stdout",
          "text": [
            "Accuracy: 0.9702788709128892\n",
            "Precision: 0.9834739219764934\n",
            "Recall: 0.9852719322917999\n",
            "F1: 0.9843721060934099\n"
          ]
        }
      ]
    },
    {
      "cell_type": "code",
      "source": [
        "confusion_matrix(y_test, y_pred_rc)"
      ],
      "metadata": {
        "colab": {
          "base_uri": "https://localhost:8080/"
        },
        "id": "6ddStx49KprX",
        "outputId": "0ebc431a-b94b-492d-b23c-4e54ddb0ecb3"
      },
      "execution_count": 32,
      "outputs": [
        {
          "output_type": "execute_result",
          "data": {
            "text/plain": [
              "array([[ 2819,  1152],\n",
              "       [ 1295, 77066]])"
            ]
          },
          "metadata": {},
          "execution_count": 32
        }
      ]
    },
    {
      "cell_type": "code",
      "source": [
        "print(classification_report(y_test, y_pred_rc))"
      ],
      "metadata": {
        "colab": {
          "base_uri": "https://localhost:8080/"
        },
        "id": "f_qyhLAeKuj8",
        "outputId": "4404e52e-225a-430a-ef0d-39b41c141c20"
      },
      "execution_count": 33,
      "outputs": [
        {
          "output_type": "stream",
          "name": "stdout",
          "text": [
            "              precision    recall  f1-score   support\n",
            "\n",
            "           0       0.69      0.71      0.70      3971\n",
            "           1       0.99      0.98      0.98     78361\n",
            "\n",
            "    accuracy                           0.97     82332\n",
            "   macro avg       0.84      0.85      0.84     82332\n",
            "weighted avg       0.97      0.97      0.97     82332\n",
            "\n"
          ]
        }
      ]
    },
    {
      "cell_type": "code",
      "source": [
        "#AUROC Score\n",
        "rc_roc_auc_score = roc_auc_score(y_test, y_pred_rc)"
      ],
      "metadata": {
        "id": "XdLq0bWPKwLA"
      },
      "execution_count": 34,
      "outputs": []
    },
    {
      "cell_type": "code",
      "source": [
        "rc_roc_auc_score"
      ],
      "metadata": {
        "colab": {
          "base_uri": "https://localhost:8080/"
        },
        "id": "jAfmNdptK5mg",
        "outputId": "05e6f2c7-7304-4fe9-dbbd-b82903752683"
      },
      "execution_count": 35,
      "outputs": [
        {
          "output_type": "execute_result",
          "data": {
            "text/plain": [
              "0.8466853367122457"
            ]
          },
          "metadata": {},
          "execution_count": 35
        }
      ]
    },
    {
      "cell_type": "code",
      "source": [
        "fpr_rc, tpr_rc, thresholds_rc = roc_curve(y_test, y_pred_rc)\n",
        "roc_auc_rc = auc(fpr_rc, tpr_rc)\n",
        "precision_rc, recall_rc, th_rc = precision_recall_curve(y_test, y_pred_rc)"
      ],
      "metadata": {
        "id": "xLFeUFjYK8DT"
      },
      "execution_count": 36,
      "outputs": []
    },
    {
      "cell_type": "code",
      "source": [
        "#AUPRC Score\n",
        "rc_auprc_score = average_precision_score(y_test,y_pred_rc)"
      ],
      "metadata": {
        "id": "-_E52_GmK-2Y"
      },
      "execution_count": 37,
      "outputs": []
    },
    {
      "cell_type": "code",
      "source": [
        "rc_auprc_score"
      ],
      "metadata": {
        "colab": {
          "base_uri": "https://localhost:8080/"
        },
        "id": "04oYnRk5LC6x",
        "outputId": "0d782c5b-b7d9-4843-fabe-592396e83559"
      },
      "execution_count": 38,
      "outputs": [
        {
          "output_type": "execute_result",
          "data": {
            "text/plain": [
              "0.984718251124288"
            ]
          },
          "metadata": {},
          "execution_count": 38
        }
      ]
    },
    {
      "cell_type": "code",
      "source": [
        "#SGD Classifier\n",
        "sgd = SGDClassifier()\n",
        "sgd_fit = sgd.fit(X_train, y_train)\n",
        "y_pred_sgd = sgd_fit.predict(X_test)\n",
        "sgd_accuracy = accuracy_score(y_test, y_pred_sgd)"
      ],
      "metadata": {
        "id": "zP-o80kVLKpc"
      },
      "execution_count": 39,
      "outputs": []
    },
    {
      "cell_type": "code",
      "source": [
        "sgd_accuracy\n"
      ],
      "metadata": {
        "colab": {
          "base_uri": "https://localhost:8080/"
        },
        "id": "DeBT5PovLVJ3",
        "outputId": "e8a0cd25-09e6-4779-fb56-5b1f916ba65f"
      },
      "execution_count": 40,
      "outputs": [
        {
          "output_type": "execute_result",
          "data": {
            "text/plain": [
              "0.9767526599621047"
            ]
          },
          "metadata": {},
          "execution_count": 40
        }
      ]
    },
    {
      "cell_type": "code",
      "source": [
        "print (\"Accuracy: \" + str(accuracy_score(y_pred_sgd, y_test)))\n",
        "print (\"Precision: \" + str(precision_score(y_pred_sgd, y_test)))\n",
        "print (\"Recall: \" + str(recall_score(y_pred_sgd, y_test)))\n",
        "print (\"F1: \" + str(f1_score(y_pred_sgd, y_test)))"
      ],
      "metadata": {
        "colab": {
          "base_uri": "https://localhost:8080/"
        },
        "id": "kZkSprGoLYOE",
        "outputId": "f74426bd-9196-4c2d-b694-e07445b2931d"
      },
      "execution_count": 41,
      "outputs": [
        {
          "output_type": "stream",
          "name": "stdout",
          "text": [
            "Accuracy: 0.9767526599621047\n",
            "Precision: 0.9910159390513138\n",
            "Recall: 0.9846577148870884\n",
            "F1: 0.9878265957717456\n"
          ]
        }
      ]
    },
    {
      "cell_type": "code",
      "source": [
        "confusion_matrix(y_test, y_pred_sgd)"
      ],
      "metadata": {
        "colab": {
          "base_uri": "https://localhost:8080/"
        },
        "id": "PNYBenMOLiI5",
        "outputId": "51c195bc-0af4-453e-e20e-980e7e215a13"
      },
      "execution_count": 42,
      "outputs": [
        {
          "output_type": "execute_result",
          "data": {
            "text/plain": [
              "array([[ 2761,  1210],\n",
              "       [  704, 77657]])"
            ]
          },
          "metadata": {},
          "execution_count": 42
        }
      ]
    },
    {
      "cell_type": "code",
      "source": [
        "print(classification_report(y_test, y_pred_sgd))"
      ],
      "metadata": {
        "colab": {
          "base_uri": "https://localhost:8080/"
        },
        "id": "Exx2v6ADLndI",
        "outputId": "28b11ef9-486a-406f-a364-1f1779906553"
      },
      "execution_count": 43,
      "outputs": [
        {
          "output_type": "stream",
          "name": "stdout",
          "text": [
            "              precision    recall  f1-score   support\n",
            "\n",
            "           0       0.80      0.70      0.74      3971\n",
            "           1       0.98      0.99      0.99     78361\n",
            "\n",
            "    accuracy                           0.98     82332\n",
            "   macro avg       0.89      0.84      0.87     82332\n",
            "weighted avg       0.98      0.98      0.98     82332\n",
            "\n"
          ]
        }
      ]
    },
    {
      "cell_type": "code",
      "source": [
        "#AUROC Score\n",
        "sgd_roc_auc_score = roc_auc_score(y_test, y_pred_sgd)"
      ],
      "metadata": {
        "id": "MI96FhSNLq9T"
      },
      "execution_count": 44,
      "outputs": []
    },
    {
      "cell_type": "code",
      "source": [
        "sgd_roc_auc_score"
      ],
      "metadata": {
        "colab": {
          "base_uri": "https://localhost:8080/"
        },
        "id": "ziaDUXJfLtn5",
        "outputId": "bcf19df0-bc02-4f85-c749-e9b0236d9c79"
      },
      "execution_count": 45,
      "outputs": [
        {
          "output_type": "execute_result",
          "data": {
            "text/plain": [
              "0.8431533988885378"
            ]
          },
          "metadata": {},
          "execution_count": 45
        }
      ]
    },
    {
      "cell_type": "code",
      "source": [
        "fpr_sgd, tpr_sgd, thresholds_sgd = roc_curve(y_test, y_pred_sgd)\n",
        "roc_auc_sgd = auc(fpr_sgd, tpr_sgd)\n",
        "precision_sgd, recall_sgd, th_sgd = precision_recall_curve(y_test, y_pred_sgd)"
      ],
      "metadata": {
        "id": "mTBG9D2DLwEZ"
      },
      "execution_count": 46,
      "outputs": []
    },
    {
      "cell_type": "code",
      "source": [
        "#AUPRC Score\n",
        "sgd_auprc_score = average_precision_score(y_test,y_pred_sgd)"
      ],
      "metadata": {
        "id": "NY_0fhDcLygi"
      },
      "execution_count": 47,
      "outputs": []
    },
    {
      "cell_type": "code",
      "source": [
        "sgd_auprc_score"
      ],
      "metadata": {
        "colab": {
          "base_uri": "https://localhost:8080/"
        },
        "id": "ESwg3GSgL5Aq",
        "outputId": "ec940b6c-89af-4200-d4ba-d22933130fb4"
      },
      "execution_count": 48,
      "outputs": [
        {
          "output_type": "execute_result",
          "data": {
            "text/plain": [
              "0.9843622357240137"
            ]
          },
          "metadata": {},
          "execution_count": 48
        }
      ]
    },
    {
      "cell_type": "code",
      "source": [
        "# Ensanmble Learning\n",
        "import statistics\n",
        "final_pred = np.array([])\n",
        "for i in range(0,len(X_test)):\n",
        "    final_pred = np.append(final_pred, statistics.mode( [y_pred_log[i],y_pred_rc[i], y_pred_sgd[i]]))"
      ],
      "metadata": {
        "id": "S-cCS5bzL-DB"
      },
      "execution_count": 49,
      "outputs": []
    },
    {
      "cell_type": "code",
      "source": [
        "import seaborn\n",
        "import matplotlib.pyplot as plt\n",
        " \n",
        "def plot_confusion_matrix(cm,\n",
        "                          target_names,\n",
        "                          title,\n",
        "                          cmap=None,\n",
        "                          normalize=True):\n",
        "    \n",
        "    \n",
        "    data = cm\n",
        "    labels = target_names\n",
        "    \n",
        "    \"\"\"Plot confusion matrix using heatmap.\n",
        "\n",
        "\n",
        "    Args:\n",
        "        data (list of list): List of lists with confusion matrix data.\n",
        "        labels (list): Labels which will be plotted across x and y axis.\n",
        "        output_filename (str): Path to output file.\n",
        " \n",
        "    \"\"\"\n",
        "    seaborn.set(color_codes=True)\n",
        "    plt.figure(1, figsize=(9, 6))\n",
        " \n",
        "    plt.title(title)\n",
        " \n",
        "    seaborn.set(font_scale=1.4)\n",
        "    ax = seaborn.heatmap(data, annot=True, cmap=\"YlGnBu\", cbar_kws={'label': 'Scale'}, fmt=\".5g\")\n",
        "    ax.set_xticklabels(labels)\n",
        "    ax.set_yticklabels(labels)\n",
        " \n",
        "    accuracy = np.trace(cm) / float(np.sum(cm))\n",
        "    misclass = 1 - accuracy\n",
        "\n",
        "    ax.set(ylabel=\"True Label\", xlabel='Predicted label\\naccuracy={:0.4f}; misclass={:0.4f}'.format(accuracy, misclass))\n",
        "#     plt.savefig(output_filename, bbox_inches='tight', dpi=300)\n",
        "    plt.show()\n",
        "    plt.close()"
      ],
      "metadata": {
        "id": "9QiusujgMDDx"
      },
      "execution_count": 50,
      "outputs": []
    },
    {
      "cell_type": "code",
      "source": [
        "ensamble_accuracy = accuracy_score(final_pred, y_test)"
      ],
      "metadata": {
        "id": "VM3XDqwrMUEh"
      },
      "execution_count": 51,
      "outputs": []
    },
    {
      "cell_type": "code",
      "source": [
        "ensamble_accuracy"
      ],
      "metadata": {
        "colab": {
          "base_uri": "https://localhost:8080/"
        },
        "id": "xKmWii7eMXsP",
        "outputId": "9f2a2035-8463-4981-f144-efc18ed28418"
      },
      "execution_count": 52,
      "outputs": [
        {
          "output_type": "execute_result",
          "data": {
            "text/plain": [
              "0.9717849681776223"
            ]
          },
          "metadata": {},
          "execution_count": 52
        }
      ]
    },
    {
      "cell_type": "code",
      "source": [
        "print (\"Accuracy: \" + str(accuracy_score(final_pred, y_test)))\n",
        "print (\"Precision: \" + str(precision_score(final_pred, y_test)))\n",
        "print (\"Recall: \" + str(recall_score(final_pred, y_test)))\n",
        "print (\"F1: \" + str(f1_score(final_pred, y_test)))"
      ],
      "metadata": {
        "colab": {
          "base_uri": "https://localhost:8080/"
        },
        "id": "FK0zlix8MYqR",
        "outputId": "9323f0b7-889d-4806-f0d7-8cdd00743b2f"
      },
      "execution_count": 53,
      "outputs": [
        {
          "output_type": "stream",
          "name": "stdout",
          "text": [
            "Accuracy: 0.9717849681776223\n",
            "Precision: 0.9850818647031049\n",
            "Recall: 0.9852704669032242\n",
            "F1: 0.9851761567766596\n"
          ]
        }
      ]
    },
    {
      "cell_type": "code",
      "source": [
        "fpr_en, tpr_en, thresholds_en = roc_curve(y_test, final_pred)\n",
        "roc_auc_en = auc(fpr_en, tpr_en)\n",
        "precision_en, recall_en, th_en = precision_recall_curve(y_test, final_pred)"
      ],
      "metadata": {
        "id": "ZJdmFgpxNQ-F"
      },
      "execution_count": 54,
      "outputs": []
    },
    {
      "cell_type": "code",
      "source": [
        "roc_auc_en"
      ],
      "metadata": {
        "colab": {
          "base_uri": "https://localhost:8080/"
        },
        "id": "zTkoWLO_NTpb",
        "outputId": "cee72b5a-84a2-4ec8-de59-bb7813808dd5"
      },
      "execution_count": 55,
      "outputs": [
        {
          "output_type": "execute_result",
          "data": {
            "text/plain": [
              "0.8472374823389612"
            ]
          },
          "metadata": {},
          "execution_count": 55
        }
      ]
    },
    {
      "cell_type": "code",
      "source": [
        "plot_confusion_matrix(cm = confusion_matrix(y_test, final_pred, labels=[0,1]), \n",
        "                      normalize    = False,\n",
        "                      target_names = [0,1],\n",
        "                      title        = \"Binary Classification\")"
      ],
      "metadata": {
        "colab": {
          "base_uri": "https://localhost:8080/",
          "height": 425
        },
        "id": "3Ljuk7CYNZf8",
        "outputId": "095a2aca-2faa-47fc-a38e-dadec5dcfd1e"
      },
      "execution_count": 56,
      "outputs": [
        {
          "output_type": "display_data",
          "data": {
            "text/plain": [
              "<Figure size 648x432 with 2 Axes>"
            ],
            "image/png": "[encoded data removed]"
          },
          "metadata": {}
        }
      ]
    },
    {
      "cell_type": "code",
      "source": [
        "# Plot ROC curve\n",
        "plt.plot([0, 1], [0, 1], 'k--')\n",
        "plt.plot(fpr_lr, tpr_lr, label='Log Reg (area = %0.3f)' % roc_auc_lr)\n",
        "plt.plot(fpr_rc, tpr_rc, label='Ridge Classifier (area = %0.3f)' % roc_auc_rc)\n",
        "plt.plot(fpr_sgd, tpr_sgd, label='SGD (area = %0.3f)' % roc_auc_sgd)\n",
        "plt.plot(fpr_en, tpr_en, label='Ensemble (area = %0.3f)' % roc_auc_en)\n",
        "plt.xlabel('False Positive Rate')\n",
        "plt.ylabel('True Positive Rate')\n",
        "plt.title('ROC curves from the investigated models')\n",
        "plt.legend(loc='best')\n",
        "plt.show()"
      ],
      "metadata": {
        "colab": {
          "base_uri": "https://localhost:8080/",
          "height": 315
        },
        "id": "edIpO4dvNeJK",
        "outputId": "b00ac470-755a-4ad0-9d08-b544865afa8f"
      },
      "execution_count": 57,
      "outputs": [
        {
          "output_type": "display_data",
          "data": {
            "text/plain": [
              "<Figure size 432x288 with 1 Axes>"
            ],
            "image/png": "[encoded data removed]"
          },
          "metadata": {}
        }
      ]
    },
    {
      "cell_type": "code",
      "source": [
        "plt.plot([1, 0], [0, 1], 'k--')\n",
        "plt.plot(recall_lr, precision_lr, label='Log Reg')\n",
        "plt.plot(recall_rc, precision_rc, label='Ridge Classifier')\n",
        "plt.plot(recall_sgd, precision_sgd, label='SGD')\n",
        "plt.plot(recall_en, precision_en, label='Ensemble')\n",
        "plt.title('Precision vs. Recall')\n",
        "plt.xlabel('Recall')\n",
        "plt.ylabel('Precision')\n",
        "plt.legend(loc='best')\n",
        "plt.show()"
      ],
      "metadata": {
        "colab": {
          "base_uri": "https://localhost:8080/",
          "height": 315
        },
        "id": "cCLFMqj_NjPN",
        "outputId": "54eb62a7-55ad-49a4-89b9-ffea384b9559"
      },
      "execution_count": 58,
      "outputs": [
        {
          "output_type": "display_data",
          "data": {
            "text/plain": [
              "<Figure size 432x288 with 1 Axes>"
            ],
            "image/png": "[encoded data removed]"
          },
          "metadata": {}
        }
      ]
    },
    {
      "cell_type": "code",
      "source": [
        "import numpy as np\n",
        "\n",
        "def plot_learning_curve(estimator, title, X, y, ylim = None, cv=None, scoring=None, obj_line=None,\n",
        "                        n_jobs=1, train_sizes=np.linspace(.1, 1.0, 5)):\n",
        "    \"\"\"\n",
        "    Generate a simple plot of the test and training learning curve.\n",
        "\n",
        "    Parameters\n",
        "    ----------\n",
        "    estimator : object type that implements the \"fit\" and \"predict\" methods\n",
        "        An object of that type which is cloned for each validation.\n",
        "\n",
        "        title : string\n",
        "        Title for the chart.\n",
        "\n",
        "    X : array-like, shape (n_samples, n_features)\n",
        "        Training vector, where n_samples is the number of samples and\n",
        "        n_features is the number of features.\n",
        "\n",
        "    y : array-like, shape (n_samples) or (n_samples, n_features), optional\n",
        "        Target relative to X for classification or regression;\n",
        "        None for unsupervised learning.\n",
        "\n",
        "    ylim : tuple, shape (ymin, ymax), optional\n",
        "        Defines minimum and maximum yvalues plotted.\n",
        "\n",
        "        cv : int, cross-validation generator or an iterable, optional\n",
        "        Determines the cross-validation splitting strategy.\n",
        "        Possible inputs for cv are:\n",
        "          - None, to use the default 3-fold cross-validation,\n",
        "          - integer, to specify the number of folds.\n",
        "          - An object to be used as a cross-validation generator.\n",
        "          - An iterable yielding train/test splits.\n",
        "\n",
        "        For integer/None inputs, if ``y`` is binary or multiclass,\n",
        "        :class:`StratifiedKFold` used. If the estimator is not a classifier\n",
        "        or if ``y`` is neither binary nor multiclass, :class:`KFold` is used.\n",
        "\n",
        "         Refer :ref:`User Guide <cross_validation>` for the various\n",
        "        cross-validators that can be used here.\n",
        "\n",
        "    scoring : string, callable or None, optional, default: None\n",
        "              A string (see model evaluation documentation)\n",
        "              or a scorer callable object / function with signature scorer(estimator, X, y)\n",
        "              For Python 3.5 the documentation is here:\n",
        "              http://scikit-learn.org/stable/modules/model_evaluation.html#scoring-parameter\n",
        "\n",
        "              For example, Log Loss is specified as 'neg_log_loss'\n",
        "\n",
        "    obj_line : numeric or None (default: None)\n",
        "               draw a horizontal line\n",
        "\n",
        "\n",
        "    n_jobs : integer, optional\n",
        "        Number of jobs to run in parallel (default 1).\n",
        "\n",
        "        Citation\n",
        "    --------\n",
        "        http://scikit-learn.org/stable/auto_examples/model_selection/plot_learning_curve.html\n",
        "\n",
        "    Usage\n",
        "    -----\n",
        "        plot_learning_curve(estimator = best_estimator,\n",
        "                            title     = best_estimator_title,\n",
        "                            X         = X_train,\n",
        "                            y         = y_train,\n",
        "                            Ylim      = (-1.1, 0.1), # neg_log_loss is negative\n",
        "                            cv        = StatifiedCV, # CV generator\n",
        "                            scoring   = scoring,     # eg., 'neg_log_loss'\n",
        "                            obj_line  = obj_line,    # horizontal line\n",
        "                            n_jobs    = n_jobs)      # how many CPUs\n",
        "\n",
        "  plt.show()\n",
        "    \"\"\"\n",
        "    from sklearn.model_selection import learning_curve\n",
        "    import numpy as np\n",
        "    from matplotlib import pyplot as plt\n",
        "\n",
        "    plt.figure()\n",
        "    plt.title(title)\n",
        "    if ylim is not None:\n",
        "        plt.ylim(*ylim)\n",
        "    plt.xlabel(\"Training examples\")\n",
        "    plt.ylabel(\"Score\")\n",
        "    train_sizes, train_scores, test_scores = learning_curve(\n",
        "        estimator, X, y, cv=cv, scoring=scoring, n_jobs=n_jobs, train_sizes=train_sizes)\n",
        "    train_scores_mean = np.mean(train_scores, axis=1)\n",
        "    train_scores_std = np.std(train_scores, axis=1)\n",
        "    test_scores_mean = np.mean(test_scores, axis=1)\n",
        "    test_scores_std = np.std(test_scores, axis=1)\n",
        "    plt.grid()\n",
        "\n",
        "    plt.fill_between(train_sizes, train_scores_mean - train_scores_std,\n",
        "                     train_scores_mean + train_scores_std, alpha=0.1,                     color=\"r\")\n",
        "    plt.fill_between(train_sizes, test_scores_mean - test_scores_std,\n",
        "                     test_scores_mean + test_scores_std, alpha=0.1, color=\"g\")\n",
        "    plt.plot(train_sizes, train_scores_mean, 'o-', color=\"r\",\n",
        "             label=\"Training score\")\n",
        "    plt.plot(train_sizes, test_scores_mean, 'o-', color=\"g\",\n",
        "             label=\"Cross-validation score\")\n",
        "\n",
        "    if obj_line:\n",
        "        plt.axhline(y=obj_line, color='blue')\n",
        "\n",
        "    plt.legend(loc=\"best\")\n",
        "    return plt\n",
        "\n"
      ],
      "metadata": {
        "id": "K_kwoAqWNoLK"
      },
      "execution_count": 59,
      "outputs": []
    },
    {
      "cell_type": "code",
      "source": [
        "from sklearn.model_selection import ShuffleSplit\n",
        "from sklearn.model_selection import StratifiedKFold"
      ],
      "metadata": {
        "id": "JH2WcZRzUtLo"
      },
      "execution_count": 60,
      "outputs": []
    },
    {
      "cell_type": "code",
      "source": [
        "X, y = X_train, y_train\n",
        "\n",
        "estimator = LogisticRegression(solver = \"liblinear\")\n",
        "plot_learning_curve(estimator = estimator,\n",
        "                    title     = \"Learning Curves (Log Regression)\",\n",
        "                    X         = X,\n",
        "                    y         = y,\n",
        "                    ylim      = (0.5, 1.1),\n",
        "                    cv        = StratifiedKFold(),\n",
        "                    scoring   = 'accuracy',     \n",
        "                    obj_line  = 0.90,    \n",
        "                    n_jobs    = -1)  \n",
        "plt.show()"
      ],
      "metadata": {
        "id": "9Q5tJxUBUw4n",
        "colab": {
          "base_uri": "https://localhost:8080/",
          "height": 315
        },
        "outputId": "25243b7e-e3e3-464c-963d-de0f5df27f09"
      },
      "execution_count": 61,
      "outputs": [
        {
          "output_type": "display_data",
          "data": {
            "text/plain": [
              "<Figure size 432x288 with 1 Axes>"
            ],
            "image/png": "[encoded data removed]"
          },
          "metadata": {}
        }
      ]
    },
    {
      "cell_type": "code",
      "source": [
        "estimator = SGDClassifier()\n",
        "plot_learning_curve(estimator = estimator,\n",
        "                    title     = \"Learning Curves (SGD)\",\n",
        "                    X         = X,\n",
        "                    y         = y,\n",
        "                    ylim      = (0.5, 1.1),\n",
        "                    cv        = StratifiedKFold(),\n",
        "                    scoring   = 'accuracy',     \n",
        "                    obj_line  = 0.90,    \n",
        "                    n_jobs    = -1)  \n",
        "plt.show()\n"
      ],
      "metadata": {
        "id": "esa04qfSU6AG",
        "colab": {
          "base_uri": "https://localhost:8080/",
          "height": 315
        },
        "outputId": "138fd8ad-4fd6-48e3-8de5-5e6de1218d94"
      },
      "execution_count": 62,
      "outputs": [
        {
          "output_type": "display_data",
          "data": {
            "text/plain": [
              "<Figure size 432x288 with 1 Axes>"
            ],
            "image/png": "[encoded data removed]"
          },
          "metadata": {}
        }
      ]
    },
    {
      "cell_type": "code",
      "source": [
        "estimator = RidgeClassifier()\n",
        "plot_learning_curve(estimator = estimator,\n",
        "                    title     = \"Learning Curves (Ridge classifier)\",\n",
        "                    X         = X,\n",
        "                    y         = y,\n",
        "                    ylim      = (0.5, 1.1),\n",
        "                    cv        = StratifiedKFold(),\n",
        "                    scoring   = 'accuracy',     \n",
        "                    obj_line  = 0.90,    \n",
        "                    n_jobs    = -1)  \n",
        "plt.show()"
      ],
      "metadata": {
        "id": "jCPSup5cVWpC",
        "colab": {
          "base_uri": "https://localhost:8080/",
          "height": 315
        },
        "outputId": "9d1cbd03-bc75-4e6f-ad7d-4b8257952aab"
      },
      "execution_count": 63,
      "outputs": [
        {
          "output_type": "display_data",
          "data": {
            "text/plain": [
              "<Figure size 432x288 with 1 Axes>"
            ],
            "image/png": "[encoded data removed]"
          },
          "metadata": {}
        }
      ]
    }
  ]
}